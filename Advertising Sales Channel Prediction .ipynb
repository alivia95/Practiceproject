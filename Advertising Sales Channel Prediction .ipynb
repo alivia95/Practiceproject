{
 "cells": [
  {
   "cell_type": "markdown",
   "id": "957d675b",
   "metadata": {},
   "source": [
    "# Importing the required libraries"
   ]
  },
  {
   "cell_type": "code",
   "execution_count": 1,
   "id": "c063937e",
   "metadata": {},
   "outputs": [],
   "source": [
    "#importing pandas and numpy library\n",
    "import pandas as pd\n",
    "import numpy as np"
   ]
  },
  {
   "cell_type": "code",
   "execution_count": 2,
   "id": "0a309981",
   "metadata": {},
   "outputs": [
    {
     "data": {
      "text/html": [
       "<div>\n",
       "<style scoped>\n",
       "    .dataframe tbody tr th:only-of-type {\n",
       "        vertical-align: middle;\n",
       "    }\n",
       "\n",
       "    .dataframe tbody tr th {\n",
       "        vertical-align: top;\n",
       "    }\n",
       "\n",
       "    .dataframe thead th {\n",
       "        text-align: right;\n",
       "    }\n",
       "</style>\n",
       "<table border=\"1\" class=\"dataframe\">\n",
       "  <thead>\n",
       "    <tr style=\"text-align: right;\">\n",
       "      <th></th>\n",
       "      <th>Unnamed: 0</th>\n",
       "      <th>TV</th>\n",
       "      <th>radio</th>\n",
       "      <th>newspaper</th>\n",
       "      <th>sales</th>\n",
       "    </tr>\n",
       "  </thead>\n",
       "  <tbody>\n",
       "    <tr>\n",
       "      <th>0</th>\n",
       "      <td>1</td>\n",
       "      <td>230.1</td>\n",
       "      <td>37.8</td>\n",
       "      <td>69.2</td>\n",
       "      <td>22.1</td>\n",
       "    </tr>\n",
       "    <tr>\n",
       "      <th>1</th>\n",
       "      <td>2</td>\n",
       "      <td>44.5</td>\n",
       "      <td>39.3</td>\n",
       "      <td>45.1</td>\n",
       "      <td>10.4</td>\n",
       "    </tr>\n",
       "    <tr>\n",
       "      <th>2</th>\n",
       "      <td>3</td>\n",
       "      <td>17.2</td>\n",
       "      <td>45.9</td>\n",
       "      <td>69.3</td>\n",
       "      <td>9.3</td>\n",
       "    </tr>\n",
       "    <tr>\n",
       "      <th>3</th>\n",
       "      <td>4</td>\n",
       "      <td>151.5</td>\n",
       "      <td>41.3</td>\n",
       "      <td>58.5</td>\n",
       "      <td>18.5</td>\n",
       "    </tr>\n",
       "    <tr>\n",
       "      <th>4</th>\n",
       "      <td>5</td>\n",
       "      <td>180.8</td>\n",
       "      <td>10.8</td>\n",
       "      <td>58.4</td>\n",
       "      <td>12.9</td>\n",
       "    </tr>\n",
       "    <tr>\n",
       "      <th>...</th>\n",
       "      <td>...</td>\n",
       "      <td>...</td>\n",
       "      <td>...</td>\n",
       "      <td>...</td>\n",
       "      <td>...</td>\n",
       "    </tr>\n",
       "    <tr>\n",
       "      <th>195</th>\n",
       "      <td>196</td>\n",
       "      <td>38.2</td>\n",
       "      <td>3.7</td>\n",
       "      <td>13.8</td>\n",
       "      <td>7.6</td>\n",
       "    </tr>\n",
       "    <tr>\n",
       "      <th>196</th>\n",
       "      <td>197</td>\n",
       "      <td>94.2</td>\n",
       "      <td>4.9</td>\n",
       "      <td>8.1</td>\n",
       "      <td>9.7</td>\n",
       "    </tr>\n",
       "    <tr>\n",
       "      <th>197</th>\n",
       "      <td>198</td>\n",
       "      <td>177.0</td>\n",
       "      <td>9.3</td>\n",
       "      <td>6.4</td>\n",
       "      <td>12.8</td>\n",
       "    </tr>\n",
       "    <tr>\n",
       "      <th>198</th>\n",
       "      <td>199</td>\n",
       "      <td>283.6</td>\n",
       "      <td>42.0</td>\n",
       "      <td>66.2</td>\n",
       "      <td>25.5</td>\n",
       "    </tr>\n",
       "    <tr>\n",
       "      <th>199</th>\n",
       "      <td>200</td>\n",
       "      <td>232.1</td>\n",
       "      <td>8.6</td>\n",
       "      <td>8.7</td>\n",
       "      <td>13.4</td>\n",
       "    </tr>\n",
       "  </tbody>\n",
       "</table>\n",
       "<p>200 rows × 5 columns</p>\n",
       "</div>"
      ],
      "text/plain": [
       "     Unnamed: 0     TV  radio  newspaper  sales\n",
       "0             1  230.1   37.8       69.2   22.1\n",
       "1             2   44.5   39.3       45.1   10.4\n",
       "2             3   17.2   45.9       69.3    9.3\n",
       "3             4  151.5   41.3       58.5   18.5\n",
       "4             5  180.8   10.8       58.4   12.9\n",
       "..          ...    ...    ...        ...    ...\n",
       "195         196   38.2    3.7       13.8    7.6\n",
       "196         197   94.2    4.9        8.1    9.7\n",
       "197         198  177.0    9.3        6.4   12.8\n",
       "198         199  283.6   42.0       66.2   25.5\n",
       "199         200  232.1    8.6        8.7   13.4\n",
       "\n",
       "[200 rows x 5 columns]"
      ]
     },
     "execution_count": 2,
     "metadata": {},
     "output_type": "execute_result"
    }
   ],
   "source": [
    "#importing advertising Sales Channel dataset from Github and using CSv method to read the dataframe\n",
    "df=pd.read_csv(\"https://raw.githubusercontent.com/dsrscientist/DSData/master/Advertising.csv\")\n",
    "df"
   ]
  },
  {
   "cell_type": "code",
   "execution_count": 3,
   "id": "12d92172",
   "metadata": {},
   "outputs": [
    {
     "data": {
      "text/plain": [
       "Unnamed: 0    0\n",
       "TV            0\n",
       "radio         0\n",
       "newspaper     0\n",
       "sales         0\n",
       "dtype: int64"
      ]
     },
     "execution_count": 3,
     "metadata": {},
     "output_type": "execute_result"
    }
   ],
   "source": [
    "#checking the null values in the dataset\n",
    "df.isnull().sum()"
   ]
  },
  {
   "cell_type": "markdown",
   "id": "676cb9a2",
   "metadata": {},
   "source": [
    "There are no null values present in the dataframe"
   ]
  },
  {
   "cell_type": "code",
   "execution_count": 4,
   "id": "f59c4eea",
   "metadata": {},
   "outputs": [
    {
     "data": {
      "text/plain": [
       "Index(['Unnamed: 0', 'TV', 'radio', 'newspaper', 'sales'], dtype='object')"
      ]
     },
     "execution_count": 4,
     "metadata": {},
     "output_type": "execute_result"
    }
   ],
   "source": [
    "#checking what are the columns present in the dataset\n",
    "df.columns"
   ]
  },
  {
   "cell_type": "markdown",
   "id": "14ef18f7",
   "metadata": {},
   "source": [
    "# Dataframe desciptionn"
   ]
  },
  {
   "cell_type": "markdown",
   "id": "ce319acc",
   "metadata": {},
   "source": [
    "The dataset given here contains the data about the sales of the product. The dataset is about the advertising cost incurred by the business on various advertising platforms. Below is the description of all the columns in the dataset:\n",
    "1. TV: Advertising cost spent in dollars for advertising on TV;\n",
    "2. Radio: Advertising cost spent in dollars for advertising on Radio;\n",
    "3. Newspaper: Advertising cost spent in dollars for advertising on Newspaper;\n",
    "4. Sales: Number of units sold;\n",
    "\n",
    "So, in the above dataset, the sales of the product depend on the advertisement cost of the product. "
   ]
  },
  {
   "cell_type": "code",
   "execution_count": 5,
   "id": "d473c8be",
   "metadata": {},
   "outputs": [
    {
     "data": {
      "text/plain": [
       "Unnamed: 0      int64\n",
       "TV            float64\n",
       "radio         float64\n",
       "newspaper     float64\n",
       "sales         float64\n",
       "dtype: object"
      ]
     },
     "execution_count": 5,
     "metadata": {},
     "output_type": "execute_result"
    }
   ],
   "source": [
    "#checking the datatypes of the columns\n",
    "df.dtypes"
   ]
  },
  {
   "cell_type": "markdown",
   "id": "2db1c863",
   "metadata": {},
   "source": [
    "As we can see except the columnn \"Unnamed\" all the other columns are in float datatypes. The column \"unnamed\" is of integer datatype"
   ]
  },
  {
   "cell_type": "code",
   "execution_count": 6,
   "id": "4e5138a6",
   "metadata": {},
   "outputs": [
    {
     "data": {
      "text/plain": [
       "Index(['Unnamed: 0', 'TV', 'radio', 'newspaper', 'sales'], dtype='object')"
      ]
     },
     "execution_count": 6,
     "metadata": {},
     "output_type": "execute_result"
    }
   ],
   "source": [
    "# Making dataframe for the nominal data\n",
    "df_visualization_nominal=df[['Unnamed: 0', 'TV', 'radio', 'newspaper', 'sales']].copy()\n",
    "df_visualization_nominal.columns"
   ]
  },
  {
   "cell_type": "markdown",
   "id": "b6a5ef77",
   "metadata": {},
   "source": [
    "# Presenting data visualization"
   ]
  },
  {
   "cell_type": "markdown",
   "id": "e926fc90",
   "metadata": {},
   "source": [
    "For the nominal category of data, using the countplot as it will give the frequency of the classes of the columns"
   ]
  },
  {
   "cell_type": "code",
   "execution_count": 7,
   "id": "0f8599a6",
   "metadata": {},
   "outputs": [],
   "source": [
    "#importing Seaborn library for the plot distribution visualization\n",
    "import seaborn as sns"
   ]
  },
  {
   "cell_type": "code",
   "execution_count": 8,
   "id": "60a41ee4",
   "metadata": {},
   "outputs": [
    {
     "name": "stdout",
     "output_type": "stream",
     "text": [
      "1      1\n",
      "138    1\n",
      "128    1\n",
      "129    1\n",
      "130    1\n",
      "      ..\n",
      "70     1\n",
      "71     1\n",
      "72     1\n",
      "73     1\n",
      "200    1\n",
      "Name: Unnamed: 0, Length: 200, dtype: int64\n"
     ]
    },
    {
     "data": {
      "image/png": "[encoded data removed]",
      "text/plain": [
       "<Figure size 432x288 with 1 Axes>"
      ]
     },
     "metadata": {
      "needs_background": "light"
     },
     "output_type": "display_data"
    }
   ],
   "source": [
    "bx = sns.countplot(x=\"Unnamed: 0\", data=df_visualization_nominal)\n",
    "print(df_visualization_nominal[\"Unnamed: 0\"].value_counts())"
   ]
  },
  {
   "cell_type": "code",
   "execution_count": 10,
   "id": "8c03593e",
   "metadata": {},
   "outputs": [
    {
     "name": "stdout",
     "output_type": "stream",
     "text": [
      "199.8    2\n",
      "109.8    2\n",
      "17.2     2\n",
      "177.0    2\n",
      "222.4    2\n",
      "        ..\n",
      "139.3    1\n",
      "216.8    1\n",
      "199.1    1\n",
      "26.8     1\n",
      "232.1    1\n",
      "Name: TV, Length: 190, dtype: int64\n"
     ]
    },
    {
     "data": {
      "image/png": "[encoded data removed]",
      "text/plain": [
       "<Figure size 432x288 with 1 Axes>"
      ]
     },
     "metadata": {
      "needs_background": "light"
     },
     "output_type": "display_data"
    }
   ],
   "source": [
    "bx = sns.countplot(x=\"TV\", data=df_visualization_nominal)\n",
    "print(df_visualization_nominal[\"TV\"].value_counts())"
   ]
  },
  {
   "cell_type": "code",
   "execution_count": 12,
   "id": "5343c441",
   "metadata": {},
   "outputs": [
    {
     "name": "stdout",
     "output_type": "stream",
     "text": [
      "4.1     3\n",
      "5.7     3\n",
      "13.9    2\n",
      "14.3    2\n",
      "36.9    2\n",
      "       ..\n",
      "42.8    1\n",
      "14.5    1\n",
      "30.6    1\n",
      "33.0    1\n",
      "8.6     1\n",
      "Name: radio, Length: 167, dtype: int64\n"
     ]
    },
    {
     "data": {
      "image/png": "[encoded data removed]",
      "text/plain": [
       "<Figure size 432x288 with 1 Axes>"
      ]
     },
     "metadata": {
      "needs_background": "light"
     },
     "output_type": "display_data"
    }
   ],
   "source": [
    "bx = sns.countplot(x=\"radio\", data=df_visualization_nominal)\n",
    "print(df_visualization_nominal[\"radio\"].value_counts())"
   ]
  },
  {
   "cell_type": "code",
   "execution_count": 13,
   "id": "3a175f42",
   "metadata": {},
   "outputs": [
    {
     "name": "stdout",
     "output_type": "stream",
     "text": [
      "9.3     3\n",
      "25.6    3\n",
      "8.7     3\n",
      "34.6    2\n",
      "8.5     2\n",
      "       ..\n",
      "27.2    1\n",
      "31.7    1\n",
      "19.3    1\n",
      "31.3    1\n",
      "66.2    1\n",
      "Name: newspaper, Length: 172, dtype: int64\n"
     ]
    },
    {
     "data": {
      "image/png": "[encoded data removed]",
      "text/plain": [
       "<Figure size 432x288 with 1 Axes>"
      ]
     },
     "metadata": {
      "needs_background": "light"
     },
     "output_type": "display_data"
    }
   ],
   "source": [
    "bx = sns.countplot(x=\"newspaper\", data=df_visualization_nominal)\n",
    "print(df_visualization_nominal[\"newspaper\"].value_counts())"
   ]
  },
  {
   "cell_type": "code",
   "execution_count": 14,
   "id": "4b8b16b9",
   "metadata": {},
   "outputs": [
    {
     "name": "stdout",
     "output_type": "stream",
     "text": [
      "9.7     5\n",
      "11.7    4\n",
      "12.9    4\n",
      "15.9    4\n",
      "20.7    3\n",
      "       ..\n",
      "17.0    1\n",
      "18.3    1\n",
      "22.3    1\n",
      "14.0    1\n",
      "25.5    1\n",
      "Name: sales, Length: 121, dtype: int64\n"
     ]
    },
    {
     "data": {
      "image/png": "[encoded data removed]",
      "text/plain": [
       "<Figure size 432x288 with 1 Axes>"
      ]
     },
     "metadata": {
      "needs_background": "light"
     },
     "output_type": "display_data"
    }
   ],
   "source": [
    "bx = sns.countplot(x=\"sales\", data=df_visualization_nominal)\n",
    "print(df_visualization_nominal[\"sales\"].value_counts())"
   ]
  },
  {
   "cell_type": "markdown",
   "id": "6da37d66",
   "metadata": {},
   "source": [
    "Scatter plot representation present the relationship between two variables in a data-set. It represents data points on a two-dimensional plane or on a Cartesian system."
   ]
  },
  {
   "cell_type": "code",
   "execution_count": 15,
   "id": "cb291942",
   "metadata": {},
   "outputs": [
    {
     "data": {
      "text/plain": [
       "<AxesSubplot:xlabel='Unnamed: 0', ylabel='sales'>"
      ]
     },
     "execution_count": 15,
     "metadata": {},
     "output_type": "execute_result"
    },
    {
     "data": {
      "image/png": "[encoded data removed]",
      "text/plain": [
       "<Figure size 432x288 with 1 Axes>"
      ]
     },
     "metadata": {
      "needs_background": "light"
     },
     "output_type": "display_data"
    }
   ],
   "source": [
    "#taking the target variable as \"sales\" since we have to predict the total sales generated from all the sales channel.  \n",
    "sns.scatterplot(x=\"Unnamed: 0\",y=\"sales\",data=df)"
   ]
  },
  {
   "cell_type": "code",
   "execution_count": 16,
   "id": "a805b737",
   "metadata": {},
   "outputs": [
    {
     "data": {
      "text/plain": [
       "<AxesSubplot:xlabel='TV', ylabel='sales'>"
      ]
     },
     "execution_count": 16,
     "metadata": {},
     "output_type": "execute_result"
    },
    {
     "data": {
      "image/png": "[encoded data removed]",
      "text/plain": [
       "<Figure size 432x288 with 1 Axes>"
      ]
     },
     "metadata": {
      "needs_background": "light"
     },
     "output_type": "display_data"
    }
   ],
   "source": [
    "sns.scatterplot(x=\"TV\",y=\"sales\",data=df)"
   ]
  },
  {
   "cell_type": "code",
   "execution_count": 17,
   "id": "05186941",
   "metadata": {},
   "outputs": [
    {
     "data": {
      "text/plain": [
       "<AxesSubplot:xlabel='newspaper', ylabel='sales'>"
      ]
     },
     "execution_count": 17,
     "metadata": {},
     "output_type": "execute_result"
    },
    {
     "data": {
      "image/png": "[encoded data removed]",
      "text/plain": [
       "<Figure size 432x288 with 1 Axes>"
      ]
     },
     "metadata": {
      "needs_background": "light"
     },
     "output_type": "display_data"
    }
   ],
   "source": [
    "sns.scatterplot(x=\"newspaper\",y=\"sales\",data=df)"
   ]
  },
  {
   "cell_type": "code",
   "execution_count": 18,
   "id": "2751f07b",
   "metadata": {},
   "outputs": [
    {
     "data": {
      "text/plain": [
       "<AxesSubplot:xlabel='radio', ylabel='sales'>"
      ]
     },
     "execution_count": 18,
     "metadata": {},
     "output_type": "execute_result"
    },
    {
     "data": {
      "image/png": "[encoded data removed]",
      "text/plain": [
       "<Figure size 432x288 with 1 Axes>"
      ]
     },
     "metadata": {
      "needs_background": "light"
     },
     "output_type": "display_data"
    }
   ],
   "source": [
    "sns.scatterplot(x=\"radio\",y=\"sales\",data=df)"
   ]
  },
  {
   "cell_type": "markdown",
   "id": "30050cd5",
   "metadata": {},
   "source": [
    "A bar plot is a plot that presents categorical data with rectangular bars with lengths proportional to the values that they represent. "
   ]
  },
  {
   "cell_type": "code",
   "execution_count": 21,
   "id": "b9d1abfa",
   "metadata": {},
   "outputs": [
    {
     "data": {
      "text/plain": [
       "<AxesSubplot:>"
      ]
     },
     "execution_count": 21,
     "metadata": {},
     "output_type": "execute_result"
    },
    {
     "data": {
      "image/png": "[encoded data removed]",
      "text/plain": [
       "<Figure size 432x288 with 1 Axes>"
      ]
     },
     "metadata": {
      "needs_background": "light"
     },
     "output_type": "display_data"
    }
   ],
   "source": [
    "df.plot.bar()"
   ]
  },
  {
   "cell_type": "markdown",
   "id": "89a92193",
   "metadata": {},
   "source": [
    "To find the bar plor reprsentation of each column with the target column"
   ]
  },
  {
   "cell_type": "code",
   "execution_count": 22,
   "id": "bd12c7d8",
   "metadata": {},
   "outputs": [
    {
     "data": {
      "text/plain": [
       "<AxesSubplot:xlabel='radio'>"
      ]
     },
     "execution_count": 22,
     "metadata": {},
     "output_type": "execute_result"
    },
    {
     "data": {
      "image/png": "[encoded data removed]",
      "text/plain": [
       "<Figure size 432x288 with 1 Axes>"
      ]
     },
     "metadata": {
      "needs_background": "light"
     },
     "output_type": "display_data"
    }
   ],
   "source": [
    " #taking the target column sales since we have to predict the total sales genrated from all the sales channel\n",
    "df.plot(x=\"radio\",y=\"sales\",kind='bar') "
   ]
  },
  {
   "cell_type": "code",
   "execution_count": 24,
   "id": "d51ae569",
   "metadata": {},
   "outputs": [
    {
     "data": {
      "text/plain": [
       "<AxesSubplot:xlabel='Unnamed: 0'>"
      ]
     },
     "execution_count": 24,
     "metadata": {},
     "output_type": "execute_result"
    },
    {
     "data": {
      "image/png": "[encoded data removed]",
      "text/plain": [
       "<Figure size 432x288 with 1 Axes>"
      ]
     },
     "metadata": {
      "needs_background": "light"
     },
     "output_type": "display_data"
    }
   ],
   "source": [
    "df.plot(x=\"Unnamed: 0\",y=\"sales\",kind='bar')"
   ]
  },
  {
   "cell_type": "code",
   "execution_count": 25,
   "id": "e18731b9",
   "metadata": {},
   "outputs": [
    {
     "data": {
      "text/plain": [
       "<AxesSubplot:xlabel='newspaper'>"
      ]
     },
     "execution_count": 25,
     "metadata": {},
     "output_type": "execute_result"
    },
    {
     "data": {
      "image/png": "[encoded data removed]",
      "text/plain": [
       "<Figure size 432x288 with 1 Axes>"
      ]
     },
     "metadata": {
      "needs_background": "light"
     },
     "output_type": "display_data"
    }
   ],
   "source": [
    "df.plot(x=\"newspaper\",y=\"sales\",kind='bar')"
   ]
  },
  {
   "cell_type": "code",
   "execution_count": 26,
   "id": "d7bca30b",
   "metadata": {},
   "outputs": [
    {
     "data": {
      "text/plain": [
       "<AxesSubplot:xlabel='TV'>"
      ]
     },
     "execution_count": 26,
     "metadata": {},
     "output_type": "execute_result"
    },
    {
     "data": {
      "image/png": "[encoded data removed]",
      "text/plain": [
       "<Figure size 432x288 with 1 Axes>"
      ]
     },
     "metadata": {
      "needs_background": "light"
     },
     "output_type": "display_data"
    }
   ],
   "source": [
    "df.plot(x=\"TV\",y=\"sales\",kind='bar')"
   ]
  },
  {
   "cell_type": "code",
   "execution_count": 31,
   "id": "ee3d466b",
   "metadata": {},
   "outputs": [
    {
     "data": {
      "text/html": [
       "<div>\n",
       "<style scoped>\n",
       "    .dataframe tbody tr th:only-of-type {\n",
       "        vertical-align: middle;\n",
       "    }\n",
       "\n",
       "    .dataframe tbody tr th {\n",
       "        vertical-align: top;\n",
       "    }\n",
       "\n",
       "    .dataframe thead th {\n",
       "        text-align: right;\n",
       "    }\n",
       "</style>\n",
       "<table border=\"1\" class=\"dataframe\">\n",
       "  <thead>\n",
       "    <tr style=\"text-align: right;\">\n",
       "      <th></th>\n",
       "      <th>Unnamed: 0</th>\n",
       "      <th>TV</th>\n",
       "      <th>radio</th>\n",
       "      <th>newspaper</th>\n",
       "      <th>sales</th>\n",
       "    </tr>\n",
       "  </thead>\n",
       "  <tbody>\n",
       "    <tr>\n",
       "      <th>count</th>\n",
       "      <td>200.000000</td>\n",
       "      <td>200.000000</td>\n",
       "      <td>200.000000</td>\n",
       "      <td>200.000000</td>\n",
       "      <td>200.000000</td>\n",
       "    </tr>\n",
       "    <tr>\n",
       "      <th>mean</th>\n",
       "      <td>100.500000</td>\n",
       "      <td>147.042500</td>\n",
       "      <td>23.264000</td>\n",
       "      <td>30.554000</td>\n",
       "      <td>14.022500</td>\n",
       "    </tr>\n",
       "    <tr>\n",
       "      <th>std</th>\n",
       "      <td>57.879185</td>\n",
       "      <td>85.854236</td>\n",
       "      <td>14.846809</td>\n",
       "      <td>21.778621</td>\n",
       "      <td>5.217457</td>\n",
       "    </tr>\n",
       "    <tr>\n",
       "      <th>min</th>\n",
       "      <td>1.000000</td>\n",
       "      <td>0.700000</td>\n",
       "      <td>0.000000</td>\n",
       "      <td>0.300000</td>\n",
       "      <td>1.600000</td>\n",
       "    </tr>\n",
       "    <tr>\n",
       "      <th>25%</th>\n",
       "      <td>50.750000</td>\n",
       "      <td>74.375000</td>\n",
       "      <td>9.975000</td>\n",
       "      <td>12.750000</td>\n",
       "      <td>10.375000</td>\n",
       "    </tr>\n",
       "    <tr>\n",
       "      <th>50%</th>\n",
       "      <td>100.500000</td>\n",
       "      <td>149.750000</td>\n",
       "      <td>22.900000</td>\n",
       "      <td>25.750000</td>\n",
       "      <td>12.900000</td>\n",
       "    </tr>\n",
       "    <tr>\n",
       "      <th>75%</th>\n",
       "      <td>150.250000</td>\n",
       "      <td>218.825000</td>\n",
       "      <td>36.525000</td>\n",
       "      <td>45.100000</td>\n",
       "      <td>17.400000</td>\n",
       "    </tr>\n",
       "    <tr>\n",
       "      <th>max</th>\n",
       "      <td>200.000000</td>\n",
       "      <td>296.400000</td>\n",
       "      <td>49.600000</td>\n",
       "      <td>114.000000</td>\n",
       "      <td>27.000000</td>\n",
       "    </tr>\n",
       "  </tbody>\n",
       "</table>\n",
       "</div>"
      ],
      "text/plain": [
       "       Unnamed: 0          TV       radio   newspaper       sales\n",
       "count  200.000000  200.000000  200.000000  200.000000  200.000000\n",
       "mean   100.500000  147.042500   23.264000   30.554000   14.022500\n",
       "std     57.879185   85.854236   14.846809   21.778621    5.217457\n",
       "min      1.000000    0.700000    0.000000    0.300000    1.600000\n",
       "25%     50.750000   74.375000    9.975000   12.750000   10.375000\n",
       "50%    100.500000  149.750000   22.900000   25.750000   12.900000\n",
       "75%    150.250000  218.825000   36.525000   45.100000   17.400000\n",
       "max    200.000000  296.400000   49.600000  114.000000   27.000000"
      ]
     },
     "execution_count": 31,
     "metadata": {},
     "output_type": "execute_result"
    }
   ],
   "source": [
    "#describing the dataframe by using the df.descibe method\n",
    "df.describe()"
   ]
  },
  {
   "cell_type": "code",
   "execution_count": 32,
   "id": "f7124606",
   "metadata": {},
   "outputs": [
    {
     "data": {
      "text/plain": [
       "<AxesSubplot:>"
      ]
     },
     "execution_count": 32,
     "metadata": {},
     "output_type": "execute_result"
    },
    {
     "data": {
      "image/png": "[encoded data removed]",
      "text/plain": [
       "<Figure size 1584x504 with 2 Axes>"
      ]
     },
     "metadata": {
      "needs_background": "light"
     },
     "output_type": "display_data"
    }
   ],
   "source": [
    "#to figure out the heat map, importing matplotlib.pyplot library \n",
    "import matplotlib.pyplot as plt\n",
    "plt.figure(figsize=(22,7)) #giving the size dimension of the map\n",
    "#using the annot=true method to display the values in each box with the decimal representation as 0.2 \n",
    "sns.heatmap(df.describe(), linewidths=0.1, annot=True,linecolor=\"black\", fmt=\"0.2f\") "
   ]
  },
  {
   "cell_type": "markdown",
   "id": "e88d4d3f",
   "metadata": {},
   "source": [
    "Correlation of dataset : \n",
    "\n",
    "Correlation refers to the statistical relationship between two entities. In other words, it's how two variables move in relation to one another. Correlation can be used for various data sets, as well."
   ]
  },
  {
   "cell_type": "code",
   "execution_count": 33,
   "id": "5f54a3e2",
   "metadata": {},
   "outputs": [
    {
     "data": {
      "text/html": [
       "<div>\n",
       "<style scoped>\n",
       "    .dataframe tbody tr th:only-of-type {\n",
       "        vertical-align: middle;\n",
       "    }\n",
       "\n",
       "    .dataframe tbody tr th {\n",
       "        vertical-align: top;\n",
       "    }\n",
       "\n",
       "    .dataframe thead th {\n",
       "        text-align: right;\n",
       "    }\n",
       "</style>\n",
       "<table border=\"1\" class=\"dataframe\">\n",
       "  <thead>\n",
       "    <tr style=\"text-align: right;\">\n",
       "      <th></th>\n",
       "      <th>Unnamed: 0</th>\n",
       "      <th>TV</th>\n",
       "      <th>radio</th>\n",
       "      <th>newspaper</th>\n",
       "      <th>sales</th>\n",
       "    </tr>\n",
       "  </thead>\n",
       "  <tbody>\n",
       "    <tr>\n",
       "      <th>Unnamed: 0</th>\n",
       "      <td>1.000000</td>\n",
       "      <td>0.017715</td>\n",
       "      <td>-0.110680</td>\n",
       "      <td>-0.154944</td>\n",
       "      <td>-0.051616</td>\n",
       "    </tr>\n",
       "    <tr>\n",
       "      <th>TV</th>\n",
       "      <td>0.017715</td>\n",
       "      <td>1.000000</td>\n",
       "      <td>0.054809</td>\n",
       "      <td>0.056648</td>\n",
       "      <td>0.782224</td>\n",
       "    </tr>\n",
       "    <tr>\n",
       "      <th>radio</th>\n",
       "      <td>-0.110680</td>\n",
       "      <td>0.054809</td>\n",
       "      <td>1.000000</td>\n",
       "      <td>0.354104</td>\n",
       "      <td>0.576223</td>\n",
       "    </tr>\n",
       "    <tr>\n",
       "      <th>newspaper</th>\n",
       "      <td>-0.154944</td>\n",
       "      <td>0.056648</td>\n",
       "      <td>0.354104</td>\n",
       "      <td>1.000000</td>\n",
       "      <td>0.228299</td>\n",
       "    </tr>\n",
       "    <tr>\n",
       "      <th>sales</th>\n",
       "      <td>-0.051616</td>\n",
       "      <td>0.782224</td>\n",
       "      <td>0.576223</td>\n",
       "      <td>0.228299</td>\n",
       "      <td>1.000000</td>\n",
       "    </tr>\n",
       "  </tbody>\n",
       "</table>\n",
       "</div>"
      ],
      "text/plain": [
       "            Unnamed: 0        TV     radio  newspaper     sales\n",
       "Unnamed: 0    1.000000  0.017715 -0.110680  -0.154944 -0.051616\n",
       "TV            0.017715  1.000000  0.054809   0.056648  0.782224\n",
       "radio        -0.110680  0.054809  1.000000   0.354104  0.576223\n",
       "newspaper    -0.154944  0.056648  0.354104   1.000000  0.228299\n",
       "sales        -0.051616  0.782224  0.576223   0.228299  1.000000"
      ]
     },
     "execution_count": 33,
     "metadata": {},
     "output_type": "execute_result"
    }
   ],
   "source": [
    "#to present the correlation we will be using the df.corr syntax \n",
    "df.corr()"
   ]
  },
  {
   "cell_type": "code",
   "execution_count": 35,
   "id": "0dc10adc",
   "metadata": {},
   "outputs": [
    {
     "data": {
      "text/plain": [
       "<AxesSubplot:>"
      ]
     },
     "execution_count": 35,
     "metadata": {},
     "output_type": "execute_result"
    },
    {
     "data": {
      "image/png": "[encoded data removed]",
      "text/plain": [
       "<Figure size 1080x504 with 2 Axes>"
      ]
     },
     "metadata": {
      "needs_background": "light"
     },
     "output_type": "display_data"
    }
   ],
   "source": [
    "#representing the heatmap of the correlated dataset\n",
    "plt.figure(figsize=(15,7))\n",
    "sns.heatmap(df.corr(), linewidths=0.1, annot=True,linecolor=\"black\", fmt=\"0.2f\")"
   ]
  },
  {
   "cell_type": "markdown",
   "id": "272ab762",
   "metadata": {},
   "source": [
    "Checking which are positively & negatively correlated with the target column"
   ]
  },
  {
   "cell_type": "code",
   "execution_count": 37,
   "id": "794061fa",
   "metadata": {},
   "outputs": [
    {
     "data": {
      "image/png": "[encoded data removed]",
      "text/plain": [
       "<Figure size 720x504 with 1 Axes>"
      ]
     },
     "metadata": {
      "needs_background": "light"
     },
     "output_type": "display_data"
    }
   ],
   "source": [
    "plt.figure(figsize=(10,7))\n",
    "df.corr()['sales'].sort_values(ascending=False).drop(['sales']).plot(kind='bar',color='c') #droping the target column \n",
    "plt.xlabel('Feature',fontsize=14) #giving the x label as \"feature\" with fontsize 14\n",
    "plt.ylabel('column with target names',fontsize=14) #giving the y lable as \"column with target names\" with fontsize 14\n",
    "plt.title('correlation',fontsize=18) #giving title as correlation with fontsize 18\n",
    "plt.show() #showing the correlated representation in the form of bar plot"
   ]
  },
  {
   "cell_type": "markdown",
   "id": "38fd7ce7",
   "metadata": {},
   "source": [
    "Checking the skewness of the dataframe"
   ]
  },
  {
   "cell_type": "code",
   "execution_count": 38,
   "id": "932c253f",
   "metadata": {},
   "outputs": [
    {
     "data": {
      "text/plain": [
       "Unnamed: 0    0.000000\n",
       "TV           -0.069853\n",
       "radio         0.094175\n",
       "newspaper     0.894720\n",
       "sales         0.407571\n",
       "dtype: float64"
      ]
     },
     "execution_count": 38,
     "metadata": {},
     "output_type": "execute_result"
    }
   ],
   "source": [
    "df.skew()"
   ]
  },
  {
   "cell_type": "markdown",
   "id": "b50e19f7",
   "metadata": {},
   "source": [
    "keeping the range of skewness as +/-0.5, we can see only the \"newspaper\" column did not lie within the range. The skewness for this particular column is 0.3 higher than the required range."
   ]
  },
  {
   "cell_type": "markdown",
   "id": "0ad465c2",
   "metadata": {},
   "source": [
    "# Outliers representation"
   ]
  },
  {
   "cell_type": "code",
   "execution_count": 40,
   "id": "7ca532a7",
   "metadata": {},
   "outputs": [
    {
     "data": {
      "text/plain": [
       "<AxesSubplot:>"
      ]
     },
     "execution_count": 40,
     "metadata": {},
     "output_type": "execute_result"
    },
    {
     "data": {
      "image/png": "[encoded data removed]",
      "text/plain": [
       "<Figure size 432x288 with 1 Axes>"
      ]
     },
     "metadata": {
      "needs_background": "light"
     },
     "output_type": "display_data"
    }
   ],
   "source": [
    "df['Unnamed: 0'].plot.box() #using the box plot to check the outliers present for each column"
   ]
  },
  {
   "cell_type": "code",
   "execution_count": 41,
   "id": "ea196f07",
   "metadata": {},
   "outputs": [
    {
     "data": {
      "text/plain": [
       "<AxesSubplot:>"
      ]
     },
     "execution_count": 41,
     "metadata": {},
     "output_type": "execute_result"
    },
    {
     "data": {
      "image/png": "[encoded data removed]",
      "text/plain": [
       "<Figure size 432x288 with 1 Axes>"
      ]
     },
     "metadata": {
      "needs_background": "light"
     },
     "output_type": "display_data"
    }
   ],
   "source": [
    "df['TV'].plot.box()"
   ]
  },
  {
   "cell_type": "code",
   "execution_count": 42,
   "id": "b4ccbb81",
   "metadata": {},
   "outputs": [
    {
     "data": {
      "text/plain": [
       "<AxesSubplot:>"
      ]
     },
     "execution_count": 42,
     "metadata": {},
     "output_type": "execute_result"
    },
    {
     "data": {
      "image/png": "[encoded data removed]",
      "text/plain": [
       "<Figure size 432x288 with 1 Axes>"
      ]
     },
     "metadata": {
      "needs_background": "light"
     },
     "output_type": "display_data"
    }
   ],
   "source": [
    "df['radio'].plot.box()"
   ]
  },
  {
   "cell_type": "code",
   "execution_count": 43,
   "id": "acb58183",
   "metadata": {},
   "outputs": [
    {
     "data": {
      "text/plain": [
       "<AxesSubplot:>"
      ]
     },
     "execution_count": 43,
     "metadata": {},
     "output_type": "execute_result"
    },
    {
     "data": {
      "image/png": "[encoded data removed]",
      "text/plain": [
       "<Figure size 432x288 with 1 Axes>"
      ]
     },
     "metadata": {
      "needs_background": "light"
     },
     "output_type": "display_data"
    }
   ],
   "source": [
    "df['newspaper'].plot.box()"
   ]
  },
  {
   "cell_type": "code",
   "execution_count": 44,
   "id": "298cbda5",
   "metadata": {},
   "outputs": [
    {
     "data": {
      "text/plain": [
       "<AxesSubplot:>"
      ]
     },
     "execution_count": 44,
     "metadata": {},
     "output_type": "execute_result"
    },
    {
     "data": {
      "image/png": "[encoded data removed]",
      "text/plain": [
       "<Figure size 432x288 with 1 Axes>"
      ]
     },
     "metadata": {
      "needs_background": "light"
     },
     "output_type": "display_data"
    }
   ],
   "source": [
    "df['sales'].plot.box()"
   ]
  },
  {
   "cell_type": "markdown",
   "id": "7468664d",
   "metadata": {},
   "source": [
    "In the above representation we have found out that there are no outliers present in the columns (Unnamed: 0, radio, TV & sales(which is our target column))"
   ]
  },
  {
   "cell_type": "markdown",
   "id": "af727fb0",
   "metadata": {},
   "source": [
    "The only outliers that is present is in the \"newspaper\" column."
   ]
  },
  {
   "cell_type": "markdown",
   "id": "9ae002a4",
   "metadata": {},
   "source": [
    "We can remove the outlier from the \"newspaper\" column by using the zcore method.\n",
    "\n",
    "Zscore method provides a metric that indicates the numeric distance of a data point (in terms of the number of standard deviations) from the sample's mean. "
   ]
  },
  {
   "cell_type": "code",
   "execution_count": 46,
   "id": "2c08a298",
   "metadata": {},
   "outputs": [
    {
     "data": {
      "text/plain": [
       "(200, 5)"
      ]
     },
     "execution_count": 46,
     "metadata": {},
     "output_type": "execute_result"
    }
   ],
   "source": [
    "#first checking the shape of the dataset\n",
    "df.shape"
   ]
  },
  {
   "cell_type": "markdown",
   "id": "9bf80fc3",
   "metadata": {},
   "source": [
    "As we know the column \"Unnamed: 0\" is in the integer type, we cannot use Zscore with both integer and float type variables. To use the Zscore technique, I'm ommitting the \"Unnamed: 0\" column for the better representation of the targeted column, that is the \"sales\" column which will give us the actual representation for the case study."
   ]
  },
  {
   "cell_type": "code",
   "execution_count": 57,
   "id": "142c46ea",
   "metadata": {},
   "outputs": [],
   "source": [
    "#using the iloc function to remove the column \n",
    "\n",
    "iloc_df = df.iloc[: , 0:] "
   ]
  },
  {
   "cell_type": "code",
   "execution_count": 58,
   "id": "4f9f6ab8",
   "metadata": {},
   "outputs": [
    {
     "data": {
      "text/html": [
       "<div>\n",
       "<style scoped>\n",
       "    .dataframe tbody tr th:only-of-type {\n",
       "        vertical-align: middle;\n",
       "    }\n",
       "\n",
       "    .dataframe tbody tr th {\n",
       "        vertical-align: top;\n",
       "    }\n",
       "\n",
       "    .dataframe thead th {\n",
       "        text-align: right;\n",
       "    }\n",
       "</style>\n",
       "<table border=\"1\" class=\"dataframe\">\n",
       "  <thead>\n",
       "    <tr style=\"text-align: right;\">\n",
       "      <th></th>\n",
       "      <th>TV</th>\n",
       "      <th>radio</th>\n",
       "      <th>newspaper</th>\n",
       "      <th>sales</th>\n",
       "    </tr>\n",
       "  </thead>\n",
       "  <tbody>\n",
       "    <tr>\n",
       "      <th>0</th>\n",
       "      <td>230.1</td>\n",
       "      <td>37.8</td>\n",
       "      <td>69.2</td>\n",
       "      <td>22.1</td>\n",
       "    </tr>\n",
       "    <tr>\n",
       "      <th>1</th>\n",
       "      <td>44.5</td>\n",
       "      <td>39.3</td>\n",
       "      <td>45.1</td>\n",
       "      <td>10.4</td>\n",
       "    </tr>\n",
       "    <tr>\n",
       "      <th>2</th>\n",
       "      <td>17.2</td>\n",
       "      <td>45.9</td>\n",
       "      <td>69.3</td>\n",
       "      <td>9.3</td>\n",
       "    </tr>\n",
       "    <tr>\n",
       "      <th>3</th>\n",
       "      <td>151.5</td>\n",
       "      <td>41.3</td>\n",
       "      <td>58.5</td>\n",
       "      <td>18.5</td>\n",
       "    </tr>\n",
       "    <tr>\n",
       "      <th>4</th>\n",
       "      <td>180.8</td>\n",
       "      <td>10.8</td>\n",
       "      <td>58.4</td>\n",
       "      <td>12.9</td>\n",
       "    </tr>\n",
       "    <tr>\n",
       "      <th>...</th>\n",
       "      <td>...</td>\n",
       "      <td>...</td>\n",
       "      <td>...</td>\n",
       "      <td>...</td>\n",
       "    </tr>\n",
       "    <tr>\n",
       "      <th>195</th>\n",
       "      <td>38.2</td>\n",
       "      <td>3.7</td>\n",
       "      <td>13.8</td>\n",
       "      <td>7.6</td>\n",
       "    </tr>\n",
       "    <tr>\n",
       "      <th>196</th>\n",
       "      <td>94.2</td>\n",
       "      <td>4.9</td>\n",
       "      <td>8.1</td>\n",
       "      <td>9.7</td>\n",
       "    </tr>\n",
       "    <tr>\n",
       "      <th>197</th>\n",
       "      <td>177.0</td>\n",
       "      <td>9.3</td>\n",
       "      <td>6.4</td>\n",
       "      <td>12.8</td>\n",
       "    </tr>\n",
       "    <tr>\n",
       "      <th>198</th>\n",
       "      <td>283.6</td>\n",
       "      <td>42.0</td>\n",
       "      <td>66.2</td>\n",
       "      <td>25.5</td>\n",
       "    </tr>\n",
       "    <tr>\n",
       "      <th>199</th>\n",
       "      <td>232.1</td>\n",
       "      <td>8.6</td>\n",
       "      <td>8.7</td>\n",
       "      <td>13.4</td>\n",
       "    </tr>\n",
       "  </tbody>\n",
       "</table>\n",
       "<p>200 rows × 4 columns</p>\n",
       "</div>"
      ],
      "text/plain": [
       "        TV  radio  newspaper  sales\n",
       "0    230.1   37.8       69.2   22.1\n",
       "1     44.5   39.3       45.1   10.4\n",
       "2     17.2   45.9       69.3    9.3\n",
       "3    151.5   41.3       58.5   18.5\n",
       "4    180.8   10.8       58.4   12.9\n",
       "..     ...    ...        ...    ...\n",
       "195   38.2    3.7       13.8    7.6\n",
       "196   94.2    4.9        8.1    9.7\n",
       "197  177.0    9.3        6.4   12.8\n",
       "198  283.6   42.0       66.2   25.5\n",
       "199  232.1    8.6        8.7   13.4\n",
       "\n",
       "[200 rows x 4 columns]"
      ]
     },
     "execution_count": 58,
     "metadata": {},
     "output_type": "execute_result"
    }
   ],
   "source": [
    "iloc_df "
   ]
  },
  {
   "cell_type": "code",
   "execution_count": 59,
   "id": "82478d4a",
   "metadata": {},
   "outputs": [
    {
     "data": {
      "text/plain": [
       "(array([ 16, 101], dtype=int64), array([2, 2], dtype=int64))"
      ]
     },
     "execution_count": 59,
     "metadata": {},
     "output_type": "execute_result"
    }
   ],
   "source": [
    "#importing the zscore technique from scipy.stats library\n",
    "from scipy.stats import zscore\n",
    "import numpy as np\n",
    "z=np.abs(zscore(iloc_df))\n",
    "threshold=3 #giving the threshold value as 3\n",
    "np.where(z>3)"
   ]
  },
  {
   "cell_type": "code",
   "execution_count": 60,
   "id": "3f52c337",
   "metadata": {},
   "outputs": [
    {
     "data": {
      "text/html": [
       "<div>\n",
       "<style scoped>\n",
       "    .dataframe tbody tr th:only-of-type {\n",
       "        vertical-align: middle;\n",
       "    }\n",
       "\n",
       "    .dataframe tbody tr th {\n",
       "        vertical-align: top;\n",
       "    }\n",
       "\n",
       "    .dataframe thead th {\n",
       "        text-align: right;\n",
       "    }\n",
       "</style>\n",
       "<table border=\"1\" class=\"dataframe\">\n",
       "  <thead>\n",
       "    <tr style=\"text-align: right;\">\n",
       "      <th></th>\n",
       "      <th>TV</th>\n",
       "      <th>radio</th>\n",
       "      <th>newspaper</th>\n",
       "      <th>sales</th>\n",
       "    </tr>\n",
       "  </thead>\n",
       "  <tbody>\n",
       "    <tr>\n",
       "      <th>0</th>\n",
       "      <td>230.1</td>\n",
       "      <td>37.8</td>\n",
       "      <td>69.2</td>\n",
       "      <td>22.1</td>\n",
       "    </tr>\n",
       "    <tr>\n",
       "      <th>1</th>\n",
       "      <td>44.5</td>\n",
       "      <td>39.3</td>\n",
       "      <td>45.1</td>\n",
       "      <td>10.4</td>\n",
       "    </tr>\n",
       "    <tr>\n",
       "      <th>2</th>\n",
       "      <td>17.2</td>\n",
       "      <td>45.9</td>\n",
       "      <td>69.3</td>\n",
       "      <td>9.3</td>\n",
       "    </tr>\n",
       "    <tr>\n",
       "      <th>3</th>\n",
       "      <td>151.5</td>\n",
       "      <td>41.3</td>\n",
       "      <td>58.5</td>\n",
       "      <td>18.5</td>\n",
       "    </tr>\n",
       "    <tr>\n",
       "      <th>4</th>\n",
       "      <td>180.8</td>\n",
       "      <td>10.8</td>\n",
       "      <td>58.4</td>\n",
       "      <td>12.9</td>\n",
       "    </tr>\n",
       "    <tr>\n",
       "      <th>...</th>\n",
       "      <td>...</td>\n",
       "      <td>...</td>\n",
       "      <td>...</td>\n",
       "      <td>...</td>\n",
       "    </tr>\n",
       "    <tr>\n",
       "      <th>195</th>\n",
       "      <td>38.2</td>\n",
       "      <td>3.7</td>\n",
       "      <td>13.8</td>\n",
       "      <td>7.6</td>\n",
       "    </tr>\n",
       "    <tr>\n",
       "      <th>196</th>\n",
       "      <td>94.2</td>\n",
       "      <td>4.9</td>\n",
       "      <td>8.1</td>\n",
       "      <td>9.7</td>\n",
       "    </tr>\n",
       "    <tr>\n",
       "      <th>197</th>\n",
       "      <td>177.0</td>\n",
       "      <td>9.3</td>\n",
       "      <td>6.4</td>\n",
       "      <td>12.8</td>\n",
       "    </tr>\n",
       "    <tr>\n",
       "      <th>198</th>\n",
       "      <td>283.6</td>\n",
       "      <td>42.0</td>\n",
       "      <td>66.2</td>\n",
       "      <td>25.5</td>\n",
       "    </tr>\n",
       "    <tr>\n",
       "      <th>199</th>\n",
       "      <td>232.1</td>\n",
       "      <td>8.6</td>\n",
       "      <td>8.7</td>\n",
       "      <td>13.4</td>\n",
       "    </tr>\n",
       "  </tbody>\n",
       "</table>\n",
       "<p>198 rows × 4 columns</p>\n",
       "</div>"
      ],
      "text/plain": [
       "        TV  radio  newspaper  sales\n",
       "0    230.1   37.8       69.2   22.1\n",
       "1     44.5   39.3       45.1   10.4\n",
       "2     17.2   45.9       69.3    9.3\n",
       "3    151.5   41.3       58.5   18.5\n",
       "4    180.8   10.8       58.4   12.9\n",
       "..     ...    ...        ...    ...\n",
       "195   38.2    3.7       13.8    7.6\n",
       "196   94.2    4.9        8.1    9.7\n",
       "197  177.0    9.3        6.4   12.8\n",
       "198  283.6   42.0       66.2   25.5\n",
       "199  232.1    8.6        8.7   13.4\n",
       "\n",
       "[198 rows x 4 columns]"
      ]
     },
     "execution_count": 60,
     "metadata": {},
     "output_type": "execute_result"
    }
   ],
   "source": [
    "df_new_z=df[(z<3).all(axis=1)] #printing the new dataframe \n",
    "df_new_z"
   ]
  },
  {
   "cell_type": "code",
   "execution_count": 61,
   "id": "7104c550",
   "metadata": {},
   "outputs": [
    {
     "data": {
      "text/plain": [
       "(198, 4)"
      ]
     },
     "execution_count": 61,
     "metadata": {},
     "output_type": "execute_result"
    }
   ],
   "source": [
    "#checking the shape of the new dataframe\n",
    "df_new_z.shape"
   ]
  },
  {
   "cell_type": "code",
   "execution_count": 62,
   "id": "e0509672",
   "metadata": {},
   "outputs": [
    {
     "data": {
      "text/plain": [
       "1.0"
      ]
     },
     "execution_count": 62,
     "metadata": {},
     "output_type": "execute_result"
    }
   ],
   "source": [
    "#percentage for the loss of data\n",
    "Data_loss=((200-198)/200)*100\n",
    "Data_loss"
   ]
  },
  {
   "cell_type": "code",
   "execution_count": 63,
   "id": "ffa3b22c",
   "metadata": {},
   "outputs": [],
   "source": [
    "#Separating the columns into target from features\n",
    "features=df.drop(\"sales\",axis=1)\n",
    "target=df[\"sales\"]"
   ]
  },
  {
   "cell_type": "markdown",
   "id": "6bbec729",
   "metadata": {},
   "source": [
    "# Scaling the data using Min-Max scaler"
   ]
  },
  {
   "cell_type": "code",
   "execution_count": 64,
   "id": "f0eaf5cf",
   "metadata": {},
   "outputs": [],
   "source": [
    "#importing MinMaxScaler technique from the Sklearn.preprocessing machine learning library\n",
    "from sklearn.preprocessing import MinMaxScaler\n",
    "#minimizing it into a smaller variable \n",
    "nms=MinMaxScaler()\n",
    "#importing LinearRegression technique from the sklearn.linear_model library\n",
    "from sklearn.linear_model import LinearRegression\n",
    "#minimizing it into a smaller vaariable\n",
    "lr=LinearRegression()\n",
    "#importing r2_score to vto evaluate the performance of a linear regression model from the sklearn.metrics library\n",
    "from sklearn.metrics import r2_score\n",
    "#importing train_test_split method  to estimate the performance of machine learning algorithms from the predictions\n",
    "from sklearn.model_selection import train_test_split"
   ]
  },
  {
   "cell_type": "code",
   "execution_count": 65,
   "id": "7029bcf6",
   "metadata": {},
   "outputs": [],
   "source": [
    "#importing warnings to warn the developer of situations that aren’t necessarily exceptions. \n",
    "import warnings\n",
    "warnings.filterwarnings('ignore')"
   ]
  },
  {
   "cell_type": "code",
   "execution_count": 66,
   "id": "100b80c5",
   "metadata": {},
   "outputs": [
    {
     "name": "stdout",
     "output_type": "stream",
     "text": [
      "At random state 0,the training accuracy is:-0.9067114990146383\n",
      "At random state 0,the training accuracy is:-0.8601145185017868\n",
      "\n",
      "\n",
      "At random state 1,the training accuracy is:-0.8959372632325174\n",
      "At random state 1,the training accuracy is:-0.8927605914615384\n",
      "\n",
      "\n",
      "At random state 2,the training accuracy is:-0.9151707412454462\n",
      "At random state 2,the training accuracy is:-0.7575894500772721\n",
      "\n",
      "\n",
      "At random state 3,the training accuracy is:-0.8930288385772915\n",
      "At random state 3,the training accuracy is:-0.9138375011080567\n",
      "\n",
      "\n",
      "At random state 4,the training accuracy is:-0.8911672911176578\n",
      "At random state 4,the training accuracy is:-0.9085774752313167\n",
      "\n",
      "\n",
      "At random state 5,the training accuracy is:-0.8956962280033929\n",
      "At random state 5,the training accuracy is:-0.8984204533332627\n",
      "\n",
      "\n",
      "At random state 6,the training accuracy is:-0.8915418760966582\n",
      "At random state 6,the training accuracy is:-0.9224333473922028\n",
      "\n",
      "\n",
      "At random state 7,the training accuracy is:-0.8929164670647455\n",
      "At random state 7,the training accuracy is:-0.9095550600904052\n",
      "\n",
      "\n",
      "At random state 8,the training accuracy is:-0.9088025724048053\n",
      "At random state 8,the training accuracy is:-0.8460595754263388\n",
      "\n",
      "\n",
      "At random state 9,the training accuracy is:-0.8897851719766416\n",
      "At random state 9,the training accuracy is:-0.9256258465335008\n",
      "\n",
      "\n",
      "At random state 10,the training accuracy is:-0.9209087553499528\n",
      "At random state 10,the training accuracy is:-0.8353672324670594\n",
      "\n",
      "\n",
      "At random state 11,the training accuracy is:-0.9111583949248847\n",
      "At random state 11,the training accuracy is:-0.8449174816183895\n",
      "\n",
      "\n",
      "At random state 12,the training accuracy is:-0.891451009902517\n",
      "At random state 12,the training accuracy is:-0.9125583321991082\n",
      "\n",
      "\n",
      "At random state 13,the training accuracy is:-0.8869244310370576\n",
      "At random state 13,the training accuracy is:-0.9308589334107374\n",
      "\n",
      "\n",
      "At random state 14,the training accuracy is:-0.908635420499295\n",
      "At random state 14,the training accuracy is:-0.8549663199763199\n",
      "\n",
      "\n",
      "At random state 15,the training accuracy is:-0.8935846767022744\n",
      "At random state 15,the training accuracy is:-0.9064939179490465\n",
      "\n",
      "\n",
      "At random state 16,the training accuracy is:-0.892634156753275\n",
      "At random state 16,the training accuracy is:-0.91864253803112\n",
      "\n",
      "\n",
      "At random state 17,the training accuracy is:-0.911643850109681\n",
      "At random state 17,the training accuracy is:-0.8266375240641092\n",
      "\n",
      "\n",
      "At random state 18,the training accuracy is:-0.9058350355666276\n",
      "At random state 18,the training accuracy is:-0.8691428348137913\n",
      "\n",
      "\n",
      "At random state 19,the training accuracy is:-0.8936653113157833\n",
      "At random state 19,the training accuracy is:-0.903410880167606\n",
      "\n",
      "\n",
      "At random state 20,the training accuracy is:-0.8939415029759356\n",
      "At random state 20,the training accuracy is:-0.9032049399335232\n",
      "\n",
      "\n",
      "At random state 21,the training accuracy is:-0.8876272528162706\n",
      "At random state 21,the training accuracy is:-0.9220737408493859\n",
      "\n",
      "\n",
      "At random state 22,the training accuracy is:-0.8899965075887379\n",
      "At random state 22,the training accuracy is:-0.9182667532378174\n",
      "\n",
      "\n",
      "At random state 23,the training accuracy is:-0.8921659364123988\n",
      "At random state 23,the training accuracy is:-0.910204221189731\n",
      "\n",
      "\n",
      "At random state 24,the training accuracy is:-0.8946529864968562\n",
      "At random state 24,the training accuracy is:-0.9043170168345028\n",
      "\n",
      "\n",
      "At random state 25,the training accuracy is:-0.9007883778149751\n",
      "At random state 25,the training accuracy is:-0.8738569641880864\n",
      "\n",
      "\n",
      "At random state 26,the training accuracy is:-0.8998325917728893\n",
      "At random state 26,the training accuracy is:-0.8756915597547017\n",
      "\n",
      "\n",
      "At random state 27,the training accuracy is:-0.8947281937728895\n",
      "At random state 27,the training accuracy is:-0.9064360707520687\n",
      "\n",
      "\n",
      "At random state 28,the training accuracy is:-0.899682102176431\n",
      "At random state 28,the training accuracy is:-0.884139581646469\n",
      "\n",
      "\n",
      "At random state 29,the training accuracy is:-0.8896422572594604\n",
      "At random state 29,the training accuracy is:-0.9124795091328944\n",
      "\n",
      "\n",
      "At random state 30,the training accuracy is:-0.8933633451302291\n",
      "At random state 30,the training accuracy is:-0.9080112550671721\n",
      "\n",
      "\n",
      "At random state 31,the training accuracy is:-0.8859036462267695\n",
      "At random state 31,the training accuracy is:-0.9284346926567392\n",
      "\n",
      "\n",
      "At random state 32,the training accuracy is:-0.9172972779129942\n",
      "At random state 32,the training accuracy is:-0.7768844650932812\n",
      "\n",
      "\n",
      "At random state 33,the training accuracy is:-0.8962848476126537\n",
      "At random state 33,the training accuracy is:-0.8937288845297463\n",
      "\n",
      "\n",
      "At random state 34,the training accuracy is:-0.8970495535067476\n",
      "At random state 34,the training accuracy is:-0.8925087896627704\n",
      "\n",
      "\n",
      "At random state 35,the training accuracy is:-0.9149802728230204\n",
      "At random state 35,the training accuracy is:-0.78649061255689\n",
      "\n",
      "\n",
      "At random state 36,the training accuracy is:-0.8887387365244299\n",
      "At random state 36,the training accuracy is:-0.926530749168601\n",
      "\n",
      "\n",
      "At random state 37,the training accuracy is:-0.8997277119781726\n",
      "At random state 37,the training accuracy is:-0.8837033479022514\n",
      "\n",
      "\n",
      "At random state 38,the training accuracy is:-0.8972213778715169\n",
      "At random state 38,the training accuracy is:-0.8927131887797297\n",
      "\n",
      "\n",
      "At random state 39,the training accuracy is:-0.8989586369412048\n",
      "At random state 39,the training accuracy is:-0.8789549979127556\n",
      "\n",
      "\n",
      "At random state 40,the training accuracy is:-0.9200686687210912\n",
      "At random state 40,the training accuracy is:-0.7982652261831078\n",
      "\n",
      "\n",
      "At random state 41,the training accuracy is:-0.9006901704189824\n",
      "At random state 41,the training accuracy is:-0.8819813651740449\n",
      "\n",
      "\n",
      "At random state 42,the training accuracy is:-0.8957008271017818\n",
      "At random state 42,the training accuracy is:-0.899438024100912\n",
      "\n",
      "\n",
      "At random state 43,the training accuracy is:-0.888477223981934\n",
      "At random state 43,the training accuracy is:-0.9286102071081018\n",
      "\n",
      "\n",
      "At random state 44,the training accuracy is:-0.9065895163213827\n",
      "At random state 44,the training accuracy is:-0.8310290458396922\n",
      "\n",
      "\n",
      "At random state 45,the training accuracy is:-0.895947647524022\n",
      "At random state 45,the training accuracy is:-0.8955882331233612\n",
      "\n",
      "\n",
      "At random state 46,the training accuracy is:-0.9035142166671978\n",
      "At random state 46,the training accuracy is:-0.8508891379360346\n",
      "\n",
      "\n",
      "At random state 47,the training accuracy is:-0.8986105026216175\n",
      "At random state 47,the training accuracy is:-0.8861176124930538\n",
      "\n",
      "\n",
      "At random state 48,the training accuracy is:-0.8905303930227862\n",
      "At random state 48,the training accuracy is:-0.9192264895105909\n",
      "\n",
      "\n",
      "At random state 49,the training accuracy is:-0.9138424680320801\n",
      "At random state 49,the training accuracy is:-0.8236013350803587\n",
      "\n",
      "\n",
      "At random state 50,the training accuracy is:-0.9013713199191987\n",
      "At random state 50,the training accuracy is:-0.847551325142633\n",
      "\n",
      "\n",
      "At random state 51,the training accuracy is:-0.8935562677321687\n",
      "At random state 51,the training accuracy is:-0.9079126096145104\n",
      "\n",
      "\n",
      "At random state 52,the training accuracy is:-0.9018280272898134\n",
      "At random state 52,the training accuracy is:-0.8811159773607996\n",
      "\n",
      "\n",
      "At random state 53,the training accuracy is:-0.8887382038237429\n",
      "At random state 53,the training accuracy is:-0.9255679198924357\n",
      "\n",
      "\n",
      "At random state 54,the training accuracy is:-0.8919832932654931\n",
      "At random state 54,the training accuracy is:-0.9175053931302267\n",
      "\n",
      "\n",
      "At random state 55,the training accuracy is:-0.8946672493883487\n",
      "At random state 55,the training accuracy is:-0.9017603460127575\n",
      "\n",
      "\n",
      "At random state 56,the training accuracy is:-0.8989109930720287\n",
      "At random state 56,the training accuracy is:-0.8881081877827507\n",
      "\n",
      "\n",
      "At random state 57,the training accuracy is:-0.8825580314985149\n",
      "At random state 57,the training accuracy is:-0.9407051178510067\n",
      "\n",
      "\n",
      "At random state 58,the training accuracy is:-0.9127122894347021\n",
      "At random state 58,the training accuracy is:-0.8406715244241626\n",
      "\n",
      "\n",
      "At random state 59,the training accuracy is:-0.8893082812955636\n",
      "At random state 59,the training accuracy is:-0.9251177591187607\n",
      "\n",
      "\n",
      "At random state 60,the training accuracy is:-0.8924386252509565\n",
      "At random state 60,the training accuracy is:-0.9099045150327532\n",
      "\n",
      "\n",
      "At random state 61,the training accuracy is:-0.8993442759744174\n",
      "At random state 61,the training accuracy is:-0.8801295028531632\n",
      "\n",
      "\n",
      "At random state 62,the training accuracy is:-0.9119756650926772\n",
      "At random state 62,the training accuracy is:-0.8417719904234858\n",
      "\n",
      "\n",
      "At random state 63,the training accuracy is:-0.8947112911514465\n",
      "At random state 63,the training accuracy is:-0.9039175428258767\n",
      "\n",
      "\n",
      "At random state 64,the training accuracy is:-0.8977794992748884\n",
      "At random state 64,the training accuracy is:-0.8818211467861733\n",
      "\n",
      "\n",
      "At random state 65,the training accuracy is:-0.8969574133232424\n",
      "At random state 65,the training accuracy is:-0.8941749859375304\n",
      "\n",
      "\n",
      "At random state 66,the training accuracy is:-0.8985647494060172\n",
      "At random state 66,the training accuracy is:-0.8898022957140044\n",
      "\n",
      "\n",
      "At random state 67,the training accuracy is:-0.899436698387886\n",
      "At random state 67,the training accuracy is:-0.8820468786272049\n",
      "\n",
      "\n",
      "At random state 68,the training accuracy is:-0.9001781108442838\n",
      "At random state 68,the training accuracy is:-0.869032140309382\n",
      "\n",
      "\n",
      "At random state 69,the training accuracy is:-0.8870175330531669\n",
      "At random state 69,the training accuracy is:-0.923927034148313\n",
      "\n",
      "\n",
      "At random state 70,the training accuracy is:-0.886231243596853\n",
      "At random state 70,the training accuracy is:-0.9260798727325857\n",
      "\n",
      "\n",
      "At random state 71,the training accuracy is:-0.9163886175032457\n",
      "At random state 71,the training accuracy is:-0.8246989403826483\n",
      "\n",
      "\n",
      "At random state 72,the training accuracy is:-0.8937422087162026\n",
      "At random state 72,the training accuracy is:-0.9072541868212965\n",
      "\n",
      "\n",
      "At random state 73,the training accuracy is:-0.9077573496620701\n",
      "At random state 73,the training accuracy is:-0.8412998907053818\n",
      "\n",
      "\n",
      "At random state 74,the training accuracy is:-0.8979415340515895\n",
      "At random state 74,the training accuracy is:-0.8806020302645324\n",
      "\n",
      "\n",
      "At random state 75,the training accuracy is:-0.8943141208860873\n",
      "At random state 75,the training accuracy is:-0.9077086876495712\n",
      "\n",
      "\n",
      "At random state 76,the training accuracy is:-0.9092025789360757\n",
      "At random state 76,the training accuracy is:-0.753517499473075\n",
      "\n",
      "\n",
      "At random state 77,the training accuracy is:-0.8859758983122314\n",
      "At random state 77,the training accuracy is:-0.937880163249318\n",
      "\n",
      "\n",
      "At random state 78,the training accuracy is:-0.8957285947454089\n",
      "At random state 78,the training accuracy is:-0.9026908232907815\n",
      "\n",
      "\n",
      "At random state 79,the training accuracy is:-0.8917194183285055\n",
      "At random state 79,the training accuracy is:-0.9047106228248689\n",
      "\n",
      "\n",
      "At random state 80,the training accuracy is:-0.9161683973913906\n",
      "At random state 80,the training accuracy is:-0.8070473986760943\n",
      "\n",
      "\n",
      "At random state 81,the training accuracy is:-0.9033802332142854\n",
      "At random state 81,the training accuracy is:-0.862042389496714\n",
      "\n",
      "\n",
      "At random state 82,the training accuracy is:-0.9154244887223795\n",
      "At random state 82,the training accuracy is:-0.8014727140935161\n",
      "\n",
      "\n",
      "At random state 83,the training accuracy is:-0.8840310976077721\n",
      "At random state 83,the training accuracy is:-0.9373350368424964\n",
      "\n",
      "\n",
      "At random state 84,the training accuracy is:-0.8951392078054552\n",
      "At random state 84,the training accuracy is:-0.9007597814614811\n",
      "\n",
      "\n",
      "At random state 85,the training accuracy is:-0.9086027174680293\n",
      "At random state 85,the training accuracy is:-0.8439638394828848\n",
      "\n",
      "\n",
      "At random state 86,the training accuracy is:-0.8941525565676501\n",
      "At random state 86,the training accuracy is:-0.9100622221201642\n",
      "\n",
      "\n",
      "At random state 87,the training accuracy is:-0.9118983221676124\n",
      "At random state 87,the training accuracy is:-0.7626125810244506\n",
      "\n",
      "\n",
      "At random state 88,the training accuracy is:-0.9095202869396248\n",
      "At random state 88,the training accuracy is:-0.8402068643199276\n",
      "\n",
      "\n",
      "At random state 89,the training accuracy is:-0.900006853668257\n",
      "At random state 89,the training accuracy is:-0.876306336753169\n",
      "\n",
      "\n",
      "At random state 90,the training accuracy is:-0.9031056838494878\n",
      "At random state 90,the training accuracy is:-0.8515399308497918\n",
      "\n",
      "\n",
      "At random state 91,the training accuracy is:-0.8873766899072165\n",
      "At random state 91,the training accuracy is:-0.9042137225502286\n",
      "\n",
      "\n",
      "At random state 92,the training accuracy is:-0.8791722270470884\n",
      "At random state 92,the training accuracy is:-0.9519707195109461\n",
      "\n",
      "\n",
      "At random state 93,the training accuracy is:-0.8929605913041914\n",
      "At random state 93,the training accuracy is:-0.9117655020936758\n",
      "\n",
      "\n",
      "At random state 94,the training accuracy is:-0.9084398174091196\n",
      "At random state 94,the training accuracy is:-0.8559316851679385\n",
      "\n",
      "\n",
      "At random state 95,the training accuracy is:-0.8935659928494455\n",
      "At random state 95,the training accuracy is:-0.8951810793790586\n",
      "\n",
      "\n",
      "At random state 96,the training accuracy is:-0.9035998291188063\n",
      "At random state 96,the training accuracy is:-0.8595641556662492\n",
      "\n",
      "\n",
      "At random state 97,the training accuracy is:-0.8900751965631104\n",
      "At random state 97,the training accuracy is:-0.9118128867084085\n",
      "\n",
      "\n",
      "At random state 98,the training accuracy is:-0.8819661469883454\n",
      "At random state 98,the training accuracy is:-0.9400331814664701\n",
      "\n",
      "\n",
      "At random state 99,the training accuracy is:-0.8906288862925659\n",
      "At random state 99,the training accuracy is:-0.9200846680148507\n",
      "\n",
      "\n"
     ]
    }
   ],
   "source": [
    "#taking the range value from 0 to 100\n",
    "for i in range(0,100):\n",
    "    features_train,features_test,target_train,target_test=train_test_split(features,target, test_size=0.2,random_state=i)\n",
    "    lr.fit(features_train,target_train) #Fitting Linear Regression Model and Predicting Results\n",
    "    pred_train=lr.predict(features_train)\n",
    "    pred_test=lr.predict(features_test)\n",
    "    print(f\"At random state {i},the training accuracy is:-{r2_score(target_train,pred_train)}\")\n",
    "    print(f\"At random state {i},the training accuracy is:-{r2_score(target_test,pred_test)}\")\n",
    "    print(\"\\n\")"
   ]
  },
  {
   "cell_type": "code",
   "execution_count": 67,
   "id": "ae666c2a",
   "metadata": {},
   "outputs": [
    {
     "data": {
      "text/plain": [
       "LinearRegression()"
      ]
     },
     "execution_count": 67,
     "metadata": {},
     "output_type": "execute_result"
    }
   ],
   "source": [
    "features_train,features_test,target_train,target_test=train_test_split(features,target, test_size=0.2,random_state=12)\n",
    "lr.fit(features_train,target_train)"
   ]
  },
  {
   "cell_type": "code",
   "execution_count": 68,
   "id": "e49c90c7",
   "metadata": {},
   "outputs": [
    {
     "name": "stdout",
     "output_type": "stream",
     "text": [
      "<function r2_score at 0x00000252A8D89280> 23     15.5\n",
      "182     8.7\n",
      "172     7.6\n",
      "21     12.5\n",
      "63     14.0\n",
      "11     17.4\n",
      "61     24.2\n",
      "32      9.6\n",
      "164    11.9\n",
      "7      13.2\n",
      "95     16.9\n",
      "173    11.7\n",
      "132     5.7\n",
      "120    15.5\n",
      "98     25.4\n",
      "138     9.6\n",
      "31     11.9\n",
      "16     12.5\n",
      "181    12.2\n",
      "85     15.2\n",
      "185    22.6\n",
      "166     8.0\n",
      "101    23.8\n",
      "129     9.7\n",
      "113    15.9\n",
      "51     10.7\n",
      "167    12.2\n",
      "88     12.9\n",
      "108     5.3\n",
      "136     9.5\n",
      "29     10.5\n",
      "183    26.2\n",
      "152    16.6\n",
      "93     22.2\n",
      "189     6.7\n",
      "139    20.7\n",
      "179    12.6\n",
      "55     23.7\n",
      "1      10.4\n",
      "5       7.2\n",
      "Name: sales, dtype: float64 [16.39007308  6.55142872  7.75824723 14.53202646 13.33028039 17.25724194\n",
      " 22.70246331  7.56542867 11.11617935 12.16590506 16.20688599 11.89552242\n",
      "  8.6982841  14.33284955 23.90604787  9.90237465 11.29089546 12.63485551\n",
      " 13.73025584 14.93273641 20.82213372 11.03622634 22.81579474  7.85544991\n",
      " 16.34325529  9.39298831 13.20801647 11.595813    3.62943523 11.70631855\n",
      "  9.12735107 23.85164956 16.31341962 20.96174927  6.14548653 19.77913484\n",
      " 12.30781253 21.19176851 12.43898029 12.55735255]\n"
     ]
    }
   ],
   "source": [
    "pred_test=lr.predict(features_test)\n",
    "print(r2_score,target_test,pred_test) #checking the r2_score"
   ]
  },
  {
   "cell_type": "markdown",
   "id": "79680cbf",
   "metadata": {},
   "source": [
    "# Cross validation of the model"
   ]
  },
  {
   "cell_type": "markdown",
   "id": "425c616e",
   "metadata": {},
   "source": [
    "Cross validation is useful for estimating how well a model is able to predict future observations. For example, we may build a mulitple linear regression model that uses age and income as predictor variables and loan default status as the response variable."
   ]
  },
  {
   "cell_type": "code",
   "execution_count": 69,
   "id": "8c8ca613",
   "metadata": {},
   "outputs": [
    {
     "name": "stdout",
     "output_type": "stream",
     "text": [
      "At cross fold 2 the cv_score is 0.8908473589845056 and accuracy score for training is -1.099863583680702 and accuracy score for testing is 0.9125583321991082\n",
      "\n",
      "\n",
      "At cross fold 3 the cv_score is 0.8916464591145559 and accuracy score for training is -1.099863583680702 and accuracy score for testing is 0.9125583321991082\n",
      "\n",
      "\n",
      "At cross fold 4 the cv_score is 0.8900070660549506 and accuracy score for training is -1.099863583680702 and accuracy score for testing is 0.9125583321991082\n",
      "\n",
      "\n",
      "At cross fold 5 the cv_score is 0.8871063495438435 and accuracy score for training is -1.099863583680702 and accuracy score for testing is 0.9125583321991082\n",
      "\n",
      "\n",
      "At cross fold 6 the cv_score is 0.8899208882186672 and accuracy score for training is -1.099863583680702 and accuracy score for testing is 0.9125583321991082\n",
      "\n",
      "\n",
      "At cross fold 7 the cv_score is 0.885993021982354 and accuracy score for training is -1.099863583680702 and accuracy score for testing is 0.9125583321991082\n",
      "\n",
      "\n",
      "At cross fold 8 the cv_score is 0.8826686689919152 and accuracy score for training is -1.099863583680702 and accuracy score for testing is 0.9125583321991082\n",
      "\n",
      "\n",
      "At cross fold 9 the cv_score is 0.8822728227103587 and accuracy score for training is -1.099863583680702 and accuracy score for testing is 0.9125583321991082\n",
      "\n",
      "\n"
     ]
    }
   ],
   "source": [
    "Train_accuracy=r2_score(target_train,pred_train)\n",
    "Test_accuracy=r2_score(target_test,pred_test)\n",
    "\n",
    "from sklearn.model_selection import cross_val_score #importing cross_val_score technique from the sklearn model selection\n",
    "#taking the range from 2 to 10\n",
    "for j in range(2,10):\n",
    "    cv_score=cross_val_score(lr,features,target,cv=j)\n",
    "    cv_mean=cv_score.mean() #checking the mean value of the score\n",
    "    print(f\"At cross fold {j} the cv_score is {cv_mean} and accuracy score for training is {Train_accuracy} and accuracy score for testing is {Test_accuracy}\")\n",
    "    print(\"\\n\")"
   ]
  },
  {
   "cell_type": "markdown",
   "id": "4a1e2525",
   "metadata": {},
   "source": [
    "# Plotting the Linear Regression Model"
   ]
  },
  {
   "cell_type": "code",
   "execution_count": 70,
   "id": "f7bcac2b",
   "metadata": {},
   "outputs": [
    {
     "data": {
      "image/png": "[encoded data removed]",
      "text/plain": [
       "<Figure size 576x432 with 1 Axes>"
      ]
     },
     "metadata": {
      "needs_background": "light"
     },
     "output_type": "display_data"
    }
   ],
   "source": [
    "plt.figure(figsize=(8,6)) #giving the figure size\n",
    "plt.scatter(x=target_test, y=pred_test, color='r') #giving the x & y varibales and marking the color red\n",
    "plt.plot(target_test, target_test, color='b')\n",
    "plt.xlabel('Total Sales generated',fontsize=14) #marking the x label with the fontsize\n",
    "plt.ylabel('Predicted Sales',fontsize=14) #marking the y label with fontsize\n",
    "plt.title('Linear Regression',fontsize=18) #giving a title to the plot\n",
    "plt.show()"
   ]
  },
  {
   "cell_type": "markdown",
   "id": "c7c30238",
   "metadata": {},
   "source": [
    "# Regularization"
   ]
  },
  {
   "cell_type": "markdown",
   "id": "a6fccefc",
   "metadata": {},
   "source": [
    " This is a form of regression, that constrains/ regularizes or shrinks the coefficient estimates towards zero."
   ]
  },
  {
   "cell_type": "code",
   "execution_count": 71,
   "id": "16e68571",
   "metadata": {},
   "outputs": [],
   "source": [
    "from sklearn.model_selection import GridSearchCV #importing GridSearchCv to select from a set of parameter values"
   ]
  },
  {
   "cell_type": "code",
   "execution_count": 73,
   "id": "b62ca4b0",
   "metadata": {},
   "outputs": [],
   "source": [
    "#importing lasso technique to  shrink the regression coefficients, reducing some of them to zero. \n",
    "from sklearn.linear_model import Lasso "
   ]
  },
  {
   "cell_type": "code",
   "execution_count": 74,
   "id": "5d0ba767",
   "metadata": {},
   "outputs": [
    {
     "name": "stdout",
     "output_type": "stream",
     "text": [
      "{'alpha': 0.01, 'random_state': 0}\n"
     ]
    }
   ],
   "source": [
    "parameters={'alpha':[.0001,.001,.01,.1,1,10],'random_state':list(range(0,10))} #assigning the parameters along with range\n",
    "ls = Lasso()\n",
    "clf=GridSearchCV(ls,parameters)\n",
    "clf.fit(features_train,target_train)\n",
    "\n",
    "print(clf.best_params_)"
   ]
  },
  {
   "cell_type": "code",
   "execution_count": 75,
   "id": "1363950f",
   "metadata": {},
   "outputs": [
    {
     "data": {
      "text/plain": [
       "0.9144822338212197"
      ]
     },
     "execution_count": 75,
     "metadata": {},
     "output_type": "execute_result"
    }
   ],
   "source": [
    "ls=Lasso(alpha=1,random_state=0)\n",
    "ls.fit(features_train,target_train)\n",
    "ls.score(features_train,target_train)\n",
    "pred_ls=ls.predict(features_test) #checking the predicted value\n",
    "\n",
    "lss=r2_score(target_test,pred_ls)\n",
    "lss"
   ]
  },
  {
   "cell_type": "code",
   "execution_count": 76,
   "id": "3730a50c",
   "metadata": {},
   "outputs": [
    {
     "data": {
      "text/plain": [
       "0.8882007416256036"
      ]
     },
     "execution_count": 76,
     "metadata": {},
     "output_type": "execute_result"
    }
   ],
   "source": [
    "cv_score=cross_val_score(ls,features,target,cv=5)\n",
    "cv_mean=cv_score.mean() #checking the mean value\n",
    "cv_mean"
   ]
  },
  {
   "cell_type": "markdown",
   "id": "44c0a854",
   "metadata": {},
   "source": [
    "# Ensemble Technique"
   ]
  },
  {
   "cell_type": "code",
   "execution_count": 77,
   "id": "bfbfce33",
   "metadata": {},
   "outputs": [],
   "source": [
    "#importing RandomForestRegressor method to performi both classification and regression with the help of an ensembling.\n",
    "from sklearn.ensemble import RandomForestRegressor"
   ]
  },
  {
   "cell_type": "code",
   "execution_count": 78,
   "id": "14f264e6",
   "metadata": {},
   "outputs": [
    {
     "name": "stdout",
     "output_type": "stream",
     "text": [
      "{'criterion': 'mae', 'max_features': 'auto'}\n"
     ]
    }
   ],
   "source": [
    "parameters={'criterion':['mse','mae'],'max_features':[\"auto\",\"sqrt\",\"log2\"]}\n",
    "rf=RandomForestRegressor()\n",
    "clf=GridSearchCV(rf,parameters) #using the GridSearchCV technique\n",
    "clf.fit(features_train,target_train)\n",
    "\n",
    "print(clf.best_params_)"
   ]
  },
  {
   "cell_type": "code",
   "execution_count": 79,
   "id": "847f65b9",
   "metadata": {},
   "outputs": [
    {
     "name": "stdout",
     "output_type": "stream",
     "text": [
      "R2 Score: 98.4836998828979\n",
      "Cross val score: 97.50733514035531\n"
     ]
    }
   ],
   "source": [
    "rf=RandomForestRegressor(criterion=\"mse\",max_features=\"auto\")\n",
    "rf.fit(features_train,target_train)\n",
    "rf.score(features_train,target_train)\n",
    "pred_decision=rf.predict(features_test)\n",
    "\n",
    "rfs=r2_score(target_test,pred_decision) #checking the R2_score \n",
    "print('R2 Score:',rfs*100)\n",
    "\n",
    "\n",
    "rfscore=cross_val_score(rf,features,target,cv=5) #checking the cross validation score\n",
    "rfc=rfscore.mean() #checking the mean of the cross validation score\n",
    "print('Cross val score:',rfc*100)"
   ]
  },
  {
   "cell_type": "markdown",
   "id": "90091d94",
   "metadata": {},
   "source": [
    "# Conclusion"
   ]
  },
  {
   "cell_type": "code",
   "execution_count": 81,
   "id": "75c41540",
   "metadata": {},
   "outputs": [],
   "source": [
    "import pickle\n",
    "#Pickle is a standard Python library that handles serialization – that is, a way to take variables that are otherwise \n",
    "#stored in memory,and output them in a format that can be stored to a file and read from later."
   ]
  },
  {
   "cell_type": "code",
   "execution_count": 82,
   "id": "95d2b172",
   "metadata": {},
   "outputs": [],
   "source": [
    "filename='sales.pkl' #giving a file name\n",
    "pickle.dump(rf,open(filename,'wb'))"
   ]
  },
  {
   "cell_type": "code",
   "execution_count": 83,
   "id": "e72c9de8",
   "metadata": {},
   "outputs": [
    {
     "name": "stdout",
     "output_type": "stream",
     "text": [
      "0.9848369988289789\n"
     ]
    }
   ],
   "source": [
    "loaded_model=pickle.load(open('sales.pkl','rb')) #loading the final model value\n",
    "result=loaded_model.score(features_test,target_test) #printing the final result\n",
    "print(result)"
   ]
  },
  {
   "cell_type": "code",
   "execution_count": 84,
   "id": "3837f88d",
   "metadata": {},
   "outputs": [
    {
     "data": {
      "text/html": [
       "<div>\n",
       "<style scoped>\n",
       "    .dataframe tbody tr th:only-of-type {\n",
       "        vertical-align: middle;\n",
       "    }\n",
       "\n",
       "    .dataframe tbody tr th {\n",
       "        vertical-align: top;\n",
       "    }\n",
       "\n",
       "    .dataframe thead th {\n",
       "        text-align: right;\n",
       "    }\n",
       "</style>\n",
       "<table border=\"1\" class=\"dataframe\">\n",
       "  <thead>\n",
       "    <tr style=\"text-align: right;\">\n",
       "      <th></th>\n",
       "      <th>0</th>\n",
       "      <th>1</th>\n",
       "      <th>2</th>\n",
       "      <th>3</th>\n",
       "      <th>4</th>\n",
       "      <th>5</th>\n",
       "      <th>6</th>\n",
       "      <th>7</th>\n",
       "      <th>8</th>\n",
       "      <th>9</th>\n",
       "      <th>...</th>\n",
       "      <th>30</th>\n",
       "      <th>31</th>\n",
       "      <th>32</th>\n",
       "      <th>33</th>\n",
       "      <th>34</th>\n",
       "      <th>35</th>\n",
       "      <th>36</th>\n",
       "      <th>37</th>\n",
       "      <th>38</th>\n",
       "      <th>39</th>\n",
       "    </tr>\n",
       "  </thead>\n",
       "  <tbody>\n",
       "    <tr>\n",
       "      <th>redicted Sales</th>\n",
       "      <td>15.207</td>\n",
       "      <td>8.761</td>\n",
       "      <td>6.977</td>\n",
       "      <td>12.217</td>\n",
       "      <td>13.014</td>\n",
       "      <td>16.948</td>\n",
       "      <td>24.513</td>\n",
       "      <td>9.676</td>\n",
       "      <td>12.3</td>\n",
       "      <td>12.92</td>\n",
       "      <td>...</td>\n",
       "      <td>11.279</td>\n",
       "      <td>24.997</td>\n",
       "      <td>16.532</td>\n",
       "      <td>21.166</td>\n",
       "      <td>6.662</td>\n",
       "      <td>20.83</td>\n",
       "      <td>13.452</td>\n",
       "      <td>22.714</td>\n",
       "      <td>11.376</td>\n",
       "      <td>7.059</td>\n",
       "    </tr>\n",
       "    <tr>\n",
       "      <th>Total Sales generated</th>\n",
       "      <td>15.207</td>\n",
       "      <td>8.761</td>\n",
       "      <td>6.977</td>\n",
       "      <td>12.217</td>\n",
       "      <td>13.014</td>\n",
       "      <td>16.948</td>\n",
       "      <td>24.513</td>\n",
       "      <td>9.676</td>\n",
       "      <td>12.3</td>\n",
       "      <td>12.92</td>\n",
       "      <td>...</td>\n",
       "      <td>11.279</td>\n",
       "      <td>24.997</td>\n",
       "      <td>16.532</td>\n",
       "      <td>21.166</td>\n",
       "      <td>6.662</td>\n",
       "      <td>20.83</td>\n",
       "      <td>13.452</td>\n",
       "      <td>22.714</td>\n",
       "      <td>11.376</td>\n",
       "      <td>7.059</td>\n",
       "    </tr>\n",
       "  </tbody>\n",
       "</table>\n",
       "<p>2 rows × 40 columns</p>\n",
       "</div>"
      ],
      "text/plain": [
       "                           0      1      2       3       4       5       6   \\\n",
       "redicted Sales         15.207  8.761  6.977  12.217  13.014  16.948  24.513   \n",
       "Total Sales generated  15.207  8.761  6.977  12.217  13.014  16.948  24.513   \n",
       "\n",
       "                          7     8      9   ...      30      31      32  \\\n",
       "redicted Sales         9.676  12.3  12.92  ...  11.279  24.997  16.532   \n",
       "Total Sales generated  9.676  12.3  12.92  ...  11.279  24.997  16.532   \n",
       "\n",
       "                           33     34     35      36      37      38     39  \n",
       "redicted Sales         21.166  6.662  20.83  13.452  22.714  11.376  7.059  \n",
       "Total Sales generated  21.166  6.662  20.83  13.452  22.714  11.376  7.059  \n",
       "\n",
       "[2 rows x 40 columns]"
      ]
     },
     "execution_count": 84,
     "metadata": {},
     "output_type": "execute_result"
    }
   ],
   "source": [
    "conclusion=pd.DataFrame([loaded_model.predict(features_test)[:],pred_decision[:]],index=[\"redicted Sales\",\"Total Sales generated\"])\n",
    "conclusion"
   ]
  },
  {
   "cell_type": "code",
   "execution_count": null,
   "id": "16e1808e",
   "metadata": {},
   "outputs": [],
   "source": []
  }
 ],
 "metadata": {
  "kernelspec": {
   "display_name": "Python 3 (ipykernel)",
   "language": "python",
   "name": "python3"
  },
  "language_info": {
   "codemirror_mode": {
    "name": "ipython",
    "version": 3
   },
   "file_extension": ".py",
   "mimetype": "text/x-python",
   "name": "python",
   "nbconvert_exporter": "python",
   "pygments_lexer": "ipython3",
   "version": "3.9.7"
  }
 },
 "nbformat": 4,
 "nbformat_minor": 5
}
