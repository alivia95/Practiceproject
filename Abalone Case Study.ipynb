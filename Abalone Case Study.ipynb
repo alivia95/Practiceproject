{
 "cells": [
  {
   "cell_type": "markdown",
   "id": "e2b92c40",
   "metadata": {},
   "source": [
    "# Importing the datasets"
   ]
  },
  {
   "cell_type": "code",
   "execution_count": 1,
   "id": "4284a806",
   "metadata": {},
   "outputs": [],
   "source": [
    "import pandas as pd"
   ]
  },
  {
   "cell_type": "code",
   "execution_count": 2,
   "id": "b898de42",
   "metadata": {},
   "outputs": [],
   "source": [
    "import numpy as np"
   ]
  },
  {
   "cell_type": "code",
   "execution_count": 5,
   "id": "31433d5d",
   "metadata": {},
   "outputs": [
    {
     "data": {
      "text/html": [
       "<div>\n",
       "<style scoped>\n",
       "    .dataframe tbody tr th:only-of-type {\n",
       "        vertical-align: middle;\n",
       "    }\n",
       "\n",
       "    .dataframe tbody tr th {\n",
       "        vertical-align: top;\n",
       "    }\n",
       "\n",
       "    .dataframe thead th {\n",
       "        text-align: right;\n",
       "    }\n",
       "</style>\n",
       "<table border=\"1\" class=\"dataframe\">\n",
       "  <thead>\n",
       "    <tr style=\"text-align: right;\">\n",
       "      <th></th>\n",
       "      <th>Sex</th>\n",
       "      <th>Length</th>\n",
       "      <th>Diameter</th>\n",
       "      <th>Height</th>\n",
       "      <th>Whole weight</th>\n",
       "      <th>Shucked weight</th>\n",
       "      <th>Viscera weight</th>\n",
       "      <th>Shell weight</th>\n",
       "      <th>Rings</th>\n",
       "    </tr>\n",
       "  </thead>\n",
       "  <tbody>\n",
       "    <tr>\n",
       "      <th>0</th>\n",
       "      <td>M</td>\n",
       "      <td>0.455</td>\n",
       "      <td>0.365</td>\n",
       "      <td>0.095</td>\n",
       "      <td>0.5140</td>\n",
       "      <td>0.2245</td>\n",
       "      <td>0.1010</td>\n",
       "      <td>0.1500</td>\n",
       "      <td>15</td>\n",
       "    </tr>\n",
       "    <tr>\n",
       "      <th>1</th>\n",
       "      <td>M</td>\n",
       "      <td>0.350</td>\n",
       "      <td>0.265</td>\n",
       "      <td>0.090</td>\n",
       "      <td>0.2255</td>\n",
       "      <td>0.0995</td>\n",
       "      <td>0.0485</td>\n",
       "      <td>0.0700</td>\n",
       "      <td>7</td>\n",
       "    </tr>\n",
       "    <tr>\n",
       "      <th>2</th>\n",
       "      <td>F</td>\n",
       "      <td>0.530</td>\n",
       "      <td>0.420</td>\n",
       "      <td>0.135</td>\n",
       "      <td>0.6770</td>\n",
       "      <td>0.2565</td>\n",
       "      <td>0.1415</td>\n",
       "      <td>0.2100</td>\n",
       "      <td>9</td>\n",
       "    </tr>\n",
       "    <tr>\n",
       "      <th>3</th>\n",
       "      <td>M</td>\n",
       "      <td>0.440</td>\n",
       "      <td>0.365</td>\n",
       "      <td>0.125</td>\n",
       "      <td>0.5160</td>\n",
       "      <td>0.2155</td>\n",
       "      <td>0.1140</td>\n",
       "      <td>0.1550</td>\n",
       "      <td>10</td>\n",
       "    </tr>\n",
       "    <tr>\n",
       "      <th>4</th>\n",
       "      <td>I</td>\n",
       "      <td>0.330</td>\n",
       "      <td>0.255</td>\n",
       "      <td>0.080</td>\n",
       "      <td>0.2050</td>\n",
       "      <td>0.0895</td>\n",
       "      <td>0.0395</td>\n",
       "      <td>0.0550</td>\n",
       "      <td>7</td>\n",
       "    </tr>\n",
       "    <tr>\n",
       "      <th>...</th>\n",
       "      <td>...</td>\n",
       "      <td>...</td>\n",
       "      <td>...</td>\n",
       "      <td>...</td>\n",
       "      <td>...</td>\n",
       "      <td>...</td>\n",
       "      <td>...</td>\n",
       "      <td>...</td>\n",
       "      <td>...</td>\n",
       "    </tr>\n",
       "    <tr>\n",
       "      <th>4172</th>\n",
       "      <td>F</td>\n",
       "      <td>0.565</td>\n",
       "      <td>0.450</td>\n",
       "      <td>0.165</td>\n",
       "      <td>0.8870</td>\n",
       "      <td>0.3700</td>\n",
       "      <td>0.2390</td>\n",
       "      <td>0.2490</td>\n",
       "      <td>11</td>\n",
       "    </tr>\n",
       "    <tr>\n",
       "      <th>4173</th>\n",
       "      <td>M</td>\n",
       "      <td>0.590</td>\n",
       "      <td>0.440</td>\n",
       "      <td>0.135</td>\n",
       "      <td>0.9660</td>\n",
       "      <td>0.4390</td>\n",
       "      <td>0.2145</td>\n",
       "      <td>0.2605</td>\n",
       "      <td>10</td>\n",
       "    </tr>\n",
       "    <tr>\n",
       "      <th>4174</th>\n",
       "      <td>M</td>\n",
       "      <td>0.600</td>\n",
       "      <td>0.475</td>\n",
       "      <td>0.205</td>\n",
       "      <td>1.1760</td>\n",
       "      <td>0.5255</td>\n",
       "      <td>0.2875</td>\n",
       "      <td>0.3080</td>\n",
       "      <td>9</td>\n",
       "    </tr>\n",
       "    <tr>\n",
       "      <th>4175</th>\n",
       "      <td>F</td>\n",
       "      <td>0.625</td>\n",
       "      <td>0.485</td>\n",
       "      <td>0.150</td>\n",
       "      <td>1.0945</td>\n",
       "      <td>0.5310</td>\n",
       "      <td>0.2610</td>\n",
       "      <td>0.2960</td>\n",
       "      <td>10</td>\n",
       "    </tr>\n",
       "    <tr>\n",
       "      <th>4176</th>\n",
       "      <td>M</td>\n",
       "      <td>0.710</td>\n",
       "      <td>0.555</td>\n",
       "      <td>0.195</td>\n",
       "      <td>1.9485</td>\n",
       "      <td>0.9455</td>\n",
       "      <td>0.3765</td>\n",
       "      <td>0.4950</td>\n",
       "      <td>12</td>\n",
       "    </tr>\n",
       "  </tbody>\n",
       "</table>\n",
       "<p>4177 rows × 9 columns</p>\n",
       "</div>"
      ],
      "text/plain": [
       "     Sex  Length  Diameter  Height  Whole weight  Shucked weight  \\\n",
       "0      M   0.455     0.365   0.095        0.5140          0.2245   \n",
       "1      M   0.350     0.265   0.090        0.2255          0.0995   \n",
       "2      F   0.530     0.420   0.135        0.6770          0.2565   \n",
       "3      M   0.440     0.365   0.125        0.5160          0.2155   \n",
       "4      I   0.330     0.255   0.080        0.2050          0.0895   \n",
       "...   ..     ...       ...     ...           ...             ...   \n",
       "4172   F   0.565     0.450   0.165        0.8870          0.3700   \n",
       "4173   M   0.590     0.440   0.135        0.9660          0.4390   \n",
       "4174   M   0.600     0.475   0.205        1.1760          0.5255   \n",
       "4175   F   0.625     0.485   0.150        1.0945          0.5310   \n",
       "4176   M   0.710     0.555   0.195        1.9485          0.9455   \n",
       "\n",
       "      Viscera weight  Shell weight  Rings  \n",
       "0             0.1010        0.1500     15  \n",
       "1             0.0485        0.0700      7  \n",
       "2             0.1415        0.2100      9  \n",
       "3             0.1140        0.1550     10  \n",
       "4             0.0395        0.0550      7  \n",
       "...              ...           ...    ...  \n",
       "4172          0.2390        0.2490     11  \n",
       "4173          0.2145        0.2605     10  \n",
       "4174          0.2875        0.3080      9  \n",
       "4175          0.2610        0.2960     10  \n",
       "4176          0.3765        0.4950     12  \n",
       "\n",
       "[4177 rows x 9 columns]"
      ]
     },
     "execution_count": 5,
     "metadata": {},
     "output_type": "execute_result"
    }
   ],
   "source": [
    "df=pd.read_csv(\"https://raw.githubusercontent.com/dsrscientist/dataset1/master/abalone.csv\")\n",
    "df"
   ]
  },
  {
   "cell_type": "code",
   "execution_count": 6,
   "id": "673fa5c1",
   "metadata": {},
   "outputs": [
    {
     "data": {
      "text/html": [
       "<div>\n",
       "<style scoped>\n",
       "    .dataframe tbody tr th:only-of-type {\n",
       "        vertical-align: middle;\n",
       "    }\n",
       "\n",
       "    .dataframe tbody tr th {\n",
       "        vertical-align: top;\n",
       "    }\n",
       "\n",
       "    .dataframe thead th {\n",
       "        text-align: right;\n",
       "    }\n",
       "</style>\n",
       "<table border=\"1\" class=\"dataframe\">\n",
       "  <thead>\n",
       "    <tr style=\"text-align: right;\">\n",
       "      <th></th>\n",
       "      <th>Sex</th>\n",
       "      <th>Length</th>\n",
       "      <th>Diameter</th>\n",
       "      <th>Height</th>\n",
       "      <th>Whole weight</th>\n",
       "      <th>Shucked weight</th>\n",
       "      <th>Viscera weight</th>\n",
       "      <th>Shell weight</th>\n",
       "      <th>Rings</th>\n",
       "    </tr>\n",
       "  </thead>\n",
       "  <tbody>\n",
       "    <tr>\n",
       "      <th>0</th>\n",
       "      <td>M</td>\n",
       "      <td>0.455</td>\n",
       "      <td>0.365</td>\n",
       "      <td>0.095</td>\n",
       "      <td>0.5140</td>\n",
       "      <td>0.2245</td>\n",
       "      <td>0.1010</td>\n",
       "      <td>0.150</td>\n",
       "      <td>15</td>\n",
       "    </tr>\n",
       "    <tr>\n",
       "      <th>1</th>\n",
       "      <td>M</td>\n",
       "      <td>0.350</td>\n",
       "      <td>0.265</td>\n",
       "      <td>0.090</td>\n",
       "      <td>0.2255</td>\n",
       "      <td>0.0995</td>\n",
       "      <td>0.0485</td>\n",
       "      <td>0.070</td>\n",
       "      <td>7</td>\n",
       "    </tr>\n",
       "    <tr>\n",
       "      <th>2</th>\n",
       "      <td>F</td>\n",
       "      <td>0.530</td>\n",
       "      <td>0.420</td>\n",
       "      <td>0.135</td>\n",
       "      <td>0.6770</td>\n",
       "      <td>0.2565</td>\n",
       "      <td>0.1415</td>\n",
       "      <td>0.210</td>\n",
       "      <td>9</td>\n",
       "    </tr>\n",
       "    <tr>\n",
       "      <th>3</th>\n",
       "      <td>M</td>\n",
       "      <td>0.440</td>\n",
       "      <td>0.365</td>\n",
       "      <td>0.125</td>\n",
       "      <td>0.5160</td>\n",
       "      <td>0.2155</td>\n",
       "      <td>0.1140</td>\n",
       "      <td>0.155</td>\n",
       "      <td>10</td>\n",
       "    </tr>\n",
       "    <tr>\n",
       "      <th>4</th>\n",
       "      <td>I</td>\n",
       "      <td>0.330</td>\n",
       "      <td>0.255</td>\n",
       "      <td>0.080</td>\n",
       "      <td>0.2050</td>\n",
       "      <td>0.0895</td>\n",
       "      <td>0.0395</td>\n",
       "      <td>0.055</td>\n",
       "      <td>7</td>\n",
       "    </tr>\n",
       "  </tbody>\n",
       "</table>\n",
       "</div>"
      ],
      "text/plain": [
       "  Sex  Length  Diameter  Height  Whole weight  Shucked weight  Viscera weight  \\\n",
       "0   M   0.455     0.365   0.095        0.5140          0.2245          0.1010   \n",
       "1   M   0.350     0.265   0.090        0.2255          0.0995          0.0485   \n",
       "2   F   0.530     0.420   0.135        0.6770          0.2565          0.1415   \n",
       "3   M   0.440     0.365   0.125        0.5160          0.2155          0.1140   \n",
       "4   I   0.330     0.255   0.080        0.2050          0.0895          0.0395   \n",
       "\n",
       "   Shell weight  Rings  \n",
       "0         0.150     15  \n",
       "1         0.070      7  \n",
       "2         0.210      9  \n",
       "3         0.155     10  \n",
       "4         0.055      7  "
      ]
     },
     "execution_count": 6,
     "metadata": {},
     "output_type": "execute_result"
    }
   ],
   "source": [
    "df.head()"
   ]
  },
  {
   "cell_type": "markdown",
   "id": "82f721a7",
   "metadata": {},
   "source": [
    "# Checking the null values in the Dataframe"
   ]
  },
  {
   "cell_type": "code",
   "execution_count": 7,
   "id": "83b3b8a2",
   "metadata": {},
   "outputs": [
    {
     "data": {
      "text/plain": [
       "Sex               0\n",
       "Length            0\n",
       "Diameter          0\n",
       "Height            0\n",
       "Whole weight      0\n",
       "Shucked weight    0\n",
       "Viscera weight    0\n",
       "Shell weight      0\n",
       "Rings             0\n",
       "dtype: int64"
      ]
     },
     "execution_count": 7,
     "metadata": {},
     "output_type": "execute_result"
    }
   ],
   "source": [
    "df.isnull().sum()"
   ]
  },
  {
   "cell_type": "code",
   "execution_count": 8,
   "id": "ac10d9fd",
   "metadata": {},
   "outputs": [
    {
     "data": {
      "text/plain": [
       "Index(['Sex', 'Length', 'Diameter', 'Height', 'Whole weight', 'Shucked weight',\n",
       "       'Viscera weight', 'Shell weight', 'Rings'],\n",
       "      dtype='object')"
      ]
     },
     "execution_count": 8,
     "metadata": {},
     "output_type": "execute_result"
    }
   ],
   "source": [
    "df.columns"
   ]
  },
  {
   "cell_type": "markdown",
   "id": "e124ae0a",
   "metadata": {},
   "source": [
    "No null values are present in the above columns"
   ]
  },
  {
   "cell_type": "markdown",
   "id": "21c77bfd",
   "metadata": {},
   "source": [
    "# Dataframe description"
   ]
  },
  {
   "cell_type": "markdown",
   "id": "ca41f34e",
   "metadata": {},
   "source": [
    "This dataset contains the datas representing the case study of Abalone by by cutting the shell through the cone, staining it, and counting the number of rings through a microscope. On the basis of the data we have to predict the rings of each abalone which will lead us to the age of that abalone. The dataset contains the data like 'Sex', 'Length', 'Diameter', 'Height', 'Whole weight', 'Shucked weight','Viscera weight', 'Shell weight', 'Rings'.\n",
    "\n",
    "In the above dataset the target is to predict the rings of each abalone which will lead us to the age of that abalone.\n",
    "\n",
    "Abalone is a shellfish considered a delicacy in many parts of the world. An excellent source of iron and pantothenic acid, and a nutritious food resource and farming in Australia, America and East Asia. 100 grams of abalone yields more than 20% recommended daily intake of these nutrients. The economic value of abalone is positively correlated with its age. Therefore, to detect the age of abalone accurately is important for both farmers and customers to determine its price. However, the current technology to decide the age is quite costly and inefficient. Farmers usually cut the shells and count the rings through microscopes to estimate the abalones age. Telling the age of abalone is therefore difficult mainly because their size depends not only on their age, but on the availability of food as well. Moreover, abalone sometimes form the so-called 'stunted' populations which have their growth characteristics very different from other abalone populations This complex method increases the cost and limits its popularity. Our goal in this report is to find out the best indicators to forecast the rings, then the age of abalones."
   ]
  },
  {
   "cell_type": "markdown",
   "id": "e134e6ad",
   "metadata": {},
   "source": [
    "# Checking the datatypes of the columns"
   ]
  },
  {
   "cell_type": "code",
   "execution_count": 10,
   "id": "f64e28ab",
   "metadata": {},
   "outputs": [
    {
     "data": {
      "text/plain": [
       "Sex                object\n",
       "Length            float64\n",
       "Diameter          float64\n",
       "Height            float64\n",
       "Whole weight      float64\n",
       "Shucked weight    float64\n",
       "Viscera weight    float64\n",
       "Shell weight      float64\n",
       "Rings               int64\n",
       "dtype: object"
      ]
     },
     "execution_count": 10,
     "metadata": {},
     "output_type": "execute_result"
    }
   ],
   "source": [
    "df.dtypes"
   ]
  },
  {
   "cell_type": "markdown",
   "id": "5f15c7d6",
   "metadata": {},
   "source": [
    "# Making dataframe for the nominal data"
   ]
  },
  {
   "cell_type": "code",
   "execution_count": 16,
   "id": "750384b0",
   "metadata": {},
   "outputs": [],
   "source": [
    "df_visualization_nominal=df[['Sex', 'Length', 'Diameter', 'Height', 'Whole weight', 'Shucked weight',\n",
    "       'Viscera weight', 'Shell weight', 'Rings']].copy()"
   ]
  },
  {
   "cell_type": "code",
   "execution_count": 17,
   "id": "aad2bdcb",
   "metadata": {},
   "outputs": [
    {
     "data": {
      "text/plain": [
       "Index(['Sex', 'Length', 'Diameter', 'Height', 'Whole weight', 'Shucked weight',\n",
       "       'Viscera weight', 'Shell weight', 'Rings'],\n",
       "      dtype='object')"
      ]
     },
     "execution_count": 17,
     "metadata": {},
     "output_type": "execute_result"
    }
   ],
   "source": [
    "df_visualization_nominal.columns"
   ]
  },
  {
   "cell_type": "markdown",
   "id": "a71ecde5",
   "metadata": {},
   "source": [
    "# Data visualization"
   ]
  },
  {
   "cell_type": "code",
   "execution_count": 18,
   "id": "68281327",
   "metadata": {},
   "outputs": [],
   "source": [
    "import seaborn as sns"
   ]
  },
  {
   "cell_type": "markdown",
   "id": "dd400153",
   "metadata": {},
   "source": [
    "For the nominal category of data, using the countplot as it will give the frequency of the classes of the columns"
   ]
  },
  {
   "cell_type": "code",
   "execution_count": 19,
   "id": "81afefe1",
   "metadata": {},
   "outputs": [
    {
     "name": "stdout",
     "output_type": "stream",
     "text": [
      "M    1528\n",
      "I    1342\n",
      "F    1307\n",
      "Name: Sex, dtype: int64\n"
     ]
    },
    {
     "data": {
      "image/png": "[encoded data removed]",
      "text/plain": [
       "<Figure size 432x288 with 1 Axes>"
      ]
     },
     "metadata": {
      "needs_background": "light"
     },
     "output_type": "display_data"
    }
   ],
   "source": [
    "cx = sns.countplot(x=\"Sex\", data=df_visualization_nominal)\n",
    "print(df_visualization_nominal[\"Sex\"].value_counts())"
   ]
  },
  {
   "cell_type": "code",
   "execution_count": 20,
   "id": "6062c162",
   "metadata": {},
   "outputs": [
    {
     "name": "stdout",
     "output_type": "stream",
     "text": [
      "0.625    94\n",
      "0.550    94\n",
      "0.575    93\n",
      "0.580    92\n",
      "0.600    87\n",
      "         ..\n",
      "0.075     1\n",
      "0.815     1\n",
      "0.110     1\n",
      "0.150     1\n",
      "0.800     1\n",
      "Name: Length, Length: 134, dtype: int64\n"
     ]
    },
    {
     "data": {
      "image/png": "[encoded data removed]",
      "text/plain": [
       "<Figure size 432x288 with 1 Axes>"
      ]
     },
     "metadata": {
      "needs_background": "light"
     },
     "output_type": "display_data"
    }
   ],
   "source": [
    "cx = sns.countplot(x=\"Length\", data=df_visualization_nominal)\n",
    "print(df_visualization_nominal[\"Length\"].value_counts())"
   ]
  },
  {
   "cell_type": "code",
   "execution_count": 21,
   "id": "b2b58dc5",
   "metadata": {},
   "outputs": [
    {
     "name": "stdout",
     "output_type": "stream",
     "text": [
      "0.450    139\n",
      "0.475    120\n",
      "0.400    111\n",
      "0.500    110\n",
      "0.470    100\n",
      "        ... \n",
      "0.610      1\n",
      "0.650      1\n",
      "0.620      1\n",
      "0.095      1\n",
      "0.615      1\n",
      "Name: Diameter, Length: 111, dtype: int64\n"
     ]
    },
    {
     "data": {
      "image/png": "[encoded data removed]",
      "text/plain": [
       "<Figure size 432x288 with 1 Axes>"
      ]
     },
     "metadata": {
      "needs_background": "light"
     },
     "output_type": "display_data"
    }
   ],
   "source": [
    "cx = sns.countplot(x=\"Diameter\", data=df_visualization_nominal)\n",
    "print(df_visualization_nominal[\"Diameter\"].value_counts())"
   ]
  },
  {
   "cell_type": "code",
   "execution_count": 22,
   "id": "50ec2c20",
   "metadata": {},
   "outputs": [
    {
     "name": "stdout",
     "output_type": "stream",
     "text": [
      "0.150    267\n",
      "0.140    220\n",
      "0.155    217\n",
      "0.175    211\n",
      "0.160    205\n",
      "0.125    202\n",
      "0.165    193\n",
      "0.135    189\n",
      "0.145    182\n",
      "0.130    169\n",
      "0.120    169\n",
      "0.170    160\n",
      "0.100    145\n",
      "0.110    135\n",
      "0.115    133\n",
      "0.180    131\n",
      "0.090    124\n",
      "0.105    114\n",
      "0.185    103\n",
      "0.190    103\n",
      "0.095     91\n",
      "0.195     78\n",
      "0.080     76\n",
      "0.085     74\n",
      "0.200     68\n",
      "0.075     61\n",
      "0.070     47\n",
      "0.205     45\n",
      "0.065     39\n",
      "0.215     31\n",
      "0.060     26\n",
      "0.055     25\n",
      "0.210     23\n",
      "0.050     18\n",
      "0.220     17\n",
      "0.040     13\n",
      "0.225     13\n",
      "0.045     11\n",
      "0.230     10\n",
      "0.030      6\n",
      "0.035      6\n",
      "0.235      6\n",
      "0.025      5\n",
      "0.240      4\n",
      "0.250      3\n",
      "0.020      2\n",
      "0.015      2\n",
      "0.000      2\n",
      "0.010      1\n",
      "0.515      1\n",
      "1.130      1\n",
      "Name: Height, dtype: int64\n"
     ]
    },
    {
     "data": {
      "image/png": "[encoded data removed]",
      "text/plain": [
       "<Figure size 432x288 with 1 Axes>"
      ]
     },
     "metadata": {
      "needs_background": "light"
     },
     "output_type": "display_data"
    }
   ],
   "source": [
    "cx = sns.countplot(x=\"Height\", data=df_visualization_nominal)\n",
    "print(df_visualization_nominal[\"Height\"].value_counts())"
   ]
  },
  {
   "cell_type": "code",
   "execution_count": 23,
   "id": "43131651",
   "metadata": {},
   "outputs": [
    {
     "name": "stdout",
     "output_type": "stream",
     "text": [
      "0.2225    8\n",
      "1.1345    7\n",
      "0.9700    7\n",
      "0.4775    7\n",
      "0.1960    7\n",
      "         ..\n",
      "0.0475    1\n",
      "1.8930    1\n",
      "1.8725    1\n",
      "2.1055    1\n",
      "1.9485    1\n",
      "Name: Whole weight, Length: 2429, dtype: int64\n"
     ]
    },
    {
     "data": {
      "image/png": "[encoded data removed]",
      "text/plain": [
       "<Figure size 432x288 with 1 Axes>"
      ]
     },
     "metadata": {
      "needs_background": "light"
     },
     "output_type": "display_data"
    }
   ],
   "source": [
    "cx = sns.countplot(x=\"Whole weight\", data=df_visualization_nominal)\n",
    "print(df_visualization_nominal[\"Whole weight\"].value_counts())"
   ]
  },
  {
   "cell_type": "code",
   "execution_count": 24,
   "id": "42d1d4d7",
   "metadata": {},
   "outputs": [
    {
     "name": "stdout",
     "output_type": "stream",
     "text": [
      "0.1750    11\n",
      "0.2505    10\n",
      "0.0970     9\n",
      "0.0960     9\n",
      "0.4190     9\n",
      "          ..\n",
      "0.4175     1\n",
      "0.1935     1\n",
      "0.1790     1\n",
      "0.1275     1\n",
      "0.9455     1\n",
      "Name: Shucked weight, Length: 1515, dtype: int64\n"
     ]
    },
    {
     "data": {
      "image/png": "[encoded data removed]",
      "text/plain": [
       "<Figure size 432x288 with 1 Axes>"
      ]
     },
     "metadata": {
      "needs_background": "light"
     },
     "output_type": "display_data"
    }
   ],
   "source": [
    "cx = sns.countplot(x=\"Shucked weight\", data=df_visualization_nominal)\n",
    "print(df_visualization_nominal[\"Shucked weight\"].value_counts())"
   ]
  },
  {
   "cell_type": "code",
   "execution_count": 25,
   "id": "131c4508",
   "metadata": {},
   "outputs": [
    {
     "name": "stdout",
     "output_type": "stream",
     "text": [
      "0.1715    15\n",
      "0.1960    14\n",
      "0.0575    13\n",
      "0.0610    13\n",
      "0.0370    13\n",
      "          ..\n",
      "0.4270     1\n",
      "0.4075     1\n",
      "0.4920     1\n",
      "0.4650     1\n",
      "0.5260     1\n",
      "Name: Viscera weight, Length: 880, dtype: int64\n"
     ]
    },
    {
     "data": {
      "image/png": "[encoded data removed]",
      "text/plain": [
       "<Figure size 432x288 with 1 Axes>"
      ]
     },
     "metadata": {
      "needs_background": "light"
     },
     "output_type": "display_data"
    }
   ],
   "source": [
    "cx = sns.countplot(x=\"Viscera weight\", data=df_visualization_nominal)\n",
    "print(df_visualization_nominal[\"Viscera weight\"].value_counts())"
   ]
  },
  {
   "cell_type": "code",
   "execution_count": 27,
   "id": "aa26bb89",
   "metadata": {},
   "outputs": [
    {
     "name": "stdout",
     "output_type": "stream",
     "text": [
      "0.2750    43\n",
      "0.2500    42\n",
      "0.2650    40\n",
      "0.3150    40\n",
      "0.1850    40\n",
      "          ..\n",
      "0.0060     1\n",
      "0.6460     1\n",
      "0.5010     1\n",
      "0.3295     1\n",
      "0.0920     1\n",
      "Name: Shell weight, Length: 926, dtype: int64\n"
     ]
    },
    {
     "data": {
      "image/png": "[encoded data removed]",
      "text/plain": [
       "<Figure size 432x288 with 1 Axes>"
      ]
     },
     "metadata": {
      "needs_background": "light"
     },
     "output_type": "display_data"
    }
   ],
   "source": [
    "cx = sns.countplot(x=\"Shell weight\", data=df_visualization_nominal)\n",
    "print(df_visualization_nominal[\"Shell weight\"].value_counts())"
   ]
  },
  {
   "cell_type": "code",
   "execution_count": 28,
   "id": "e7c205a2",
   "metadata": {},
   "outputs": [
    {
     "name": "stdout",
     "output_type": "stream",
     "text": [
      "9     689\n",
      "10    634\n",
      "8     568\n",
      "11    487\n",
      "7     391\n",
      "12    267\n",
      "6     259\n",
      "13    203\n",
      "14    126\n",
      "5     115\n",
      "15    103\n",
      "16     67\n",
      "17     58\n",
      "4      57\n",
      "18     42\n",
      "19     32\n",
      "20     26\n",
      "3      15\n",
      "21     14\n",
      "23      9\n",
      "22      6\n",
      "27      2\n",
      "24      2\n",
      "1       1\n",
      "26      1\n",
      "29      1\n",
      "2       1\n",
      "25      1\n",
      "Name: Rings, dtype: int64\n"
     ]
    },
    {
     "data": {
      "image/png": "[encoded data removed]",
      "text/plain": [
       "<Figure size 432x288 with 1 Axes>"
      ]
     },
     "metadata": {
      "needs_background": "light"
     },
     "output_type": "display_data"
    }
   ],
   "source": [
    "cx = sns.countplot(x=\"Rings\", data=df_visualization_nominal)\n",
    "print(df_visualization_nominal[\"Rings\"].value_counts())"
   ]
  },
  {
   "cell_type": "markdown",
   "id": "c13e6c40",
   "metadata": {},
   "source": [
    "# Data Description"
   ]
  },
  {
   "cell_type": "code",
   "execution_count": 30,
   "id": "d5e47554",
   "metadata": {},
   "outputs": [
    {
     "data": {
      "text/html": [
       "<div>\n",
       "<style scoped>\n",
       "    .dataframe tbody tr th:only-of-type {\n",
       "        vertical-align: middle;\n",
       "    }\n",
       "\n",
       "    .dataframe tbody tr th {\n",
       "        vertical-align: top;\n",
       "    }\n",
       "\n",
       "    .dataframe thead th {\n",
       "        text-align: right;\n",
       "    }\n",
       "</style>\n",
       "<table border=\"1\" class=\"dataframe\">\n",
       "  <thead>\n",
       "    <tr style=\"text-align: right;\">\n",
       "      <th></th>\n",
       "      <th>Length</th>\n",
       "      <th>Diameter</th>\n",
       "      <th>Height</th>\n",
       "      <th>Whole weight</th>\n",
       "      <th>Shucked weight</th>\n",
       "      <th>Viscera weight</th>\n",
       "      <th>Shell weight</th>\n",
       "      <th>Rings</th>\n",
       "    </tr>\n",
       "  </thead>\n",
       "  <tbody>\n",
       "    <tr>\n",
       "      <th>count</th>\n",
       "      <td>4177.000000</td>\n",
       "      <td>4177.000000</td>\n",
       "      <td>4177.000000</td>\n",
       "      <td>4177.000000</td>\n",
       "      <td>4177.000000</td>\n",
       "      <td>4177.000000</td>\n",
       "      <td>4177.000000</td>\n",
       "      <td>4177.000000</td>\n",
       "    </tr>\n",
       "    <tr>\n",
       "      <th>mean</th>\n",
       "      <td>0.523992</td>\n",
       "      <td>0.407881</td>\n",
       "      <td>0.139516</td>\n",
       "      <td>0.828742</td>\n",
       "      <td>0.359367</td>\n",
       "      <td>0.180594</td>\n",
       "      <td>0.238831</td>\n",
       "      <td>9.933684</td>\n",
       "    </tr>\n",
       "    <tr>\n",
       "      <th>std</th>\n",
       "      <td>0.120093</td>\n",
       "      <td>0.099240</td>\n",
       "      <td>0.041827</td>\n",
       "      <td>0.490389</td>\n",
       "      <td>0.221963</td>\n",
       "      <td>0.109614</td>\n",
       "      <td>0.139203</td>\n",
       "      <td>3.224169</td>\n",
       "    </tr>\n",
       "    <tr>\n",
       "      <th>min</th>\n",
       "      <td>0.075000</td>\n",
       "      <td>0.055000</td>\n",
       "      <td>0.000000</td>\n",
       "      <td>0.002000</td>\n",
       "      <td>0.001000</td>\n",
       "      <td>0.000500</td>\n",
       "      <td>0.001500</td>\n",
       "      <td>1.000000</td>\n",
       "    </tr>\n",
       "    <tr>\n",
       "      <th>25%</th>\n",
       "      <td>0.450000</td>\n",
       "      <td>0.350000</td>\n",
       "      <td>0.115000</td>\n",
       "      <td>0.441500</td>\n",
       "      <td>0.186000</td>\n",
       "      <td>0.093500</td>\n",
       "      <td>0.130000</td>\n",
       "      <td>8.000000</td>\n",
       "    </tr>\n",
       "    <tr>\n",
       "      <th>50%</th>\n",
       "      <td>0.545000</td>\n",
       "      <td>0.425000</td>\n",
       "      <td>0.140000</td>\n",
       "      <td>0.799500</td>\n",
       "      <td>0.336000</td>\n",
       "      <td>0.171000</td>\n",
       "      <td>0.234000</td>\n",
       "      <td>9.000000</td>\n",
       "    </tr>\n",
       "    <tr>\n",
       "      <th>75%</th>\n",
       "      <td>0.615000</td>\n",
       "      <td>0.480000</td>\n",
       "      <td>0.165000</td>\n",
       "      <td>1.153000</td>\n",
       "      <td>0.502000</td>\n",
       "      <td>0.253000</td>\n",
       "      <td>0.329000</td>\n",
       "      <td>11.000000</td>\n",
       "    </tr>\n",
       "    <tr>\n",
       "      <th>max</th>\n",
       "      <td>0.815000</td>\n",
       "      <td>0.650000</td>\n",
       "      <td>1.130000</td>\n",
       "      <td>2.825500</td>\n",
       "      <td>1.488000</td>\n",
       "      <td>0.760000</td>\n",
       "      <td>1.005000</td>\n",
       "      <td>29.000000</td>\n",
       "    </tr>\n",
       "  </tbody>\n",
       "</table>\n",
       "</div>"
      ],
      "text/plain": [
       "            Length     Diameter       Height  Whole weight  Shucked weight  \\\n",
       "count  4177.000000  4177.000000  4177.000000   4177.000000     4177.000000   \n",
       "mean      0.523992     0.407881     0.139516      0.828742        0.359367   \n",
       "std       0.120093     0.099240     0.041827      0.490389        0.221963   \n",
       "min       0.075000     0.055000     0.000000      0.002000        0.001000   \n",
       "25%       0.450000     0.350000     0.115000      0.441500        0.186000   \n",
       "50%       0.545000     0.425000     0.140000      0.799500        0.336000   \n",
       "75%       0.615000     0.480000     0.165000      1.153000        0.502000   \n",
       "max       0.815000     0.650000     1.130000      2.825500        1.488000   \n",
       "\n",
       "       Viscera weight  Shell weight        Rings  \n",
       "count     4177.000000   4177.000000  4177.000000  \n",
       "mean         0.180594      0.238831     9.933684  \n",
       "std          0.109614      0.139203     3.224169  \n",
       "min          0.000500      0.001500     1.000000  \n",
       "25%          0.093500      0.130000     8.000000  \n",
       "50%          0.171000      0.234000     9.000000  \n",
       "75%          0.253000      0.329000    11.000000  \n",
       "max          0.760000      1.005000    29.000000  "
      ]
     },
     "execution_count": 30,
     "metadata": {},
     "output_type": "execute_result"
    }
   ],
   "source": [
    "df.describe()"
   ]
  },
  {
   "cell_type": "code",
   "execution_count": 31,
   "id": "80ccb330",
   "metadata": {},
   "outputs": [
    {
     "data": {
      "text/plain": [
       "<AxesSubplot:>"
      ]
     },
     "execution_count": 31,
     "metadata": {},
     "output_type": "execute_result"
    },
    {
     "data": {
      "image/png": "[encoded data removed]",
      "text/plain": [
       "<Figure size 1584x504 with 2 Axes>"
      ]
     },
     "metadata": {
      "needs_background": "light"
     },
     "output_type": "display_data"
    }
   ],
   "source": [
    "#creating the heat map\n",
    "import matplotlib.pyplot as plt\n",
    "plt.figure(figsize=(22,7))\n",
    "sns.heatmap(df.describe(), linewidths=0.1, annot=True,linecolor=\"black\", fmt=\"0.2f\")"
   ]
  },
  {
   "cell_type": "markdown",
   "id": "6896d798",
   "metadata": {},
   "source": [
    "# Dataset Correlation"
   ]
  },
  {
   "cell_type": "code",
   "execution_count": 32,
   "id": "dc4898da",
   "metadata": {},
   "outputs": [
    {
     "data": {
      "text/html": [
       "<div>\n",
       "<style scoped>\n",
       "    .dataframe tbody tr th:only-of-type {\n",
       "        vertical-align: middle;\n",
       "    }\n",
       "\n",
       "    .dataframe tbody tr th {\n",
       "        vertical-align: top;\n",
       "    }\n",
       "\n",
       "    .dataframe thead th {\n",
       "        text-align: right;\n",
       "    }\n",
       "</style>\n",
       "<table border=\"1\" class=\"dataframe\">\n",
       "  <thead>\n",
       "    <tr style=\"text-align: right;\">\n",
       "      <th></th>\n",
       "      <th>Length</th>\n",
       "      <th>Diameter</th>\n",
       "      <th>Height</th>\n",
       "      <th>Whole weight</th>\n",
       "      <th>Shucked weight</th>\n",
       "      <th>Viscera weight</th>\n",
       "      <th>Shell weight</th>\n",
       "      <th>Rings</th>\n",
       "    </tr>\n",
       "  </thead>\n",
       "  <tbody>\n",
       "    <tr>\n",
       "      <th>Length</th>\n",
       "      <td>1.000000</td>\n",
       "      <td>0.986812</td>\n",
       "      <td>0.827554</td>\n",
       "      <td>0.925261</td>\n",
       "      <td>0.897914</td>\n",
       "      <td>0.903018</td>\n",
       "      <td>0.897706</td>\n",
       "      <td>0.556720</td>\n",
       "    </tr>\n",
       "    <tr>\n",
       "      <th>Diameter</th>\n",
       "      <td>0.986812</td>\n",
       "      <td>1.000000</td>\n",
       "      <td>0.833684</td>\n",
       "      <td>0.925452</td>\n",
       "      <td>0.893162</td>\n",
       "      <td>0.899724</td>\n",
       "      <td>0.905330</td>\n",
       "      <td>0.574660</td>\n",
       "    </tr>\n",
       "    <tr>\n",
       "      <th>Height</th>\n",
       "      <td>0.827554</td>\n",
       "      <td>0.833684</td>\n",
       "      <td>1.000000</td>\n",
       "      <td>0.819221</td>\n",
       "      <td>0.774972</td>\n",
       "      <td>0.798319</td>\n",
       "      <td>0.817338</td>\n",
       "      <td>0.557467</td>\n",
       "    </tr>\n",
       "    <tr>\n",
       "      <th>Whole weight</th>\n",
       "      <td>0.925261</td>\n",
       "      <td>0.925452</td>\n",
       "      <td>0.819221</td>\n",
       "      <td>1.000000</td>\n",
       "      <td>0.969405</td>\n",
       "      <td>0.966375</td>\n",
       "      <td>0.955355</td>\n",
       "      <td>0.540390</td>\n",
       "    </tr>\n",
       "    <tr>\n",
       "      <th>Shucked weight</th>\n",
       "      <td>0.897914</td>\n",
       "      <td>0.893162</td>\n",
       "      <td>0.774972</td>\n",
       "      <td>0.969405</td>\n",
       "      <td>1.000000</td>\n",
       "      <td>0.931961</td>\n",
       "      <td>0.882617</td>\n",
       "      <td>0.420884</td>\n",
       "    </tr>\n",
       "    <tr>\n",
       "      <th>Viscera weight</th>\n",
       "      <td>0.903018</td>\n",
       "      <td>0.899724</td>\n",
       "      <td>0.798319</td>\n",
       "      <td>0.966375</td>\n",
       "      <td>0.931961</td>\n",
       "      <td>1.000000</td>\n",
       "      <td>0.907656</td>\n",
       "      <td>0.503819</td>\n",
       "    </tr>\n",
       "    <tr>\n",
       "      <th>Shell weight</th>\n",
       "      <td>0.897706</td>\n",
       "      <td>0.905330</td>\n",
       "      <td>0.817338</td>\n",
       "      <td>0.955355</td>\n",
       "      <td>0.882617</td>\n",
       "      <td>0.907656</td>\n",
       "      <td>1.000000</td>\n",
       "      <td>0.627574</td>\n",
       "    </tr>\n",
       "    <tr>\n",
       "      <th>Rings</th>\n",
       "      <td>0.556720</td>\n",
       "      <td>0.574660</td>\n",
       "      <td>0.557467</td>\n",
       "      <td>0.540390</td>\n",
       "      <td>0.420884</td>\n",
       "      <td>0.503819</td>\n",
       "      <td>0.627574</td>\n",
       "      <td>1.000000</td>\n",
       "    </tr>\n",
       "  </tbody>\n",
       "</table>\n",
       "</div>"
      ],
      "text/plain": [
       "                  Length  Diameter    Height  Whole weight  Shucked weight  \\\n",
       "Length          1.000000  0.986812  0.827554      0.925261        0.897914   \n",
       "Diameter        0.986812  1.000000  0.833684      0.925452        0.893162   \n",
       "Height          0.827554  0.833684  1.000000      0.819221        0.774972   \n",
       "Whole weight    0.925261  0.925452  0.819221      1.000000        0.969405   \n",
       "Shucked weight  0.897914  0.893162  0.774972      0.969405        1.000000   \n",
       "Viscera weight  0.903018  0.899724  0.798319      0.966375        0.931961   \n",
       "Shell weight    0.897706  0.905330  0.817338      0.955355        0.882617   \n",
       "Rings           0.556720  0.574660  0.557467      0.540390        0.420884   \n",
       "\n",
       "                Viscera weight  Shell weight     Rings  \n",
       "Length                0.903018      0.897706  0.556720  \n",
       "Diameter              0.899724      0.905330  0.574660  \n",
       "Height                0.798319      0.817338  0.557467  \n",
       "Whole weight          0.966375      0.955355  0.540390  \n",
       "Shucked weight        0.931961      0.882617  0.420884  \n",
       "Viscera weight        1.000000      0.907656  0.503819  \n",
       "Shell weight          0.907656      1.000000  0.627574  \n",
       "Rings                 0.503819      0.627574  1.000000  "
      ]
     },
     "execution_count": 32,
     "metadata": {},
     "output_type": "execute_result"
    }
   ],
   "source": [
    "df.corr()"
   ]
  },
  {
   "cell_type": "code",
   "execution_count": 33,
   "id": "2252caec",
   "metadata": {},
   "outputs": [
    {
     "data": {
      "text/plain": [
       "<AxesSubplot:>"
      ]
     },
     "execution_count": 33,
     "metadata": {},
     "output_type": "execute_result"
    },
    {
     "data": {
      "image/png": "[encoded data removed]",
      "text/plain": [
       "<Figure size 1584x504 with 2 Axes>"
      ]
     },
     "metadata": {
      "needs_background": "light"
     },
     "output_type": "display_data"
    }
   ],
   "source": [
    "plt.figure(figsize=(22,7))\n",
    "sns.heatmap(df.corr(), linewidths=0.1, annot=True,linecolor=\"black\", fmt=\"0.2f\")"
   ]
  },
  {
   "cell_type": "markdown",
   "id": "adae8c49",
   "metadata": {},
   "source": [
    "All the columns are positively correlated with the target column"
   ]
  },
  {
   "cell_type": "code",
   "execution_count": 35,
   "id": "281bf864",
   "metadata": {},
   "outputs": [
    {
     "data": {
      "image/png": "[encoded data removed]",
      "text/plain": [
       "<Figure size 1584x504 with 1 Axes>"
      ]
     },
     "metadata": {
      "needs_background": "light"
     },
     "output_type": "display_data"
    }
   ],
   "source": [
    "plt.figure(figsize=(22,7))\n",
    "df.corr()['Rings'].sort_values(ascending=False).drop(['Rings']).plot(kind='bar',color='c')\n",
    "plt.xlabel('Feature',fontsize=14)\n",
    "plt.ylabel('column with target names',fontsize=14)\n",
    "plt.title('correlation',fontsize=18)\n",
    "plt.show()"
   ]
  },
  {
   "cell_type": "markdown",
   "id": "906123b6",
   "metadata": {},
   "source": [
    "# Checking the skewness of the dataframe"
   ]
  },
  {
   "cell_type": "code",
   "execution_count": 36,
   "id": "3bb23231",
   "metadata": {},
   "outputs": [
    {
     "name": "stderr",
     "output_type": "stream",
     "text": [
      "C:\\Users\\alivi\\AppData\\Local\\Temp/ipykernel_5428/1665899112.py:1: FutureWarning: Dropping of nuisance columns in DataFrame reductions (with 'numeric_only=None') is deprecated; in a future version this will raise TypeError.  Select only valid columns before calling the reduction.\n",
      "  df.skew()\n"
     ]
    },
    {
     "data": {
      "text/plain": [
       "Length           -0.639873\n",
       "Diameter         -0.609198\n",
       "Height            3.128817\n",
       "Whole weight      0.530959\n",
       "Shucked weight    0.719098\n",
       "Viscera weight    0.591852\n",
       "Shell weight      0.620927\n",
       "Rings             1.114102\n",
       "dtype: float64"
      ]
     },
     "execution_count": 36,
     "metadata": {},
     "output_type": "execute_result"
    }
   ],
   "source": [
    "df.skew()"
   ]
  },
  {
   "cell_type": "markdown",
   "id": "c0288910",
   "metadata": {},
   "source": [
    "keeping the range of skewness as +/-0.5, here was the columns that does not lie within the range.\n",
    "\n",
    "Height, Whole weight,Shucked weight,Viscera weight,Shell weight,Rings"
   ]
  },
  {
   "cell_type": "markdown",
   "id": "984dba94",
   "metadata": {},
   "source": [
    "# Checking for Ouliers"
   ]
  },
  {
   "cell_type": "code",
   "execution_count": 37,
   "id": "39e08fe1",
   "metadata": {},
   "outputs": [
    {
     "data": {
      "text/plain": [
       "Sex                object\n",
       "Length            float64\n",
       "Diameter          float64\n",
       "Height            float64\n",
       "Whole weight      float64\n",
       "Shucked weight    float64\n",
       "Viscera weight    float64\n",
       "Shell weight      float64\n",
       "Rings               int64\n",
       "dtype: object"
      ]
     },
     "execution_count": 37,
     "metadata": {},
     "output_type": "execute_result"
    }
   ],
   "source": [
    "df.dtypes"
   ]
  },
  {
   "cell_type": "markdown",
   "id": "708918e1",
   "metadata": {},
   "source": [
    "Checking the outliers on the int & float types of columns"
   ]
  },
  {
   "cell_type": "code",
   "execution_count": 39,
   "id": "5c91936a",
   "metadata": {},
   "outputs": [
    {
     "data": {
      "text/plain": [
       "<AxesSubplot:>"
      ]
     },
     "execution_count": 39,
     "metadata": {},
     "output_type": "execute_result"
    },
    {
     "data": {
      "image/png": "[encoded data removed]",
      "text/plain": [
       "<Figure size 432x288 with 1 Axes>"
      ]
     },
     "metadata": {
      "needs_background": "light"
     },
     "output_type": "display_data"
    }
   ],
   "source": [
    "df['Length'].plot.box()"
   ]
  },
  {
   "cell_type": "code",
   "execution_count": 40,
   "id": "e6ebe65c",
   "metadata": {},
   "outputs": [
    {
     "data": {
      "text/plain": [
       "<AxesSubplot:>"
      ]
     },
     "execution_count": 40,
     "metadata": {},
     "output_type": "execute_result"
    },
    {
     "data": {
      "image/png": "[encoded data removed]",
      "text/plain": [
       "<Figure size 432x288 with 1 Axes>"
      ]
     },
     "metadata": {
      "needs_background": "light"
     },
     "output_type": "display_data"
    }
   ],
   "source": [
    "df['Diameter'].plot.box()"
   ]
  },
  {
   "cell_type": "code",
   "execution_count": 41,
   "id": "ff33c31e",
   "metadata": {},
   "outputs": [
    {
     "data": {
      "text/plain": [
       "<AxesSubplot:>"
      ]
     },
     "execution_count": 41,
     "metadata": {},
     "output_type": "execute_result"
    },
    {
     "data": {
      "image/png": "[encoded data removed]",
      "text/plain": [
       "<Figure size 432x288 with 1 Axes>"
      ]
     },
     "metadata": {
      "needs_background": "light"
     },
     "output_type": "display_data"
    }
   ],
   "source": [
    "df['Height'].plot.box()"
   ]
  },
  {
   "cell_type": "code",
   "execution_count": 42,
   "id": "7c63245d",
   "metadata": {},
   "outputs": [
    {
     "data": {
      "text/plain": [
       "<AxesSubplot:>"
      ]
     },
     "execution_count": 42,
     "metadata": {},
     "output_type": "execute_result"
    },
    {
     "data": {
      "image/png": "[encoded data removed]",
      "text/plain": [
       "<Figure size 432x288 with 1 Axes>"
      ]
     },
     "metadata": {
      "needs_background": "light"
     },
     "output_type": "display_data"
    }
   ],
   "source": [
    "df['Whole weight'].plot.box()"
   ]
  },
  {
   "cell_type": "code",
   "execution_count": 43,
   "id": "98057837",
   "metadata": {},
   "outputs": [
    {
     "data": {
      "text/plain": [
       "<AxesSubplot:>"
      ]
     },
     "execution_count": 43,
     "metadata": {},
     "output_type": "execute_result"
    },
    {
     "data": {
      "image/png": "[encoded data removed]",
      "text/plain": [
       "<Figure size 432x288 with 1 Axes>"
      ]
     },
     "metadata": {
      "needs_background": "light"
     },
     "output_type": "display_data"
    }
   ],
   "source": [
    "df['Shucked weight'].plot.box()"
   ]
  },
  {
   "cell_type": "code",
   "execution_count": 44,
   "id": "50e68e3d",
   "metadata": {},
   "outputs": [
    {
     "data": {
      "text/plain": [
       "<AxesSubplot:>"
      ]
     },
     "execution_count": 44,
     "metadata": {},
     "output_type": "execute_result"
    },
    {
     "data": {
      "image/png": "[encoded data removed]",
      "text/plain": [
       "<Figure size 432x288 with 1 Axes>"
      ]
     },
     "metadata": {
      "needs_background": "light"
     },
     "output_type": "display_data"
    }
   ],
   "source": [
    "df['Viscera weight'].plot.box()"
   ]
  },
  {
   "cell_type": "code",
   "execution_count": 45,
   "id": "a84cbc93",
   "metadata": {},
   "outputs": [
    {
     "data": {
      "text/plain": [
       "<AxesSubplot:>"
      ]
     },
     "execution_count": 45,
     "metadata": {},
     "output_type": "execute_result"
    },
    {
     "data": {
      "image/png": "[encoded data removed]",
      "text/plain": [
       "<Figure size 432x288 with 1 Axes>"
      ]
     },
     "metadata": {
      "needs_background": "light"
     },
     "output_type": "display_data"
    }
   ],
   "source": [
    "df['Shell weight'].plot.box()"
   ]
  },
  {
   "cell_type": "code",
   "execution_count": 46,
   "id": "27cb50cd",
   "metadata": {},
   "outputs": [
    {
     "data": {
      "text/plain": [
       "<AxesSubplot:>"
      ]
     },
     "execution_count": 46,
     "metadata": {},
     "output_type": "execute_result"
    },
    {
     "data": {
      "image/png": "[encoded data removed]",
      "text/plain": [
       "<Figure size 432x288 with 1 Axes>"
      ]
     },
     "metadata": {
      "needs_background": "light"
     },
     "output_type": "display_data"
    }
   ],
   "source": [
    "df['Rings'].plot.box()"
   ]
  },
  {
   "cell_type": "markdown",
   "id": "797b9b15",
   "metadata": {},
   "source": [
    "# Considering the outliers removal"
   ]
  },
  {
   "cell_type": "code",
   "execution_count": 48,
   "id": "1bf7bc63",
   "metadata": {},
   "outputs": [
    {
     "data": {
      "text/plain": [
       "(4177, 9)"
      ]
     },
     "execution_count": 48,
     "metadata": {},
     "output_type": "execute_result"
    }
   ],
   "source": [
    "df.shape"
   ]
  },
  {
   "cell_type": "markdown",
   "id": "be9e58a9",
   "metadata": {},
   "source": [
    "Dropping off the sex column"
   ]
  },
  {
   "cell_type": "code",
   "execution_count": 56,
   "id": "823f9a11",
   "metadata": {},
   "outputs": [],
   "source": [
    "df=df.drop([\"Sex\"],axis=1)"
   ]
  },
  {
   "cell_type": "code",
   "execution_count": 57,
   "id": "f98058d4",
   "metadata": {},
   "outputs": [
    {
     "data": {
      "text/html": [
       "<div>\n",
       "<style scoped>\n",
       "    .dataframe tbody tr th:only-of-type {\n",
       "        vertical-align: middle;\n",
       "    }\n",
       "\n",
       "    .dataframe tbody tr th {\n",
       "        vertical-align: top;\n",
       "    }\n",
       "\n",
       "    .dataframe thead th {\n",
       "        text-align: right;\n",
       "    }\n",
       "</style>\n",
       "<table border=\"1\" class=\"dataframe\">\n",
       "  <thead>\n",
       "    <tr style=\"text-align: right;\">\n",
       "      <th></th>\n",
       "      <th>Length</th>\n",
       "      <th>Diameter</th>\n",
       "      <th>Height</th>\n",
       "      <th>Whole weight</th>\n",
       "      <th>Shucked weight</th>\n",
       "      <th>Viscera weight</th>\n",
       "      <th>Shell weight</th>\n",
       "      <th>Rings</th>\n",
       "    </tr>\n",
       "  </thead>\n",
       "  <tbody>\n",
       "    <tr>\n",
       "      <th>0</th>\n",
       "      <td>0.455</td>\n",
       "      <td>0.365</td>\n",
       "      <td>0.095</td>\n",
       "      <td>0.5140</td>\n",
       "      <td>0.2245</td>\n",
       "      <td>0.1010</td>\n",
       "      <td>0.1500</td>\n",
       "      <td>15</td>\n",
       "    </tr>\n",
       "    <tr>\n",
       "      <th>1</th>\n",
       "      <td>0.350</td>\n",
       "      <td>0.265</td>\n",
       "      <td>0.090</td>\n",
       "      <td>0.2255</td>\n",
       "      <td>0.0995</td>\n",
       "      <td>0.0485</td>\n",
       "      <td>0.0700</td>\n",
       "      <td>7</td>\n",
       "    </tr>\n",
       "    <tr>\n",
       "      <th>2</th>\n",
       "      <td>0.530</td>\n",
       "      <td>0.420</td>\n",
       "      <td>0.135</td>\n",
       "      <td>0.6770</td>\n",
       "      <td>0.2565</td>\n",
       "      <td>0.1415</td>\n",
       "      <td>0.2100</td>\n",
       "      <td>9</td>\n",
       "    </tr>\n",
       "    <tr>\n",
       "      <th>3</th>\n",
       "      <td>0.440</td>\n",
       "      <td>0.365</td>\n",
       "      <td>0.125</td>\n",
       "      <td>0.5160</td>\n",
       "      <td>0.2155</td>\n",
       "      <td>0.1140</td>\n",
       "      <td>0.1550</td>\n",
       "      <td>10</td>\n",
       "    </tr>\n",
       "    <tr>\n",
       "      <th>4</th>\n",
       "      <td>0.330</td>\n",
       "      <td>0.255</td>\n",
       "      <td>0.080</td>\n",
       "      <td>0.2050</td>\n",
       "      <td>0.0895</td>\n",
       "      <td>0.0395</td>\n",
       "      <td>0.0550</td>\n",
       "      <td>7</td>\n",
       "    </tr>\n",
       "    <tr>\n",
       "      <th>...</th>\n",
       "      <td>...</td>\n",
       "      <td>...</td>\n",
       "      <td>...</td>\n",
       "      <td>...</td>\n",
       "      <td>...</td>\n",
       "      <td>...</td>\n",
       "      <td>...</td>\n",
       "      <td>...</td>\n",
       "    </tr>\n",
       "    <tr>\n",
       "      <th>4172</th>\n",
       "      <td>0.565</td>\n",
       "      <td>0.450</td>\n",
       "      <td>0.165</td>\n",
       "      <td>0.8870</td>\n",
       "      <td>0.3700</td>\n",
       "      <td>0.2390</td>\n",
       "      <td>0.2490</td>\n",
       "      <td>11</td>\n",
       "    </tr>\n",
       "    <tr>\n",
       "      <th>4173</th>\n",
       "      <td>0.590</td>\n",
       "      <td>0.440</td>\n",
       "      <td>0.135</td>\n",
       "      <td>0.9660</td>\n",
       "      <td>0.4390</td>\n",
       "      <td>0.2145</td>\n",
       "      <td>0.2605</td>\n",
       "      <td>10</td>\n",
       "    </tr>\n",
       "    <tr>\n",
       "      <th>4174</th>\n",
       "      <td>0.600</td>\n",
       "      <td>0.475</td>\n",
       "      <td>0.205</td>\n",
       "      <td>1.1760</td>\n",
       "      <td>0.5255</td>\n",
       "      <td>0.2875</td>\n",
       "      <td>0.3080</td>\n",
       "      <td>9</td>\n",
       "    </tr>\n",
       "    <tr>\n",
       "      <th>4175</th>\n",
       "      <td>0.625</td>\n",
       "      <td>0.485</td>\n",
       "      <td>0.150</td>\n",
       "      <td>1.0945</td>\n",
       "      <td>0.5310</td>\n",
       "      <td>0.2610</td>\n",
       "      <td>0.2960</td>\n",
       "      <td>10</td>\n",
       "    </tr>\n",
       "    <tr>\n",
       "      <th>4176</th>\n",
       "      <td>0.710</td>\n",
       "      <td>0.555</td>\n",
       "      <td>0.195</td>\n",
       "      <td>1.9485</td>\n",
       "      <td>0.9455</td>\n",
       "      <td>0.3765</td>\n",
       "      <td>0.4950</td>\n",
       "      <td>12</td>\n",
       "    </tr>\n",
       "  </tbody>\n",
       "</table>\n",
       "<p>4177 rows × 8 columns</p>\n",
       "</div>"
      ],
      "text/plain": [
       "      Length  Diameter  Height  Whole weight  Shucked weight  Viscera weight  \\\n",
       "0      0.455     0.365   0.095        0.5140          0.2245          0.1010   \n",
       "1      0.350     0.265   0.090        0.2255          0.0995          0.0485   \n",
       "2      0.530     0.420   0.135        0.6770          0.2565          0.1415   \n",
       "3      0.440     0.365   0.125        0.5160          0.2155          0.1140   \n",
       "4      0.330     0.255   0.080        0.2050          0.0895          0.0395   \n",
       "...      ...       ...     ...           ...             ...             ...   \n",
       "4172   0.565     0.450   0.165        0.8870          0.3700          0.2390   \n",
       "4173   0.590     0.440   0.135        0.9660          0.4390          0.2145   \n",
       "4174   0.600     0.475   0.205        1.1760          0.5255          0.2875   \n",
       "4175   0.625     0.485   0.150        1.0945          0.5310          0.2610   \n",
       "4176   0.710     0.555   0.195        1.9485          0.9455          0.3765   \n",
       "\n",
       "      Shell weight  Rings  \n",
       "0           0.1500     15  \n",
       "1           0.0700      7  \n",
       "2           0.2100      9  \n",
       "3           0.1550     10  \n",
       "4           0.0550      7  \n",
       "...            ...    ...  \n",
       "4172        0.2490     11  \n",
       "4173        0.2605     10  \n",
       "4174        0.3080      9  \n",
       "4175        0.2960     10  \n",
       "4176        0.4950     12  \n",
       "\n",
       "[4177 rows x 8 columns]"
      ]
     },
     "execution_count": 57,
     "metadata": {},
     "output_type": "execute_result"
    }
   ],
   "source": [
    "df"
   ]
  },
  {
   "cell_type": "code",
   "execution_count": 58,
   "id": "d38022bc",
   "metadata": {},
   "outputs": [
    {
     "data": {
      "text/plain": [
       "(array([   6,   72,   81,   83,  129,  163,  164,  165,  165,  165,  166,\n",
       "         166,  167,  168,  170,  181,  232,  236,  236,  236,  237,  237,\n",
       "         238,  238,  239,  270,  275,  277,  278,  294,  310,  313,  314,\n",
       "         334,  351,  355,  358,  358,  362,  375,  416,  417,  428,  431,\n",
       "         433,  469,  478,  480,  501,  526,  526,  530,  572,  628,  673,\n",
       "         674,  675,  678,  694,  696,  696,  719,  719,  720,  720,  744,\n",
       "         754,  756,  811,  891,  891,  891, 1048, 1051, 1051, 1052, 1193,\n",
       "        1197, 1199, 1202, 1204, 1206, 1206, 1207, 1207, 1207, 1207, 1209,\n",
       "        1209, 1257, 1417, 1417, 1418, 1422, 1426, 1427, 1427, 1427, 1428,\n",
       "        1429, 1429, 1528, 1754, 1756, 1757, 1759, 1761, 1762, 1762, 1762,\n",
       "        1763, 1763, 1763, 1821, 1982, 1986, 1987, 1987, 2051, 2090, 2108,\n",
       "        2108, 2114, 2114, 2157, 2161, 2176, 2180, 2199, 2201, 2208, 2209,\n",
       "        2274, 2275, 2305, 2334, 2334, 2334, 2335, 2344, 2358, 2368, 2381,\n",
       "        2436, 2459, 2471, 2544, 2623, 2624, 2624, 2624, 2625, 2709, 2710,\n",
       "        2710, 2810, 2810, 2811, 2811, 2811, 2862, 2863, 2863, 2863, 3007,\n",
       "        3008, 3140, 3148, 3149, 3149, 3151, 3151, 3188, 3193, 3280, 3359,\n",
       "        3427, 3427, 3427, 3599, 3599, 3628, 3713, 3715, 3715, 3715, 3715,\n",
       "        3800, 3837, 3899, 3899, 3902, 3924, 3930, 3944, 3961, 3962, 3996,\n",
       "        4145, 4148], dtype=int64),\n",
       " array([7, 7, 6, 7, 6, 6, 6, 3, 4, 6, 6, 7, 7, 6, 5, 7, 7, 0, 1, 2, 0, 1,\n",
       "        0, 1, 0, 7, 7, 6, 7, 7, 7, 7, 7, 6, 7, 7, 3, 6, 7, 7, 7, 7, 7, 7,\n",
       "        7, 7, 7, 7, 7, 0, 1, 7, 7, 7, 7, 7, 7, 7, 1, 0, 1, 0, 1, 0, 1, 7,\n",
       "        7, 7, 7, 3, 4, 6, 5, 3, 4, 3, 4, 4, 4, 4, 5, 4, 5, 3, 4, 5, 6, 3,\n",
       "        4, 2, 2, 4, 4, 5, 4, 3, 4, 5, 6, 0, 1, 4, 4, 4, 5, 5, 4, 3, 4, 5,\n",
       "        3, 4, 5, 4, 4, 0, 0, 1, 2, 6, 6, 7, 0, 1, 6, 6, 7, 7, 7, 7, 6, 7,\n",
       "        6, 7, 7, 3, 5, 7, 7, 7, 7, 6, 0, 7, 7, 7, 4, 3, 3, 4, 5, 4, 5, 4,\n",
       "        5, 4, 5, 3, 4, 5, 4, 3, 4, 5, 4, 6, 7, 6, 6, 7, 6, 7, 6, 7, 7, 7,\n",
       "        3, 4, 5, 3, 4, 5, 4, 3, 4, 5, 6, 3, 1, 0, 1, 0, 7, 7, 7, 4, 4, 2,\n",
       "        6, 5], dtype=int64))"
      ]
     },
     "execution_count": 58,
     "metadata": {},
     "output_type": "execute_result"
    }
   ],
   "source": [
    "from scipy.stats import zscore\n",
    "import numpy as np\n",
    "z=np.abs(zscore(df))\n",
    "threshold=3\n",
    "np.where(z>3)"
   ]
  },
  {
   "cell_type": "code",
   "execution_count": 59,
   "id": "eb4e464f",
   "metadata": {},
   "outputs": [
    {
     "data": {
      "text/html": [
       "<div>\n",
       "<style scoped>\n",
       "    .dataframe tbody tr th:only-of-type {\n",
       "        vertical-align: middle;\n",
       "    }\n",
       "\n",
       "    .dataframe tbody tr th {\n",
       "        vertical-align: top;\n",
       "    }\n",
       "\n",
       "    .dataframe thead th {\n",
       "        text-align: right;\n",
       "    }\n",
       "</style>\n",
       "<table border=\"1\" class=\"dataframe\">\n",
       "  <thead>\n",
       "    <tr style=\"text-align: right;\">\n",
       "      <th></th>\n",
       "      <th>Length</th>\n",
       "      <th>Diameter</th>\n",
       "      <th>Height</th>\n",
       "      <th>Whole weight</th>\n",
       "      <th>Shucked weight</th>\n",
       "      <th>Viscera weight</th>\n",
       "      <th>Shell weight</th>\n",
       "      <th>Rings</th>\n",
       "    </tr>\n",
       "  </thead>\n",
       "  <tbody>\n",
       "    <tr>\n",
       "      <th>0</th>\n",
       "      <td>0.455</td>\n",
       "      <td>0.365</td>\n",
       "      <td>0.095</td>\n",
       "      <td>0.5140</td>\n",
       "      <td>0.2245</td>\n",
       "      <td>0.1010</td>\n",
       "      <td>0.1500</td>\n",
       "      <td>15</td>\n",
       "    </tr>\n",
       "    <tr>\n",
       "      <th>1</th>\n",
       "      <td>0.350</td>\n",
       "      <td>0.265</td>\n",
       "      <td>0.090</td>\n",
       "      <td>0.2255</td>\n",
       "      <td>0.0995</td>\n",
       "      <td>0.0485</td>\n",
       "      <td>0.0700</td>\n",
       "      <td>7</td>\n",
       "    </tr>\n",
       "    <tr>\n",
       "      <th>2</th>\n",
       "      <td>0.530</td>\n",
       "      <td>0.420</td>\n",
       "      <td>0.135</td>\n",
       "      <td>0.6770</td>\n",
       "      <td>0.2565</td>\n",
       "      <td>0.1415</td>\n",
       "      <td>0.2100</td>\n",
       "      <td>9</td>\n",
       "    </tr>\n",
       "    <tr>\n",
       "      <th>3</th>\n",
       "      <td>0.440</td>\n",
       "      <td>0.365</td>\n",
       "      <td>0.125</td>\n",
       "      <td>0.5160</td>\n",
       "      <td>0.2155</td>\n",
       "      <td>0.1140</td>\n",
       "      <td>0.1550</td>\n",
       "      <td>10</td>\n",
       "    </tr>\n",
       "    <tr>\n",
       "      <th>4</th>\n",
       "      <td>0.330</td>\n",
       "      <td>0.255</td>\n",
       "      <td>0.080</td>\n",
       "      <td>0.2050</td>\n",
       "      <td>0.0895</td>\n",
       "      <td>0.0395</td>\n",
       "      <td>0.0550</td>\n",
       "      <td>7</td>\n",
       "    </tr>\n",
       "    <tr>\n",
       "      <th>...</th>\n",
       "      <td>...</td>\n",
       "      <td>...</td>\n",
       "      <td>...</td>\n",
       "      <td>...</td>\n",
       "      <td>...</td>\n",
       "      <td>...</td>\n",
       "      <td>...</td>\n",
       "      <td>...</td>\n",
       "    </tr>\n",
       "    <tr>\n",
       "      <th>4172</th>\n",
       "      <td>0.565</td>\n",
       "      <td>0.450</td>\n",
       "      <td>0.165</td>\n",
       "      <td>0.8870</td>\n",
       "      <td>0.3700</td>\n",
       "      <td>0.2390</td>\n",
       "      <td>0.2490</td>\n",
       "      <td>11</td>\n",
       "    </tr>\n",
       "    <tr>\n",
       "      <th>4173</th>\n",
       "      <td>0.590</td>\n",
       "      <td>0.440</td>\n",
       "      <td>0.135</td>\n",
       "      <td>0.9660</td>\n",
       "      <td>0.4390</td>\n",
       "      <td>0.2145</td>\n",
       "      <td>0.2605</td>\n",
       "      <td>10</td>\n",
       "    </tr>\n",
       "    <tr>\n",
       "      <th>4174</th>\n",
       "      <td>0.600</td>\n",
       "      <td>0.475</td>\n",
       "      <td>0.205</td>\n",
       "      <td>1.1760</td>\n",
       "      <td>0.5255</td>\n",
       "      <td>0.2875</td>\n",
       "      <td>0.3080</td>\n",
       "      <td>9</td>\n",
       "    </tr>\n",
       "    <tr>\n",
       "      <th>4175</th>\n",
       "      <td>0.625</td>\n",
       "      <td>0.485</td>\n",
       "      <td>0.150</td>\n",
       "      <td>1.0945</td>\n",
       "      <td>0.5310</td>\n",
       "      <td>0.2610</td>\n",
       "      <td>0.2960</td>\n",
       "      <td>10</td>\n",
       "    </tr>\n",
       "    <tr>\n",
       "      <th>4176</th>\n",
       "      <td>0.710</td>\n",
       "      <td>0.555</td>\n",
       "      <td>0.195</td>\n",
       "      <td>1.9485</td>\n",
       "      <td>0.9455</td>\n",
       "      <td>0.3765</td>\n",
       "      <td>0.4950</td>\n",
       "      <td>12</td>\n",
       "    </tr>\n",
       "  </tbody>\n",
       "</table>\n",
       "<p>4027 rows × 8 columns</p>\n",
       "</div>"
      ],
      "text/plain": [
       "      Length  Diameter  Height  Whole weight  Shucked weight  Viscera weight  \\\n",
       "0      0.455     0.365   0.095        0.5140          0.2245          0.1010   \n",
       "1      0.350     0.265   0.090        0.2255          0.0995          0.0485   \n",
       "2      0.530     0.420   0.135        0.6770          0.2565          0.1415   \n",
       "3      0.440     0.365   0.125        0.5160          0.2155          0.1140   \n",
       "4      0.330     0.255   0.080        0.2050          0.0895          0.0395   \n",
       "...      ...       ...     ...           ...             ...             ...   \n",
       "4172   0.565     0.450   0.165        0.8870          0.3700          0.2390   \n",
       "4173   0.590     0.440   0.135        0.9660          0.4390          0.2145   \n",
       "4174   0.600     0.475   0.205        1.1760          0.5255          0.2875   \n",
       "4175   0.625     0.485   0.150        1.0945          0.5310          0.2610   \n",
       "4176   0.710     0.555   0.195        1.9485          0.9455          0.3765   \n",
       "\n",
       "      Shell weight  Rings  \n",
       "0           0.1500     15  \n",
       "1           0.0700      7  \n",
       "2           0.2100      9  \n",
       "3           0.1550     10  \n",
       "4           0.0550      7  \n",
       "...            ...    ...  \n",
       "4172        0.2490     11  \n",
       "4173        0.2605     10  \n",
       "4174        0.3080      9  \n",
       "4175        0.2960     10  \n",
       "4176        0.4950     12  \n",
       "\n",
       "[4027 rows x 8 columns]"
      ]
     },
     "execution_count": 59,
     "metadata": {},
     "output_type": "execute_result"
    }
   ],
   "source": [
    "df_new_z=df[(z<3).all(axis=1)]\n",
    "df_new_z"
   ]
  },
  {
   "cell_type": "code",
   "execution_count": 60,
   "id": "4de248f5",
   "metadata": {},
   "outputs": [
    {
     "data": {
      "text/plain": [
       "(4027, 8)"
      ]
     },
     "execution_count": 60,
     "metadata": {},
     "output_type": "execute_result"
    }
   ],
   "source": [
    "df_new_z.shape"
   ]
  },
  {
   "cell_type": "code",
   "execution_count": 61,
   "id": "200679c0",
   "metadata": {},
   "outputs": [
    {
     "data": {
      "text/plain": [
       "3.5910940866650707"
      ]
     },
     "execution_count": 61,
     "metadata": {},
     "output_type": "execute_result"
    }
   ],
   "source": [
    "#percentage for the loss of data\n",
    "\n",
    "Data_loss=((4177-4027)/4177)*100\n",
    "Data_loss"
   ]
  },
  {
   "cell_type": "markdown",
   "id": "308d5f83",
   "metadata": {},
   "source": [
    "# Separating the columns into features and target"
   ]
  },
  {
   "cell_type": "code",
   "execution_count": 62,
   "id": "7528410a",
   "metadata": {},
   "outputs": [],
   "source": [
    "features=df.drop(\"Rings\",axis=1)\n",
    "target=df[\"Rings\"]"
   ]
  },
  {
   "cell_type": "markdown",
   "id": "edecf6a7",
   "metadata": {},
   "source": [
    "# Scaling the data using Min-Max scaler"
   ]
  },
  {
   "cell_type": "code",
   "execution_count": 63,
   "id": "d95d2ef2",
   "metadata": {},
   "outputs": [],
   "source": [
    "from sklearn.preprocessing import MinMaxScaler\n",
    "nms=MinMaxScaler()\n",
    "from sklearn.linear_model import LinearRegression\n",
    "lr=LinearRegression()\n",
    "from sklearn.metrics import r2_score\n",
    "from sklearn.model_selection import train_test_split"
   ]
  },
  {
   "cell_type": "code",
   "execution_count": 64,
   "id": "3c298955",
   "metadata": {},
   "outputs": [],
   "source": [
    "import warnings\n",
    "warnings.filterwarnings('ignore')"
   ]
  },
  {
   "cell_type": "code",
   "execution_count": 65,
   "id": "79bb599e",
   "metadata": {},
   "outputs": [
    {
     "name": "stdout",
     "output_type": "stream",
     "text": [
      "At random state 0,the training accuracy is:-0.5263511332802139\n",
      "At random state 0,the training accuracy is:-0.5300888107050662\n",
      "\n",
      "\n",
      "At random state 1,the training accuracy is:-0.5340011363528108\n",
      "At random state 1,the training accuracy is:-0.499018503912274\n",
      "\n",
      "\n",
      "At random state 2,the training accuracy is:-0.5258178022622078\n",
      "At random state 2,the training accuracy is:-0.51535734862094\n",
      "\n",
      "\n",
      "At random state 3,the training accuracy is:-0.5324918442680211\n",
      "At random state 3,the training accuracy is:-0.5033769803249402\n",
      "\n",
      "\n",
      "At random state 4,the training accuracy is:-0.5380200121142887\n",
      "At random state 4,the training accuracy is:-0.4729866919966882\n",
      "\n",
      "\n",
      "At random state 5,the training accuracy is:-0.5387216861078332\n",
      "At random state 5,the training accuracy is:-0.4807449388341014\n",
      "\n",
      "\n",
      "At random state 6,the training accuracy is:-0.5177718817458011\n",
      "At random state 6,the training accuracy is:-0.5654258006256203\n",
      "\n",
      "\n",
      "At random state 7,the training accuracy is:-0.5239983079674566\n",
      "At random state 7,the training accuracy is:-0.535430614443089\n",
      "\n",
      "\n",
      "At random state 8,the training accuracy is:-0.5353534068049866\n",
      "At random state 8,the training accuracy is:-0.49356838957980953\n",
      "\n",
      "\n",
      "At random state 9,the training accuracy is:-0.535511896338276\n",
      "At random state 9,the training accuracy is:-0.493637174544865\n",
      "\n",
      "\n",
      "At random state 10,the training accuracy is:-0.5250100583804479\n",
      "At random state 10,the training accuracy is:-0.5380071328005689\n",
      "\n",
      "\n",
      "At random state 11,the training accuracy is:-0.5191910968608583\n",
      "At random state 11,the training accuracy is:-0.5585371654906749\n",
      "\n",
      "\n",
      "At random state 12,the training accuracy is:-0.5150791738947342\n",
      "At random state 12,the training accuracy is:-0.5726080822066397\n",
      "\n",
      "\n",
      "At random state 13,the training accuracy is:-0.5248725323077099\n",
      "At random state 13,the training accuracy is:-0.537520106305247\n",
      "\n",
      "\n",
      "At random state 14,the training accuracy is:-0.5367236712678032\n",
      "At random state 14,the training accuracy is:-0.4654884140628186\n",
      "\n",
      "\n",
      "At random state 15,the training accuracy is:-0.5378405731075874\n",
      "At random state 15,the training accuracy is:-0.48361865357309086\n",
      "\n",
      "\n",
      "At random state 16,the training accuracy is:-0.5292695558151799\n",
      "At random state 16,the training accuracy is:-0.5190828928954373\n",
      "\n",
      "\n",
      "At random state 17,the training accuracy is:-0.5219074582417706\n",
      "At random state 17,the training accuracy is:-0.5471114380936761\n",
      "\n",
      "\n",
      "At random state 18,the training accuracy is:-0.5292583776930699\n",
      "At random state 18,the training accuracy is:-0.5193078103491238\n",
      "\n",
      "\n",
      "At random state 19,the training accuracy is:-0.5419917693965568\n",
      "At random state 19,the training accuracy is:-0.4678264313300827\n",
      "\n",
      "\n",
      "At random state 20,the training accuracy is:-0.5356543365374025\n",
      "At random state 20,the training accuracy is:-0.4971977628337153\n",
      "\n",
      "\n",
      "At random state 21,the training accuracy is:-0.5252567570836186\n",
      "At random state 21,the training accuracy is:-0.5308252878086457\n",
      "\n",
      "\n",
      "At random state 22,the training accuracy is:-0.5408326272529973\n",
      "At random state 22,the training accuracy is:-0.44842611414308975\n",
      "\n",
      "\n",
      "At random state 23,the training accuracy is:-0.5367244617526157\n",
      "At random state 23,the training accuracy is:-0.4889216266530957\n",
      "\n",
      "\n",
      "At random state 24,the training accuracy is:-0.5340421634407662\n",
      "At random state 24,the training accuracy is:-0.4947500296496933\n",
      "\n",
      "\n",
      "At random state 25,the training accuracy is:-0.5377654556436223\n",
      "At random state 25,the training accuracy is:-0.4114053016623245\n",
      "\n",
      "\n",
      "At random state 26,the training accuracy is:-0.5270014351754655\n",
      "At random state 26,the training accuracy is:-0.5277674325151331\n",
      "\n",
      "\n",
      "At random state 27,the training accuracy is:-0.5341081786053596\n",
      "At random state 27,the training accuracy is:-0.4731035633879297\n",
      "\n",
      "\n",
      "At random state 28,the training accuracy is:-0.5223756527319625\n",
      "At random state 28,the training accuracy is:-0.54660642796224\n",
      "\n",
      "\n",
      "At random state 29,the training accuracy is:-0.5300290248305711\n",
      "At random state 29,the training accuracy is:-0.5173030236836307\n",
      "\n",
      "\n",
      "At random state 30,the training accuracy is:-0.5162869940095727\n",
      "At random state 30,the training accuracy is:-0.5681943014538771\n",
      "\n",
      "\n",
      "At random state 31,the training accuracy is:-0.5121711802290462\n",
      "At random state 31,the training accuracy is:-0.5771110218287503\n",
      "\n",
      "\n",
      "At random state 32,the training accuracy is:-0.528358369392999\n",
      "At random state 32,the training accuracy is:-0.5234879625414766\n",
      "\n",
      "\n",
      "At random state 33,the training accuracy is:-0.5236988996380094\n",
      "At random state 33,the training accuracy is:-0.5388518879690354\n",
      "\n",
      "\n",
      "At random state 34,the training accuracy is:-0.5380628333280522\n",
      "At random state 34,the training accuracy is:-0.4814399670212687\n",
      "\n",
      "\n",
      "At random state 35,the training accuracy is:-0.533372498861834\n",
      "At random state 35,the training accuracy is:-0.4752966942731214\n",
      "\n",
      "\n",
      "At random state 36,the training accuracy is:-0.5308550826342548\n",
      "At random state 36,the training accuracy is:-0.5128021969221457\n",
      "\n",
      "\n",
      "At random state 37,the training accuracy is:-0.5170416660913958\n",
      "At random state 37,the training accuracy is:-0.5706240820501529\n",
      "\n",
      "\n",
      "At random state 38,the training accuracy is:-0.5227806150507031\n",
      "At random state 38,the training accuracy is:-0.5432514776268492\n",
      "\n",
      "\n",
      "At random state 39,the training accuracy is:-0.5308159563813254\n",
      "At random state 39,the training accuracy is:-0.4767131289627594\n",
      "\n",
      "\n",
      "At random state 40,the training accuracy is:-0.5342465634101609\n",
      "At random state 40,the training accuracy is:-0.49796172049978615\n",
      "\n",
      "\n",
      "At random state 41,the training accuracy is:-0.5354307071436972\n",
      "At random state 41,the training accuracy is:-0.45377089325168196\n",
      "\n",
      "\n",
      "At random state 42,the training accuracy is:-0.5260176935365597\n",
      "At random state 42,the training accuracy is:-0.5329844757724522\n",
      "\n",
      "\n",
      "At random state 43,the training accuracy is:-0.517287706381909\n",
      "At random state 43,the training accuracy is:-0.5719602612547967\n",
      "\n",
      "\n",
      "At random state 44,the training accuracy is:-0.5315050434018647\n",
      "At random state 44,the training accuracy is:-0.5115745619417871\n",
      "\n",
      "\n",
      "At random state 45,the training accuracy is:-0.5279495763389734\n",
      "At random state 45,the training accuracy is:-0.5249584769608462\n",
      "\n",
      "\n",
      "At random state 46,the training accuracy is:-0.5288387637681297\n",
      "At random state 46,the training accuracy is:-0.5174810336050991\n",
      "\n",
      "\n",
      "At random state 47,the training accuracy is:-0.5356562371895561\n",
      "At random state 47,the training accuracy is:-0.45287871726203843\n",
      "\n",
      "\n",
      "At random state 48,the training accuracy is:-0.5243807708299438\n",
      "At random state 48,the training accuracy is:-0.5392371422828947\n",
      "\n",
      "\n",
      "At random state 49,the training accuracy is:-0.5331112620297546\n",
      "At random state 49,the training accuracy is:-0.5040599629134622\n",
      "\n",
      "\n",
      "At random state 50,the training accuracy is:-0.5272456428212775\n",
      "At random state 50,the training accuracy is:-0.4961015435915046\n",
      "\n",
      "\n",
      "At random state 51,the training accuracy is:-0.5280031515347874\n",
      "At random state 51,the training accuracy is:-0.49805666730916687\n",
      "\n",
      "\n",
      "At random state 52,the training accuracy is:-0.5210672082798122\n",
      "At random state 52,the training accuracy is:-0.5524904197890032\n",
      "\n",
      "\n",
      "At random state 53,the training accuracy is:-0.5215644397398239\n",
      "At random state 53,the training accuracy is:-0.5473056598394643\n",
      "\n",
      "\n",
      "At random state 54,the training accuracy is:-0.5360250549618001\n",
      "At random state 54,the training accuracy is:-0.4901272764814344\n",
      "\n",
      "\n",
      "At random state 55,the training accuracy is:-0.530064843925251\n",
      "At random state 55,the training accuracy is:-0.5134862887115463\n",
      "\n",
      "\n",
      "At random state 56,the training accuracy is:-0.527064154223269\n",
      "At random state 56,the training accuracy is:-0.49055601734214593\n",
      "\n",
      "\n",
      "At random state 57,the training accuracy is:-0.5322665613329322\n",
      "At random state 57,the training accuracy is:-0.48889492516098254\n",
      "\n",
      "\n",
      "At random state 58,the training accuracy is:-0.5293080993708537\n",
      "At random state 58,the training accuracy is:-0.5161179289692955\n",
      "\n",
      "\n",
      "At random state 59,the training accuracy is:-0.5324250761949156\n",
      "At random state 59,the training accuracy is:-0.5048606642701878\n",
      "\n",
      "\n",
      "At random state 60,the training accuracy is:-0.5344249397162661\n",
      "At random state 60,the training accuracy is:-0.4968954270265744\n",
      "\n",
      "\n",
      "At random state 61,the training accuracy is:-0.52636453877143\n",
      "At random state 61,the training accuracy is:-0.4961198282804091\n",
      "\n",
      "\n",
      "At random state 62,the training accuracy is:-0.525419497022642\n",
      "At random state 62,the training accuracy is:-0.534418450111743\n",
      "\n",
      "\n",
      "At random state 63,the training accuracy is:-0.5372562669048303\n",
      "At random state 63,the training accuracy is:-0.45413029001098537\n",
      "\n",
      "\n",
      "At random state 64,the training accuracy is:-0.5244606104054794\n",
      "At random state 64,the training accuracy is:-0.5331392517569848\n",
      "\n",
      "\n",
      "At random state 65,the training accuracy is:-0.5305552510595113\n",
      "At random state 65,the training accuracy is:-0.4620370520834868\n",
      "\n",
      "\n",
      "At random state 66,the training accuracy is:-0.5391352194516035\n",
      "At random state 66,the training accuracy is:-0.4273499977675812\n",
      "\n",
      "\n",
      "At random state 67,the training accuracy is:-0.5278191526248461\n",
      "At random state 67,the training accuracy is:-0.5247546532303669\n",
      "\n",
      "\n",
      "At random state 68,the training accuracy is:-0.5329572094701213\n",
      "At random state 68,the training accuracy is:-0.504424083991253\n",
      "\n",
      "\n",
      "At random state 69,the training accuracy is:-0.523250529534651\n",
      "At random state 69,the training accuracy is:-0.542197147453797\n",
      "\n",
      "\n",
      "At random state 70,the training accuracy is:-0.5292383060284842\n",
      "At random state 70,the training accuracy is:-0.4936839569218392\n",
      "\n",
      "\n",
      "At random state 71,the training accuracy is:-0.5242181845157637\n",
      "At random state 71,the training accuracy is:-0.5396357268531964\n",
      "\n",
      "\n",
      "At random state 72,the training accuracy is:-0.5304538910654069\n",
      "At random state 72,the training accuracy is:-0.513882565773077\n",
      "\n",
      "\n",
      "At random state 73,the training accuracy is:-0.531689496250401\n",
      "At random state 73,the training accuracy is:-0.5079124145124189\n",
      "\n",
      "\n",
      "At random state 74,the training accuracy is:-0.5275773118124671\n",
      "At random state 74,the training accuracy is:-0.5253706594563263\n",
      "\n",
      "\n",
      "At random state 75,the training accuracy is:-0.531799245864889\n",
      "At random state 75,the training accuracy is:-0.505667645998207\n",
      "\n",
      "\n",
      "At random state 76,the training accuracy is:-0.5271753577745071\n",
      "At random state 76,the training accuracy is:-0.5273630866731507\n",
      "\n",
      "\n",
      "At random state 77,the training accuracy is:-0.5206781626831862\n",
      "At random state 77,the training accuracy is:-0.5546793162920057\n",
      "\n",
      "\n",
      "At random state 78,the training accuracy is:-0.531913817515857\n",
      "At random state 78,the training accuracy is:-0.5072323841193485\n",
      "\n",
      "\n",
      "At random state 79,the training accuracy is:-0.5316961316629448\n",
      "At random state 79,the training accuracy is:-0.5024577322299068\n",
      "\n",
      "\n",
      "At random state 80,the training accuracy is:-0.5303767674469104\n",
      "At random state 80,the training accuracy is:-0.5146352281858513\n",
      "\n",
      "\n",
      "At random state 81,the training accuracy is:-0.5182281098198063\n",
      "At random state 81,the training accuracy is:-0.5641640912030581\n",
      "\n",
      "\n",
      "At random state 82,the training accuracy is:-0.5252682780572252\n",
      "At random state 82,the training accuracy is:-0.5332769874150252\n",
      "\n",
      "\n",
      "At random state 83,the training accuracy is:-0.5316029454174682\n",
      "At random state 83,the training accuracy is:-0.5068642032792454\n",
      "\n",
      "\n",
      "At random state 84,the training accuracy is:-0.5351347966778555\n",
      "At random state 84,the training accuracy is:-0.4926865454530578\n",
      "\n",
      "\n",
      "At random state 85,the training accuracy is:-0.528424832203384\n",
      "At random state 85,the training accuracy is:-0.5223099979406427\n",
      "\n",
      "\n",
      "At random state 86,the training accuracy is:-0.5351337558155442\n",
      "At random state 86,the training accuracy is:-0.4745547121440523\n",
      "\n",
      "\n",
      "At random state 87,the training accuracy is:-0.5311973033364721\n",
      "At random state 87,the training accuracy is:-0.5075358535192254\n",
      "\n",
      "\n",
      "At random state 88,the training accuracy is:-0.5212338953988639\n",
      "At random state 88,the training accuracy is:-0.5517327903827189\n",
      "\n",
      "\n",
      "At random state 89,the training accuracy is:-0.5185789347287226\n",
      "At random state 89,the training accuracy is:-0.5620996686355925\n",
      "\n",
      "\n",
      "At random state 90,the training accuracy is:-0.5266214260038342\n",
      "At random state 90,the training accuracy is:-0.5289570111028681\n",
      "\n",
      "\n",
      "At random state 91,the training accuracy is:-0.5299488033217212\n",
      "At random state 91,the training accuracy is:-0.5155747085810007\n",
      "\n",
      "\n",
      "At random state 92,the training accuracy is:-0.5405975980509625\n",
      "At random state 92,the training accuracy is:-0.4504904470731025\n",
      "\n",
      "\n",
      "At random state 93,the training accuracy is:-0.522428400170663\n",
      "At random state 93,the training accuracy is:-0.5456280743110471\n",
      "\n",
      "\n",
      "At random state 94,the training accuracy is:-0.5231940924000102\n",
      "At random state 94,the training accuracy is:-0.5418477056364691\n",
      "\n",
      "\n",
      "At random state 95,the training accuracy is:-0.5200284113807583\n",
      "At random state 95,the training accuracy is:-0.5549010923869824\n",
      "\n",
      "\n",
      "At random state 96,the training accuracy is:-0.5265100077175855\n",
      "At random state 96,the training accuracy is:-0.5316685303176787\n",
      "\n",
      "\n",
      "At random state 97,the training accuracy is:-0.5238184435407672\n",
      "At random state 97,the training accuracy is:-0.5424069192040544\n",
      "\n",
      "\n",
      "At random state 98,the training accuracy is:-0.5396006612461612\n",
      "At random state 98,the training accuracy is:-0.4780750078538246\n",
      "\n",
      "\n",
      "At random state 99,the training accuracy is:-0.5354945828574136\n",
      "At random state 99,the training accuracy is:-0.46150387982469443\n",
      "\n",
      "\n"
     ]
    }
   ],
   "source": [
    "for i in range(0,100):\n",
    "    features_train,features_test,target_train,target_test=train_test_split(features,target, test_size=0.2,random_state=i)\n",
    "    lr.fit(features_train,target_train)\n",
    "    pred_train=lr.predict(features_train)\n",
    "    pred_test=lr.predict(features_test)\n",
    "    print(f\"At random state {i},the training accuracy is:-{r2_score(target_train,pred_train)}\")\n",
    "    print(f\"At random state {i},the training accuracy is:-{r2_score(target_test,pred_test)}\")\n",
    "    print(\"\\n\")"
   ]
  },
  {
   "cell_type": "code",
   "execution_count": 66,
   "id": "5a15abdd",
   "metadata": {},
   "outputs": [
    {
     "data": {
      "text/plain": [
       "LinearRegression()"
      ]
     },
     "execution_count": 66,
     "metadata": {},
     "output_type": "execute_result"
    }
   ],
   "source": [
    "features_train,features_test,target_train,target_test=train_test_split(features,target, test_size=0.2,random_state=12)\n",
    "lr.fit(features_train,target_train)"
   ]
  },
  {
   "cell_type": "code",
   "execution_count": 67,
   "id": "475e76b0",
   "metadata": {},
   "outputs": [
    {
     "name": "stdout",
     "output_type": "stream",
     "text": [
      "<function r2_score at 0x0000017F568BFAF0> 4161    11\n",
      "599     16\n",
      "2154    10\n",
      "2775    10\n",
      "846     11\n",
      "        ..\n",
      "2948     8\n",
      "783      6\n",
      "46       9\n",
      "3586    11\n",
      "1244     7\n",
      "Name: Rings, Length: 836, dtype: int64 [10.54103186 13.83351917 10.47425364 11.76043794  9.47864162  9.117391\n",
      " 10.07974656  8.24825919  8.6184344   9.2637119  10.27292432  8.1592825\n",
      "  7.9491014  10.3489791   9.29728986 11.60245185  7.89016424  9.1814063\n",
      "  7.13334019  9.47708642 13.35119642  6.81757737  7.01505912 10.14772631\n",
      " 10.87692556  9.15774185 11.10942213 11.32377083 13.42248084  9.01086282\n",
      " 10.80656054  6.34830408 11.82667835  7.53835852 12.56676489  9.22672194\n",
      "  7.86708238  7.49574987  9.34090838 11.64166765  8.49093484 13.97009545\n",
      "  7.6552183  11.13477046  8.03168034  7.73868421 10.32184283  8.15329311\n",
      " 10.15058869  9.23046131 10.8815119   9.15150412  9.14485332 13.42664847\n",
      " 10.00795016  5.7873628  13.13665374 11.65522314  8.70791175  9.35839168\n",
      "  9.78915151 10.91520456 10.14640731 11.55807511  9.01291947  8.6215442\n",
      "  6.40179194  9.75335375 12.11025658  8.33159552 10.83143345  9.3491326\n",
      " 12.38441747 12.33621933  7.71993286  7.87254149  8.24614743  7.76956712\n",
      "  8.63735201  7.59062928  9.38934799  8.46405859 10.46949419 15.60783642\n",
      " 10.90774371 14.36368879 12.91599834 10.35971122  8.37812347  6.39352591\n",
      " 10.86006389 11.37819439 11.28730842  8.30238622 11.35314059 11.74773642\n",
      " 12.95349459  7.48931914 11.12170417  8.37766337  9.89542538  9.63278126\n",
      "  8.36633533  9.20025013 10.1136092   8.08503351 12.27348551 11.31108971\n",
      "  8.38791786  5.98677224  8.55665679 12.60784155 12.49532462 11.66974747\n",
      "  7.7047104   9.12652539  9.4180771   9.83457191 10.04623634  8.04558698\n",
      "  7.81355145  7.16571462  5.47298546 10.98389458 14.53458451  9.25895187\n",
      "  9.63583429 12.40265198 11.73527744  9.94246226  9.23055926  5.05190015\n",
      " 11.13195078  9.97968909 10.82242631 12.42179446  7.00031016  9.38335181\n",
      " 11.12544417  7.61242261  5.34366231 12.37160269  9.67840927 11.69650726\n",
      "  9.63653572 12.29692036  9.12287644  7.37325082 10.71489561 18.94758788\n",
      "  6.66462564 10.43754841 11.89586831 10.74011914 11.25504099  8.85415253\n",
      " 12.86311805 11.81079498  8.38743044 11.8356727   7.91638697 10.72805923\n",
      " 10.00217374 10.25033344 10.65177099  8.09609738 10.65297633  9.07868879\n",
      " 13.26584318 12.10034885  5.22572961 10.11674548  6.08072266 11.45280655\n",
      "  7.94603001  7.5450171   6.36409838 11.48060381  9.76486143  8.82294091\n",
      "  9.13328816 12.27405102  7.30142119  9.0305725  14.55783077 10.88230096\n",
      " 10.22724053  6.14835043 11.49893427  9.13284513  8.06666036 10.87382239\n",
      "  9.26470307 11.41993779  8.80314162  9.45244727  7.78779729 11.06680531\n",
      "  6.86731621  6.94900448  8.61991805  6.83542014  9.33652783  9.71520208\n",
      " 16.31670054  9.30075799  9.95034485 19.32485332  5.83703005  9.66832629\n",
      " 10.76344693  9.4896919  10.38750241 14.2598636  10.79203591  9.9188277\n",
      "  6.16682933  7.72721163 11.46631906  7.54828522  9.94318812  4.9766482\n",
      "  8.59207526 10.49028969  7.48900209  9.09554415 10.61389544  6.48289226\n",
      "  7.75504008 10.15629842  6.6362569  10.34146017  9.4635011   6.15551179\n",
      " 11.007889    7.89682543  9.20825632  8.07342038  7.98387292 13.15279677\n",
      " 10.38482909 12.59528146  7.47620995  7.74500751  8.71798475 13.42522213\n",
      "  9.52661862  7.35762367  3.90620812  8.67836428  6.94856756  8.44064657\n",
      " 12.16079531 13.55558105  7.80624056 10.17888532  9.12101858 11.75119211\n",
      "  7.87783386 10.76948462 11.07711352 13.6536262  10.21799639  7.64722278\n",
      "  9.22583617  9.23285619 10.41292554  5.93067361 11.96579832 10.58946132\n",
      " 17.3401291  11.98151192 10.03740025  7.67827707 11.02792997 10.06515615\n",
      " -2.66660399  6.80567337  9.03777252 11.96508516  6.54448171  8.30159666\n",
      " 10.33473783 10.26085975 12.40126453  7.7183339   9.3607107  10.78647503\n",
      "  8.44579696 10.38298719  9.24122067  9.06116952 10.41305015 11.09627793\n",
      " 12.54839663 11.71204524 11.6340768  11.79259995  7.17510161 10.14644337\n",
      " 11.86286233  7.97727151 10.11577392  9.36905469 11.89889222 10.13629452\n",
      " 10.28165633 12.21883772 15.9583286  11.88780187 13.94673985 13.22957258\n",
      "  9.18174521  9.52133536  8.40233924  6.74461993  5.22517683 12.25195734\n",
      "  9.16431951  7.48120352 10.5919943   8.69367851 10.28897479 10.32921398\n",
      "  9.83756573 16.94685817  7.38389534 11.73559409 10.04456989  9.3651918\n",
      " 12.05630967  8.95402062 10.99969866 10.86125236 10.00024068  8.56152042\n",
      " 10.04940837  6.47706401  8.19879345  8.35586513  8.91799426  5.57834628\n",
      "  9.45581665 10.30800195 14.7577407  10.30326832  8.34589861 11.29624994\n",
      "  7.49993887  7.88372748  8.00210637  9.93885578  8.79483067  9.85475031\n",
      "  9.59766742  7.61691176  5.6141338   7.66762393  5.89668798 20.73884699\n",
      "  7.71398165 10.98294979 11.82881286 11.5672554   9.34194382 13.87202332\n",
      "  6.86569765 11.19639799  8.7961143  15.50924586 10.32665915 11.82237555\n",
      "  9.26991907  8.13608395  6.21868454 12.39331909  9.5551883  13.82267676\n",
      "  7.86198682 10.58167026 10.45591251 10.23084647  9.27620427 10.07433534\n",
      " 15.56041101 11.49630518  8.4017908   9.10803304  7.98755748  9.21260078\n",
      " 12.29621155 10.67893392 10.45854735  8.60252611  9.90220988 11.39741975\n",
      "  6.36346197  9.16164875  8.37064923  6.97025679 10.88732017  8.22783287\n",
      " 13.04659492  5.51115226 10.08874229  9.62732881  9.95049729  9.62506358\n",
      "  9.05323918 17.24598195  8.88117808 10.25874136  9.89287647  8.82345417\n",
      " 10.24068845 11.73269991  9.76167461  9.11033756  8.60913796 10.49041009\n",
      "  7.48469989 13.44913676 11.72267348  6.17879147  8.27372442  9.8519067\n",
      "  8.13626398  9.76795054 16.310931    8.62630738 18.14847459 10.01402579\n",
      "  7.10790313 13.30782323 11.5795209  14.57328957  6.71492028 10.3544595\n",
      "  9.18462586  8.3768575   9.26771262  8.8759624  11.98522075 11.26688523\n",
      " 13.33013439  8.80558341  8.99100445  8.64494304 13.26916969 12.49174971\n",
      " 14.12191329  7.588909   12.97597117  9.64175236 11.61672544 13.81874538\n",
      " 10.68422103 11.293936   10.36500244  8.97542793 10.00816018 10.21347062\n",
      " 12.0216317  12.95950124 12.22524006  5.13926702  9.63490864 13.13570864\n",
      " 10.08811863  9.57152273  7.01841155 11.05890793  5.90720531  9.25934808\n",
      "  8.31890282  6.921486   10.63739462  7.60384398  7.31478249 12.91746116\n",
      " 10.94148261 10.43020572 10.32093568 11.55129676  8.57795512 14.26479624\n",
      "  9.62810001  4.82697314  8.43065242  8.24823224 12.07301485  6.85925362\n",
      " 12.34706321  8.38120623  7.18083865 11.19316561  8.5948433   4.97677726\n",
      " 11.37954328  9.38737332 14.33400261 13.08930352  8.53493755 12.75439547\n",
      "  8.63794593 18.96355596  9.73370497  9.78203101 16.92476849 10.74225427\n",
      " 12.57010914  8.82579717  7.31479298  7.64156803 10.33221912  7.5699208\n",
      "  9.00407389  7.43848637  8.82781434  9.41998261 10.71235227 10.98557673\n",
      "  9.55632552  7.97951899 10.29287814 11.61009488 12.23720559  9.62387819\n",
      " 12.12056632 10.03255737  8.12597784  9.76074589 11.81871305  9.91751206\n",
      "  8.93768923  7.38141718  8.50810121 10.66319875  7.49651811 11.21598373\n",
      "  9.30565112  9.13197431  7.00020948 14.52339948  9.64241225  8.45730356\n",
      "  9.22340074  8.9636115   7.37278777 12.1775994  11.22581007 11.53614796\n",
      " 10.30054612  5.09993487 12.44917682  9.46542684  9.85169037 13.94749806\n",
      "  6.75883836  9.22077264 11.86800832 10.36461848  7.24212377  7.66246503\n",
      " 13.15767594  7.23432722  5.91419631 10.58069092 11.68522051  7.32872389\n",
      "  7.59685094  8.70688801 10.36710204  8.0683366   9.77813617  7.46702719\n",
      "  9.40780549  7.69676193  9.87845847  7.48458279 10.0212348  11.97529422\n",
      " 12.45859071  8.14055148  7.90682037  8.60592553  8.81945002  9.82548501\n",
      " 17.05091244  9.0824095   9.42654901  9.72804166 11.77974391  9.40903075\n",
      "  7.13814834  9.42329035 11.22486403 11.32039067  7.35363797 11.03431457\n",
      " 10.1518697   6.70251209 13.32632489  7.19917236  9.60554273  9.12002077\n",
      "  8.02889007  8.09219225 10.14682171  9.38377596 13.39585801  6.71416442\n",
      "  9.44374723  8.87227372 12.53474564 13.58405775 12.2907279   8.33582268\n",
      "  9.72777018  7.24327416  4.73348679 12.5588229   8.10356697 11.33860349\n",
      "  6.04246704  8.29662535  6.63532123  9.81233833  7.8665591  10.96086435\n",
      "  6.62436559  7.15082769  5.35171891 15.50750082  9.47456868  6.77763102\n",
      "  5.53686806 10.44413081 10.42098206 10.75732782  9.9486524   5.2360662\n",
      "  6.56696674 12.21056805  8.19994653  5.38309433  5.09902246 12.83428723\n",
      " 11.39318806  9.56786259  7.53629289 10.60243897  8.42443442 16.2113866\n",
      " 10.41232427 11.73834469  9.19295582 12.93166193  6.8697715  11.72586512\n",
      " 11.14420717  9.22182267 12.48808415 11.93013038 13.5612889   7.55093848\n",
      " 11.68495617  4.72101903 12.23863479 11.25378766  9.51829458  9.70360326\n",
      " 13.2235312   7.2760215  11.74783086 13.74267063  7.05830882 14.87420196\n",
      " 11.05621611 14.50018742 11.34179498  9.65118449  7.91490356 11.64180993\n",
      "  7.46683459  7.3828853   8.35181805  9.18964459  8.20727293 11.6028087\n",
      " 10.76572518 12.20471945 10.37164288  8.64154652  7.31655472  8.82345412\n",
      " 10.5151344   9.45171147 14.93051377  8.90835435 10.88255901 11.25534459\n",
      " 11.36455007  6.42906895  8.9789627   7.9228848   8.38674498  8.85610708\n",
      "  8.94548597  7.94076832 11.39101372 10.50464989 14.99305975 10.51596215\n",
      " 10.93636016 11.04216343  5.46214568  8.92842935 11.97763981  9.85179351\n",
      "  9.6098687   6.7304366   9.41087559  4.5529762   9.33084933  8.96017853\n",
      "  7.98578421 12.27268924  6.74755585  9.25323484 10.72072634  6.20597289\n",
      " 12.18350507 11.74293338  8.75529843 18.20129678  9.78296767  8.6419926\n",
      "  7.19529255 12.552491   10.15072187 11.31074514  7.87083831 11.49167828\n",
      "  5.37817981  7.22868916 14.2844013   7.52175631  8.34683523  9.28608771\n",
      " 10.28394667  7.12920906 11.13570772  9.92167696  8.5668381   6.26994494\n",
      " 12.13321124 11.1925401   8.63483434 10.84058746  8.57138295 10.13088226\n",
      "  9.83700306  7.72086316  7.29304975 14.1042929   7.58538514 11.842368\n",
      "  4.74650277  6.53447592  9.27656446 10.79785925 16.88112431 11.02871823\n",
      " 10.02528535 10.17048344 11.48112061 17.35601755  7.07040346 12.24968022\n",
      "  9.08865619  7.2946164   8.77205631  7.75721202  8.3874398  10.82458217\n",
      " 19.53420227 18.06422325  8.01717538 10.36202584  6.93471331 10.0713406\n",
      " 10.73841922 10.86047253 11.38536775 12.10147477  9.42292369 11.54949866\n",
      "  9.84245401  5.94340812 10.82316892 11.40903038 10.09165578  9.03981578\n",
      " 10.41102055  8.87526764 13.46442653  9.29503119  9.82466577  7.26440572\n",
      "  4.62188012  6.19115902 14.64278335 10.3895153   7.4305636   9.09779801\n",
      "  8.97669855  7.40035893 11.59799646  9.86330196 11.02888899 10.90429192\n",
      "  8.47679246 10.04849363  9.32475186 12.19938834 10.29212573  7.96838426\n",
      "  9.81594915 10.48905848  9.39663934 10.84793643  8.12742969  6.94788925\n",
      " 11.31706722  7.26222286]\n"
     ]
    }
   ],
   "source": [
    "pred_test=lr.predict(features_test)\n",
    "print(r2_score,target_test,pred_test)"
   ]
  },
  {
   "cell_type": "markdown",
   "id": "70813115",
   "metadata": {},
   "source": [
    "# Cross validation of the model"
   ]
  },
  {
   "cell_type": "code",
   "execution_count": 68,
   "id": "d543bb8b",
   "metadata": {},
   "outputs": [
    {
     "name": "stdout",
     "output_type": "stream",
     "text": [
      "At cross fold 2 the cv_score is 0.5049600381416257 and accuracy score for training is -0.5413843665361402 and accuracy score for testing is 0.5726080822066397\n",
      "\n",
      "\n",
      "At cross fold 3 the cv_score is 0.4860545677105094 and accuracy score for training is -0.5413843665361402 and accuracy score for testing is 0.5726080822066397\n",
      "\n",
      "\n",
      "At cross fold 4 the cv_score is 0.3694466723240796 and accuracy score for training is -0.5413843665361402 and accuracy score for testing is 0.5726080822066397\n",
      "\n",
      "\n",
      "At cross fold 5 the cv_score is 0.39765838566074274 and accuracy score for training is -0.5413843665361402 and accuracy score for testing is 0.5726080822066397\n",
      "\n",
      "\n",
      "At cross fold 6 the cv_score is 0.3739811247260276 and accuracy score for training is -0.5413843665361402 and accuracy score for testing is 0.5726080822066397\n",
      "\n",
      "\n",
      "At cross fold 7 the cv_score is 0.4277725341510744 and accuracy score for training is -0.5413843665361402 and accuracy score for testing is 0.5726080822066397\n",
      "\n",
      "\n",
      "At cross fold 8 the cv_score is 0.33576166213111874 and accuracy score for training is -0.5413843665361402 and accuracy score for testing is 0.5726080822066397\n",
      "\n",
      "\n",
      "At cross fold 9 the cv_score is 0.4081349572978713 and accuracy score for training is -0.5413843665361402 and accuracy score for testing is 0.5726080822066397\n",
      "\n",
      "\n"
     ]
    }
   ],
   "source": [
    "Train_accuracy=r2_score(target_train,pred_train)\n",
    "Test_accuracy=r2_score(target_test,pred_test)\n",
    "\n",
    "from sklearn.model_selection import cross_val_score\n",
    "for j in range(2,10):\n",
    "    cv_score=cross_val_score(lr,features,target,cv=j)\n",
    "    cv_mean=cv_score.mean()\n",
    "    print(f\"At cross fold {j} the cv_score is {cv_mean} and accuracy score for training is {Train_accuracy} and accuracy score for testing is {Test_accuracy}\")\n",
    "    print(\"\\n\")"
   ]
  },
  {
   "cell_type": "markdown",
   "id": "8d8943b5",
   "metadata": {},
   "source": [
    "# Plotting the Linear Regression Model"
   ]
  },
  {
   "cell_type": "code",
   "execution_count": 69,
   "id": "59f52923",
   "metadata": {},
   "outputs": [
    {
     "data": {
      "image/png": "[encoded data removed]",
      "text/plain": [
       "<Figure size 576x432 with 1 Axes>"
      ]
     },
     "metadata": {
      "needs_background": "light"
     },
     "output_type": "display_data"
    }
   ],
   "source": [
    "import matplotlib.pyplot as plt\n",
    "plt.figure(figsize=(8,6))\n",
    "plt.scatter(x=target_test, y=pred_test, color='r')\n",
    "plt.plot(target_test, target_test, color='b')\n",
    "plt.xlabel('Actual Rings',fontsize=14)\n",
    "plt.ylabel('Predicted Rings',fontsize=14)\n",
    "plt.title('Linear Regression',fontsize=18)\n",
    "plt.show()"
   ]
  },
  {
   "cell_type": "markdown",
   "id": "268859ad",
   "metadata": {},
   "source": [
    "# Regularization"
   ]
  },
  {
   "cell_type": "code",
   "execution_count": 70,
   "id": "bd14f27b",
   "metadata": {},
   "outputs": [],
   "source": [
    "from sklearn.model_selection import GridSearchCV\n",
    "from sklearn.model_selection import cross_val_score\n",
    "import warnings\n",
    "warnings.filterwarnings('ignore')"
   ]
  },
  {
   "cell_type": "code",
   "execution_count": 71,
   "id": "e5155984",
   "metadata": {},
   "outputs": [],
   "source": [
    "from sklearn.linear_model import Lasso"
   ]
  },
  {
   "cell_type": "code",
   "execution_count": 72,
   "id": "cc4d8638",
   "metadata": {},
   "outputs": [
    {
     "name": "stdout",
     "output_type": "stream",
     "text": [
      "{'alpha': 0.001, 'random_state': 0}\n"
     ]
    }
   ],
   "source": [
    "parameters={'alpha':[.0001,.001,.01,.1,1,10],'random_state':list(range(0,10))}\n",
    "ls = Lasso()\n",
    "clf=GridSearchCV(ls,parameters)\n",
    "clf.fit(features_train,target_train)\n",
    "\n",
    "print(clf.best_params_)"
   ]
  },
  {
   "cell_type": "code",
   "execution_count": 73,
   "id": "363df7fe",
   "metadata": {},
   "outputs": [
    {
     "data": {
      "text/plain": [
       "-0.0005164540710893561"
      ]
     },
     "execution_count": 73,
     "metadata": {},
     "output_type": "execute_result"
    }
   ],
   "source": [
    "ls=Lasso(alpha=1,random_state=0)\n",
    "ls.fit(features_train,target_train)\n",
    "ls.score(features_train,target_train)\n",
    "pred_ls=ls.predict(features_test)\n",
    "\n",
    "lss=r2_score(target_test,pred_ls)\n",
    "lss"
   ]
  },
  {
   "cell_type": "code",
   "execution_count": 74,
   "id": "910542f5",
   "metadata": {},
   "outputs": [
    {
     "data": {
      "text/plain": [
       "-0.2090330540722421"
      ]
     },
     "execution_count": 74,
     "metadata": {},
     "output_type": "execute_result"
    }
   ],
   "source": [
    "cv_score=cross_val_score(ls,features,target,cv=5)\n",
    "cv_mean=cv_score.mean()\n",
    "cv_mean"
   ]
  },
  {
   "cell_type": "markdown",
   "id": "54b68eef",
   "metadata": {},
   "source": [
    "# Ensemble Technique"
   ]
  },
  {
   "cell_type": "code",
   "execution_count": 75,
   "id": "a4e26bc8",
   "metadata": {},
   "outputs": [],
   "source": [
    "from sklearn.model_selection import GridSearchCV\n",
    "from sklearn.ensemble import RandomForestRegressor"
   ]
  },
  {
   "cell_type": "code",
   "execution_count": 76,
   "id": "06611189",
   "metadata": {},
   "outputs": [
    {
     "name": "stdout",
     "output_type": "stream",
     "text": [
      "{'criterion': 'mse', 'max_features': 'log2'}\n"
     ]
    }
   ],
   "source": [
    "parameters={'criterion':['mse','mae'],'max_features':[\"auto\",\"sqrt\",\"log2\"]}\n",
    "rf=RandomForestRegressor()\n",
    "clf=GridSearchCV(rf,parameters)\n",
    "clf.fit(features_train,target_train)\n",
    "\n",
    "print(clf.best_params_)"
   ]
  },
  {
   "cell_type": "code",
   "execution_count": 77,
   "id": "2bf596b4",
   "metadata": {},
   "outputs": [
    {
     "name": "stdout",
     "output_type": "stream",
     "text": [
      "R2 Score: 58.553295031596996\n",
      "Cross val score: 43.30814532623578\n"
     ]
    }
   ],
   "source": [
    "rf=RandomForestRegressor(criterion=\"mse\",max_features=\"auto\")\n",
    "rf.fit(features_train,target_train)\n",
    "rf.score(features_train,target_train)\n",
    "pred_decision=rf.predict(features_test)\n",
    "\n",
    "rfs=r2_score(target_test,pred_decision)\n",
    "print('R2 Score:',rfs*100)\n",
    "\n",
    "\n",
    "rfscore=cross_val_score(rf,features,target,cv=5)\n",
    "rfc=rfscore.mean()\n",
    "print('Cross val score:',rfc*100)"
   ]
  },
  {
   "cell_type": "markdown",
   "id": "ae2da64e",
   "metadata": {},
   "source": [
    "# Conclusion"
   ]
  },
  {
   "cell_type": "code",
   "execution_count": 80,
   "id": "63972a7d",
   "metadata": {},
   "outputs": [],
   "source": [
    "import pickle\n",
    "filename='rings.pkl'\n",
    "pickle.dump(rf,open(filename,'wb'))"
   ]
  },
  {
   "cell_type": "code",
   "execution_count": 81,
   "id": "3a151554",
   "metadata": {},
   "outputs": [
    {
     "name": "stdout",
     "output_type": "stream",
     "text": [
      "0.58553295031597\n"
     ]
    }
   ],
   "source": [
    "loaded_model=pickle.load(open('rings.pkl','rb'))\n",
    "result=loaded_model.score(features_test,target_test)\n",
    "print(result)"
   ]
  },
  {
   "cell_type": "code",
   "execution_count": 83,
   "id": "585cde2a",
   "metadata": {},
   "outputs": [
    {
     "data": {
      "text/html": [
       "<div>\n",
       "<style scoped>\n",
       "    .dataframe tbody tr th:only-of-type {\n",
       "        vertical-align: middle;\n",
       "    }\n",
       "\n",
       "    .dataframe tbody tr th {\n",
       "        vertical-align: top;\n",
       "    }\n",
       "\n",
       "    .dataframe thead th {\n",
       "        text-align: right;\n",
       "    }\n",
       "</style>\n",
       "<table border=\"1\" class=\"dataframe\">\n",
       "  <thead>\n",
       "    <tr style=\"text-align: right;\">\n",
       "      <th></th>\n",
       "      <th>0</th>\n",
       "      <th>1</th>\n",
       "      <th>2</th>\n",
       "      <th>3</th>\n",
       "      <th>4</th>\n",
       "      <th>5</th>\n",
       "      <th>6</th>\n",
       "      <th>7</th>\n",
       "      <th>8</th>\n",
       "      <th>9</th>\n",
       "      <th>...</th>\n",
       "      <th>826</th>\n",
       "      <th>827</th>\n",
       "      <th>828</th>\n",
       "      <th>829</th>\n",
       "      <th>830</th>\n",
       "      <th>831</th>\n",
       "      <th>832</th>\n",
       "      <th>833</th>\n",
       "      <th>834</th>\n",
       "      <th>835</th>\n",
       "    </tr>\n",
       "  </thead>\n",
       "  <tbody>\n",
       "    <tr>\n",
       "      <th>Predicted Rings of Abalone</th>\n",
       "      <td>10.75</td>\n",
       "      <td>15.45</td>\n",
       "      <td>10.4</td>\n",
       "      <td>11.65</td>\n",
       "      <td>9.57</td>\n",
       "      <td>9.41</td>\n",
       "      <td>11.51</td>\n",
       "      <td>10.76</td>\n",
       "      <td>8.47</td>\n",
       "      <td>9.09</td>\n",
       "      <td>...</td>\n",
       "      <td>9.67</td>\n",
       "      <td>7.53</td>\n",
       "      <td>9.83</td>\n",
       "      <td>10.96</td>\n",
       "      <td>9.58</td>\n",
       "      <td>10.08</td>\n",
       "      <td>9.14</td>\n",
       "      <td>8.79</td>\n",
       "      <td>11.95</td>\n",
       "      <td>6.22</td>\n",
       "    </tr>\n",
       "    <tr>\n",
       "      <th>Original Rings of Abalone</th>\n",
       "      <td>10.75</td>\n",
       "      <td>15.45</td>\n",
       "      <td>10.4</td>\n",
       "      <td>11.65</td>\n",
       "      <td>9.57</td>\n",
       "      <td>9.41</td>\n",
       "      <td>11.51</td>\n",
       "      <td>10.76</td>\n",
       "      <td>8.47</td>\n",
       "      <td>9.09</td>\n",
       "      <td>...</td>\n",
       "      <td>9.67</td>\n",
       "      <td>7.53</td>\n",
       "      <td>9.83</td>\n",
       "      <td>10.96</td>\n",
       "      <td>9.58</td>\n",
       "      <td>10.08</td>\n",
       "      <td>9.14</td>\n",
       "      <td>8.79</td>\n",
       "      <td>11.95</td>\n",
       "      <td>6.22</td>\n",
       "    </tr>\n",
       "  </tbody>\n",
       "</table>\n",
       "<p>2 rows × 836 columns</p>\n",
       "</div>"
      ],
      "text/plain": [
       "                              0      1     2      3     4     5      6    \\\n",
       "Predicted Rings of Abalone  10.75  15.45  10.4  11.65  9.57  9.41  11.51   \n",
       "Original Rings of Abalone   10.75  15.45  10.4  11.65  9.57  9.41  11.51   \n",
       "\n",
       "                              7     8     9    ...   826   827   828    829  \\\n",
       "Predicted Rings of Abalone  10.76  8.47  9.09  ...  9.67  7.53  9.83  10.96   \n",
       "Original Rings of Abalone   10.76  8.47  9.09  ...  9.67  7.53  9.83  10.96   \n",
       "\n",
       "                             830    831   832   833    834   835  \n",
       "Predicted Rings of Abalone  9.58  10.08  9.14  8.79  11.95  6.22  \n",
       "Original Rings of Abalone   9.58  10.08  9.14  8.79  11.95  6.22  \n",
       "\n",
       "[2 rows x 836 columns]"
      ]
     },
     "execution_count": 83,
     "metadata": {},
     "output_type": "execute_result"
    }
   ],
   "source": [
    "conclusion=pd.DataFrame([loaded_model.predict(features_test)[:],pred_decision[:]],index=[\"Predicted Rings of Abalone\",\"Original Rings of Abalone\"])\n",
    "conclusion"
   ]
  },
  {
   "cell_type": "code",
   "execution_count": null,
   "id": "24585c35",
   "metadata": {},
   "outputs": [],
   "source": []
  }
 ],
 "metadata": {
  "kernelspec": {
   "display_name": "Python 3 (ipykernel)",
   "language": "python",
   "name": "python3"
  },
  "language_info": {
   "codemirror_mode": {
    "name": "ipython",
    "version": 3
   },
   "file_extension": ".py",
   "mimetype": "text/x-python",
   "name": "python",
   "nbconvert_exporter": "python",
   "pygments_lexer": "ipython3",
   "version": "3.9.7"
  }
 },
 "nbformat": 4,
 "nbformat_minor": 5
}
